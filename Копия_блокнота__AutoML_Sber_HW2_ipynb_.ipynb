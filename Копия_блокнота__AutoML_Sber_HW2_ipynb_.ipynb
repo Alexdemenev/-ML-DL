{
  "cells": [
    {
      "cell_type": "markdown",
      "id": "combined-reset",
      "metadata": {
        "papermill": {
          "duration": 0.018722,
          "end_time": "2021-04-28T12:56:47.495712",
          "exception": false,
          "start_time": "2021-04-28T12:56:47.476990",
          "status": "completed"
        },
        "tags": [],
        "id": "combined-reset"
      },
      "source": [
        "В рамках домашнего задания мы предлагаем вам поучаствовать в соревновании [Kaggle](https://www.kaggle.com/t/7e9b43b6978b4c18a58c6b60a2da2ed8). В этом соревновании вы будете прогнозировать цены на автомобили с помощью фрэймворка для AutoML [LightAutoML](https://github.com/sberbank-ai-lab/LightAutoML) by Sberbank AI Lab.\n",
        "\n",
        "\n",
        "Сначала вы получите базовое решение, а затем сможете посоревноваться между собой и другими участниками на платформе Kaggle.\n",
        "\n",
        "\n",
        "\n",
        "\n"
      ]
    },
    {
      "cell_type": "markdown",
      "source": [
        "# Установка необходимых пакетов и загрузка данных"
      ],
      "metadata": {
        "id": "FeIsr-VQfTZ9"
      },
      "id": "FeIsr-VQfTZ9"
    },
    {
      "cell_type": "code",
      "execution_count": 1,
      "id": "grand-category",
      "metadata": {
        "_kg_hide-output": true,
        "execution": {
          "iopub.execute_input": "2021-04-28T12:56:47.536638Z",
          "iopub.status.busy": "2021-04-28T12:56:47.534682Z",
          "iopub.status.idle": "2021-04-28T12:57:09.402121Z",
          "shell.execute_reply": "2021-04-28T12:57:09.402630Z"
        },
        "papermill": {
          "duration": 21.889875,
          "end_time": "2021-04-28T12:57:09.402943",
          "exception": false,
          "start_time": "2021-04-28T12:56:47.513068",
          "status": "completed"
        },
        "scrolled": true,
        "tags": [],
        "id": "grand-category"
      },
      "outputs": [],
      "source": [
        "# Google Colab has some problem with install lightautoml\n",
        "# So, we need to straightforward highlight the last version of packge\n",
        "!pip install transformers # additional lib for lightautonl (optional)\n",
        "!pip install lightautoml==0.3.8b1 # lightautoml\n",
        "\n",
        "# If you work on your own computer, you can use\n",
        "#!pip install -U lightautoml\n",
        "\n",
        "# additional\n",
        "!pip install multiprocessing\n",
        "\n",
        "!pip install gdown # for data loading\n",
        "!gdown 1O7n3ztzKWpY6x2vha7uuKBqksE1LjhEn # load training data\n",
        "!gdown 1gvTvn71-K6mIm_hvBWl9XKKtcqNuoRhp # load test data\n",
        "!gdown 1LyayILm9dUzifg55h3w1eAHkizGMOgxZ # load sample submission\n",
        "\n",
        "from IPython.display import clear_output\n",
        "clear_output()"
      ]
    },
    {
      "cell_type": "markdown",
      "id": "defensive-private",
      "metadata": {
        "papermill": {
          "duration": 0.050046,
          "end_time": "2021-04-28T12:57:09.505631",
          "exception": false,
          "start_time": "2021-04-28T12:57:09.455585",
          "status": "completed"
        },
        "tags": [],
        "id": "defensive-private"
      },
      "source": [
        "# Импортирование необходимых библиотек"
      ]
    },
    {
      "cell_type": "code",
      "execution_count": 2,
      "id": "scientific-taxation",
      "metadata": {
        "execution": {
          "iopub.execute_input": "2021-04-28T12:57:09.615051Z",
          "iopub.status.busy": "2021-04-28T12:57:09.614068Z",
          "iopub.status.idle": "2021-04-28T12:57:17.401916Z",
          "shell.execute_reply": "2021-04-28T12:57:17.400751Z"
        },
        "papermill": {
          "duration": 7.84521,
          "end_time": "2021-04-28T12:57:17.402079",
          "exception": false,
          "start_time": "2021-04-28T12:57:09.556869",
          "status": "completed"
        },
        "tags": [],
        "id": "scientific-taxation"
      },
      "outputs": [],
      "source": [
        "import multiprocessing as mp\n",
        "import pandas as pd\n",
        "\n",
        "from sklearn.metrics import mean_absolute_error\n",
        "from lightautoml.automl.presets.tabular_presets import TabularAutoML\n",
        "from lightautoml.tasks import Task"
      ]
    },
    {
      "cell_type": "markdown",
      "id": "silent-compensation",
      "metadata": {
        "papermill": {
          "duration": 0.051175,
          "end_time": "2021-04-28T12:57:17.719869",
          "exception": false,
          "start_time": "2021-04-28T12:57:17.668694",
          "status": "completed"
        },
        "tags": [],
        "id": "silent-compensation"
      },
      "source": [
        "# Загрузка данных\n",
        "\n",
        "Данные соревнования представляют собой таблицы с некоторым набором характеристик машин и целевой переменной - цена продажи.\n",
        "\n",
        "Описание признаков:\n",
        "* row_id - ID машины\n",
        "* vehicle_manufacturer - производитель машины\n",
        "* vehicle_model - модель машины\n",
        "* vehicle_category - тип кузова\n",
        "* current_mileage - текущий пробег\n",
        "* vehicle_year - год выпуска\n",
        "* vehicle_gearbox_type - тип коробки передач\n",
        "* doors_cnt - кол-во дверей\n",
        "* wheels - тип машины (праворульная/леворульная)\n",
        "* vehicle_color - цвет машины\n",
        "* vehicle_interior_color - цвет салона\n",
        "* car_vin - идентификационный номер машины\n",
        "* car_leather_interior - идентификатор, кожаный ли салон\n",
        "* deal_type - машина продается или арендуется\n",
        "\n",
        "**Целевая переменная** - final_price\n",
        "\n",
        "Загрузим обучающую и тестовую выборки и посмотрим на них."
      ]
    },
    {
      "cell_type": "code",
      "execution_count": 3,
      "id": "aware-qualification",
      "metadata": {
        "execution": {
          "iopub.execute_input": "2021-04-28T12:57:17.825751Z",
          "iopub.status.busy": "2021-04-28T12:57:17.825055Z",
          "iopub.status.idle": "2021-04-28T12:57:18.054809Z",
          "shell.execute_reply": "2021-04-28T12:57:18.055373Z"
        },
        "papermill": {
          "duration": 0.284441,
          "end_time": "2021-04-28T12:57:18.055641",
          "exception": false,
          "start_time": "2021-04-28T12:57:17.771200",
          "status": "completed"
        },
        "tags": [],
        "colab": {
          "base_uri": "https://localhost:8080/",
          "height": 374
        },
        "id": "aware-qualification",
        "outputId": "0a21e937-54be-476d-dcdb-5b3a0f449ca4"
      },
      "outputs": [
        {
          "output_type": "execute_result",
          "data": {
            "text/plain": [
              "   row_ID vehicle_manufacturer vehicle_model vehicle_category  \\\n",
              "0       0               TOYOTA        Aqua s            Sedan   \n",
              "1       1        MERCEDES-BENZ         C 220            Sedan   \n",
              "2       2              HYUNDAI      Veloster        Hatchback   \n",
              "3       3              HYUNDAI      Santa FE             Jeep   \n",
              "4       4               TOYOTA           CHR             Jeep   \n",
              "\n",
              "   current_mileage  vehicle_year vehicle_gearbox_type doors_cnt  \\\n",
              "0           133000          2014            Automatic       4/5   \n",
              "1            24500          2010               Manual       4/5   \n",
              "2            31000          2016            Tiptronic       2/3   \n",
              "3           115459          2015            Automatic       4/5   \n",
              "4            18950          2019            Automatic       4/5   \n",
              "\n",
              "                  wheels vehicle_color vehicle_interior_color  \\\n",
              "0    Right-hand drive          Silver                  Black    \n",
              "1           Left wheel         Silver                  Black    \n",
              "2           Left wheel         Silver                  Black    \n",
              "3           Left wheel           Blue                  Black    \n",
              "4           Left wheel          Black                     NaN   \n",
              "\n",
              "               car_vin  car_leather_interior deal_type  final_price  \n",
              "0                  NaN                     0  For Sale       3650.0  \n",
              "1                  NaN                     0  For Sale       6800.0  \n",
              "2   KMHTC6AE3GU293912                      1  For Sale       6300.0  \n",
              "3                  NaN                     1  For Sale      14488.0  \n",
              "4   JTNKHMBX7K1030253                      1  For Sale       5000.0  "
            ],
            "text/html": [
              "\n",
              "\n",
              "  <div id=\"df-90be28b3-74b7-415a-a06e-c4e6768e948c\">\n",
              "    <div class=\"colab-df-container\">\n",
              "      <div>\n",
              "<style scoped>\n",
              "    .dataframe tbody tr th:only-of-type {\n",
              "        vertical-align: middle;\n",
              "    }\n",
              "\n",
              "    .dataframe tbody tr th {\n",
              "        vertical-align: top;\n",
              "    }\n",
              "\n",
              "    .dataframe thead th {\n",
              "        text-align: right;\n",
              "    }\n",
              "</style>\n",
              "<table border=\"1\" class=\"dataframe\">\n",
              "  <thead>\n",
              "    <tr style=\"text-align: right;\">\n",
              "      <th></th>\n",
              "      <th>row_ID</th>\n",
              "      <th>vehicle_manufacturer</th>\n",
              "      <th>vehicle_model</th>\n",
              "      <th>vehicle_category</th>\n",
              "      <th>current_mileage</th>\n",
              "      <th>vehicle_year</th>\n",
              "      <th>vehicle_gearbox_type</th>\n",
              "      <th>doors_cnt</th>\n",
              "      <th>wheels</th>\n",
              "      <th>vehicle_color</th>\n",
              "      <th>vehicle_interior_color</th>\n",
              "      <th>car_vin</th>\n",
              "      <th>car_leather_interior</th>\n",
              "      <th>deal_type</th>\n",
              "      <th>final_price</th>\n",
              "    </tr>\n",
              "  </thead>\n",
              "  <tbody>\n",
              "    <tr>\n",
              "      <th>0</th>\n",
              "      <td>0</td>\n",
              "      <td>TOYOTA</td>\n",
              "      <td>Aqua s</td>\n",
              "      <td>Sedan</td>\n",
              "      <td>133000</td>\n",
              "      <td>2014</td>\n",
              "      <td>Automatic</td>\n",
              "      <td>4/5</td>\n",
              "      <td>Right-hand drive</td>\n",
              "      <td>Silver</td>\n",
              "      <td>Black</td>\n",
              "      <td>NaN</td>\n",
              "      <td>0</td>\n",
              "      <td>For Sale</td>\n",
              "      <td>3650.0</td>\n",
              "    </tr>\n",
              "    <tr>\n",
              "      <th>1</th>\n",
              "      <td>1</td>\n",
              "      <td>MERCEDES-BENZ</td>\n",
              "      <td>C 220</td>\n",
              "      <td>Sedan</td>\n",
              "      <td>24500</td>\n",
              "      <td>2010</td>\n",
              "      <td>Manual</td>\n",
              "      <td>4/5</td>\n",
              "      <td>Left wheel</td>\n",
              "      <td>Silver</td>\n",
              "      <td>Black</td>\n",
              "      <td>NaN</td>\n",
              "      <td>0</td>\n",
              "      <td>For Sale</td>\n",
              "      <td>6800.0</td>\n",
              "    </tr>\n",
              "    <tr>\n",
              "      <th>2</th>\n",
              "      <td>2</td>\n",
              "      <td>HYUNDAI</td>\n",
              "      <td>Veloster</td>\n",
              "      <td>Hatchback</td>\n",
              "      <td>31000</td>\n",
              "      <td>2016</td>\n",
              "      <td>Tiptronic</td>\n",
              "      <td>2/3</td>\n",
              "      <td>Left wheel</td>\n",
              "      <td>Silver</td>\n",
              "      <td>Black</td>\n",
              "      <td>KMHTC6AE3GU293912</td>\n",
              "      <td>1</td>\n",
              "      <td>For Sale</td>\n",
              "      <td>6300.0</td>\n",
              "    </tr>\n",
              "    <tr>\n",
              "      <th>3</th>\n",
              "      <td>3</td>\n",
              "      <td>HYUNDAI</td>\n",
              "      <td>Santa FE</td>\n",
              "      <td>Jeep</td>\n",
              "      <td>115459</td>\n",
              "      <td>2015</td>\n",
              "      <td>Automatic</td>\n",
              "      <td>4/5</td>\n",
              "      <td>Left wheel</td>\n",
              "      <td>Blue</td>\n",
              "      <td>Black</td>\n",
              "      <td>NaN</td>\n",
              "      <td>1</td>\n",
              "      <td>For Sale</td>\n",
              "      <td>14488.0</td>\n",
              "    </tr>\n",
              "    <tr>\n",
              "      <th>4</th>\n",
              "      <td>4</td>\n",
              "      <td>TOYOTA</td>\n",
              "      <td>CHR</td>\n",
              "      <td>Jeep</td>\n",
              "      <td>18950</td>\n",
              "      <td>2019</td>\n",
              "      <td>Automatic</td>\n",
              "      <td>4/5</td>\n",
              "      <td>Left wheel</td>\n",
              "      <td>Black</td>\n",
              "      <td>NaN</td>\n",
              "      <td>JTNKHMBX7K1030253</td>\n",
              "      <td>1</td>\n",
              "      <td>For Sale</td>\n",
              "      <td>5000.0</td>\n",
              "    </tr>\n",
              "  </tbody>\n",
              "</table>\n",
              "</div>\n",
              "      <button class=\"colab-df-convert\" onclick=\"convertToInteractive('df-90be28b3-74b7-415a-a06e-c4e6768e948c')\"\n",
              "              title=\"Convert this dataframe to an interactive table.\"\n",
              "              style=\"display:none;\">\n",
              "\n",
              "  <svg xmlns=\"http://www.w3.org/2000/svg\" height=\"24px\"viewBox=\"0 0 24 24\"\n",
              "       width=\"24px\">\n",
              "    <path d=\"M0 0h24v24H0V0z\" fill=\"none\"/>\n",
              "    <path d=\"M18.56 5.44l.94 2.06.94-2.06 2.06-.94-2.06-.94-.94-2.06-.94 2.06-2.06.94zm-11 1L8.5 8.5l.94-2.06 2.06-.94-2.06-.94L8.5 2.5l-.94 2.06-2.06.94zm10 10l.94 2.06.94-2.06 2.06-.94-2.06-.94-.94-2.06-.94 2.06-2.06.94z\"/><path d=\"M17.41 7.96l-1.37-1.37c-.4-.4-.92-.59-1.43-.59-.52 0-1.04.2-1.43.59L10.3 9.45l-7.72 7.72c-.78.78-.78 2.05 0 2.83L4 21.41c.39.39.9.59 1.41.59.51 0 1.02-.2 1.41-.59l7.78-7.78 2.81-2.81c.8-.78.8-2.07 0-2.86zM5.41 20L4 18.59l7.72-7.72 1.47 1.35L5.41 20z\"/>\n",
              "  </svg>\n",
              "      </button>\n",
              "\n",
              "\n",
              "\n",
              "    <div id=\"df-8e93b78c-105f-4a43-9d3e-30a115c20e82\">\n",
              "      <button class=\"colab-df-quickchart\" onclick=\"quickchart('df-8e93b78c-105f-4a43-9d3e-30a115c20e82')\"\n",
              "              title=\"Suggest charts.\"\n",
              "              style=\"display:none;\">\n",
              "\n",
              "<svg xmlns=\"http://www.w3.org/2000/svg\" height=\"24px\"viewBox=\"0 0 24 24\"\n",
              "     width=\"24px\">\n",
              "    <g>\n",
              "        <path d=\"M19 3H5c-1.1 0-2 .9-2 2v14c0 1.1.9 2 2 2h14c1.1 0 2-.9 2-2V5c0-1.1-.9-2-2-2zM9 17H7v-7h2v7zm4 0h-2V7h2v10zm4 0h-2v-4h2v4z\"/>\n",
              "    </g>\n",
              "</svg>\n",
              "      </button>\n",
              "    </div>\n",
              "\n",
              "<style>\n",
              "  .colab-df-quickchart {\n",
              "    background-color: #E8F0FE;\n",
              "    border: none;\n",
              "    border-radius: 50%;\n",
              "    cursor: pointer;\n",
              "    display: none;\n",
              "    fill: #1967D2;\n",
              "    height: 32px;\n",
              "    padding: 0 0 0 0;\n",
              "    width: 32px;\n",
              "  }\n",
              "\n",
              "  .colab-df-quickchart:hover {\n",
              "    background-color: #E2EBFA;\n",
              "    box-shadow: 0px 1px 2px rgba(60, 64, 67, 0.3), 0px 1px 3px 1px rgba(60, 64, 67, 0.15);\n",
              "    fill: #174EA6;\n",
              "  }\n",
              "\n",
              "  [theme=dark] .colab-df-quickchart {\n",
              "    background-color: #3B4455;\n",
              "    fill: #D2E3FC;\n",
              "  }\n",
              "\n",
              "  [theme=dark] .colab-df-quickchart:hover {\n",
              "    background-color: #434B5C;\n",
              "    box-shadow: 0px 1px 3px 1px rgba(0, 0, 0, 0.15);\n",
              "    filter: drop-shadow(0px 1px 2px rgba(0, 0, 0, 0.3));\n",
              "    fill: #FFFFFF;\n",
              "  }\n",
              "</style>\n",
              "\n",
              "    <script>\n",
              "      async function quickchart(key) {\n",
              "        const containerElement = document.querySelector('#' + key);\n",
              "        const charts = await google.colab.kernel.invokeFunction(\n",
              "            'suggestCharts', [key], {});\n",
              "      }\n",
              "    </script>\n",
              "\n",
              "      <script>\n",
              "\n",
              "function displayQuickchartButton(domScope) {\n",
              "  let quickchartButtonEl =\n",
              "    domScope.querySelector('#df-8e93b78c-105f-4a43-9d3e-30a115c20e82 button.colab-df-quickchart');\n",
              "  quickchartButtonEl.style.display =\n",
              "    google.colab.kernel.accessAllowed ? 'block' : 'none';\n",
              "}\n",
              "\n",
              "        displayQuickchartButton(document);\n",
              "      </script>\n",
              "      <style>\n",
              "    .colab-df-container {\n",
              "      display:flex;\n",
              "      flex-wrap:wrap;\n",
              "      gap: 12px;\n",
              "    }\n",
              "\n",
              "    .colab-df-convert {\n",
              "      background-color: #E8F0FE;\n",
              "      border: none;\n",
              "      border-radius: 50%;\n",
              "      cursor: pointer;\n",
              "      display: none;\n",
              "      fill: #1967D2;\n",
              "      height: 32px;\n",
              "      padding: 0 0 0 0;\n",
              "      width: 32px;\n",
              "    }\n",
              "\n",
              "    .colab-df-convert:hover {\n",
              "      background-color: #E2EBFA;\n",
              "      box-shadow: 0px 1px 2px rgba(60, 64, 67, 0.3), 0px 1px 3px 1px rgba(60, 64, 67, 0.15);\n",
              "      fill: #174EA6;\n",
              "    }\n",
              "\n",
              "    [theme=dark] .colab-df-convert {\n",
              "      background-color: #3B4455;\n",
              "      fill: #D2E3FC;\n",
              "    }\n",
              "\n",
              "    [theme=dark] .colab-df-convert:hover {\n",
              "      background-color: #434B5C;\n",
              "      box-shadow: 0px 1px 3px 1px rgba(0, 0, 0, 0.15);\n",
              "      filter: drop-shadow(0px 1px 2px rgba(0, 0, 0, 0.3));\n",
              "      fill: #FFFFFF;\n",
              "    }\n",
              "  </style>\n",
              "\n",
              "      <script>\n",
              "        const buttonEl =\n",
              "          document.querySelector('#df-90be28b3-74b7-415a-a06e-c4e6768e948c button.colab-df-convert');\n",
              "        buttonEl.style.display =\n",
              "          google.colab.kernel.accessAllowed ? 'block' : 'none';\n",
              "\n",
              "        async function convertToInteractive(key) {\n",
              "          const element = document.querySelector('#df-90be28b3-74b7-415a-a06e-c4e6768e948c');\n",
              "          const dataTable =\n",
              "            await google.colab.kernel.invokeFunction('convertToInteractive',\n",
              "                                                     [key], {});\n",
              "          if (!dataTable) return;\n",
              "\n",
              "          const docLinkHtml = 'Like what you see? Visit the ' +\n",
              "            '<a target=\"_blank\" href=https://colab.research.google.com/notebooks/data_table.ipynb>data table notebook</a>'\n",
              "            + ' to learn more about interactive tables.';\n",
              "          element.innerHTML = '';\n",
              "          dataTable['output_type'] = 'display_data';\n",
              "          await google.colab.output.renderOutput(dataTable, element);\n",
              "          const docLink = document.createElement('div');\n",
              "          docLink.innerHTML = docLinkHtml;\n",
              "          element.appendChild(docLink);\n",
              "        }\n",
              "      </script>\n",
              "    </div>\n",
              "  </div>\n"
            ]
          },
          "metadata": {},
          "execution_count": 3
        }
      ],
      "source": [
        "train_data = pd.read_csv('./train_data.csv')\n",
        "train_data.head()"
      ]
    },
    {
      "cell_type": "code",
      "execution_count": 4,
      "id": "eastern-hungary",
      "metadata": {
        "execution": {
          "iopub.execute_input": "2021-04-28T12:57:18.167784Z",
          "iopub.status.busy": "2021-04-28T12:57:18.166961Z",
          "iopub.status.idle": "2021-04-28T12:57:18.244669Z",
          "shell.execute_reply": "2021-04-28T12:57:18.244015Z"
        },
        "papermill": {
          "duration": 0.134764,
          "end_time": "2021-04-28T12:57:18.244813",
          "exception": false,
          "start_time": "2021-04-28T12:57:18.110049",
          "status": "completed"
        },
        "tags": [],
        "colab": {
          "base_uri": "https://localhost:8080/",
          "height": 357
        },
        "id": "eastern-hungary",
        "outputId": "de68c721-4f8c-4517-b02b-3324de1bae07"
      },
      "outputs": [
        {
          "output_type": "execute_result",
          "data": {
            "text/plain": [
              "   row_ID vehicle_manufacturer vehicle_model vehicle_category  \\\n",
              "0   35000               TOYOTA         Prius        Hatchback   \n",
              "1   35001              HYUNDAI       Elantra            Sedan   \n",
              "2   35002                LEXUS        NX 300             Jeep   \n",
              "3   35003                LEXUS       CT 200h        Hatchback   \n",
              "4   35004               TOYOTA         RAV 4             Jeep   \n",
              "\n",
              "   current_mileage  vehicle_year vehicle_gearbox_type doors_cnt  \\\n",
              "0           323733          2012            Automatic       4/5   \n",
              "1           112000          2013            Tiptronic       4/5   \n",
              "2            16920          2018            Automatic       NaN   \n",
              "3           302742          2012            Automatic       4/5   \n",
              "4             1800          2002               Manual       4/5   \n",
              "\n",
              "           wheels vehicle_color vehicle_interior_color              car_vin  \\\n",
              "0    Left wheel           Grey                  Black    JTDKN3DU6C5439638    \n",
              "1    Left wheel           Grey                  Black            SURATSHIA    \n",
              "2    Left wheel          Brown                     NaN   JTJYARBZ5J2104521    \n",
              "3    Left wheel          White                     NaN   JTHKD5BH4C2070945    \n",
              "4    Left wheel         Silver                  Black                   NaN   \n",
              "\n",
              "   car_leather_interior deal_type  \n",
              "0                     1  For Sale  \n",
              "1                     1  For Sale  \n",
              "2                     1  For Sale  \n",
              "3                     1  For Sale  \n",
              "4                     0  For Sale  "
            ],
            "text/html": [
              "\n",
              "\n",
              "  <div id=\"df-fc2e448d-f03f-47c5-bfc4-9a8d73ac39cb\">\n",
              "    <div class=\"colab-df-container\">\n",
              "      <div>\n",
              "<style scoped>\n",
              "    .dataframe tbody tr th:only-of-type {\n",
              "        vertical-align: middle;\n",
              "    }\n",
              "\n",
              "    .dataframe tbody tr th {\n",
              "        vertical-align: top;\n",
              "    }\n",
              "\n",
              "    .dataframe thead th {\n",
              "        text-align: right;\n",
              "    }\n",
              "</style>\n",
              "<table border=\"1\" class=\"dataframe\">\n",
              "  <thead>\n",
              "    <tr style=\"text-align: right;\">\n",
              "      <th></th>\n",
              "      <th>row_ID</th>\n",
              "      <th>vehicle_manufacturer</th>\n",
              "      <th>vehicle_model</th>\n",
              "      <th>vehicle_category</th>\n",
              "      <th>current_mileage</th>\n",
              "      <th>vehicle_year</th>\n",
              "      <th>vehicle_gearbox_type</th>\n",
              "      <th>doors_cnt</th>\n",
              "      <th>wheels</th>\n",
              "      <th>vehicle_color</th>\n",
              "      <th>vehicle_interior_color</th>\n",
              "      <th>car_vin</th>\n",
              "      <th>car_leather_interior</th>\n",
              "      <th>deal_type</th>\n",
              "    </tr>\n",
              "  </thead>\n",
              "  <tbody>\n",
              "    <tr>\n",
              "      <th>0</th>\n",
              "      <td>35000</td>\n",
              "      <td>TOYOTA</td>\n",
              "      <td>Prius</td>\n",
              "      <td>Hatchback</td>\n",
              "      <td>323733</td>\n",
              "      <td>2012</td>\n",
              "      <td>Automatic</td>\n",
              "      <td>4/5</td>\n",
              "      <td>Left wheel</td>\n",
              "      <td>Grey</td>\n",
              "      <td>Black</td>\n",
              "      <td>JTDKN3DU6C5439638</td>\n",
              "      <td>1</td>\n",
              "      <td>For Sale</td>\n",
              "    </tr>\n",
              "    <tr>\n",
              "      <th>1</th>\n",
              "      <td>35001</td>\n",
              "      <td>HYUNDAI</td>\n",
              "      <td>Elantra</td>\n",
              "      <td>Sedan</td>\n",
              "      <td>112000</td>\n",
              "      <td>2013</td>\n",
              "      <td>Tiptronic</td>\n",
              "      <td>4/5</td>\n",
              "      <td>Left wheel</td>\n",
              "      <td>Grey</td>\n",
              "      <td>Black</td>\n",
              "      <td>SURATSHIA</td>\n",
              "      <td>1</td>\n",
              "      <td>For Sale</td>\n",
              "    </tr>\n",
              "    <tr>\n",
              "      <th>2</th>\n",
              "      <td>35002</td>\n",
              "      <td>LEXUS</td>\n",
              "      <td>NX 300</td>\n",
              "      <td>Jeep</td>\n",
              "      <td>16920</td>\n",
              "      <td>2018</td>\n",
              "      <td>Automatic</td>\n",
              "      <td>NaN</td>\n",
              "      <td>Left wheel</td>\n",
              "      <td>Brown</td>\n",
              "      <td>NaN</td>\n",
              "      <td>JTJYARBZ5J2104521</td>\n",
              "      <td>1</td>\n",
              "      <td>For Sale</td>\n",
              "    </tr>\n",
              "    <tr>\n",
              "      <th>3</th>\n",
              "      <td>35003</td>\n",
              "      <td>LEXUS</td>\n",
              "      <td>CT 200h</td>\n",
              "      <td>Hatchback</td>\n",
              "      <td>302742</td>\n",
              "      <td>2012</td>\n",
              "      <td>Automatic</td>\n",
              "      <td>4/5</td>\n",
              "      <td>Left wheel</td>\n",
              "      <td>White</td>\n",
              "      <td>NaN</td>\n",
              "      <td>JTHKD5BH4C2070945</td>\n",
              "      <td>1</td>\n",
              "      <td>For Sale</td>\n",
              "    </tr>\n",
              "    <tr>\n",
              "      <th>4</th>\n",
              "      <td>35004</td>\n",
              "      <td>TOYOTA</td>\n",
              "      <td>RAV 4</td>\n",
              "      <td>Jeep</td>\n",
              "      <td>1800</td>\n",
              "      <td>2002</td>\n",
              "      <td>Manual</td>\n",
              "      <td>4/5</td>\n",
              "      <td>Left wheel</td>\n",
              "      <td>Silver</td>\n",
              "      <td>Black</td>\n",
              "      <td>NaN</td>\n",
              "      <td>0</td>\n",
              "      <td>For Sale</td>\n",
              "    </tr>\n",
              "  </tbody>\n",
              "</table>\n",
              "</div>\n",
              "      <button class=\"colab-df-convert\" onclick=\"convertToInteractive('df-fc2e448d-f03f-47c5-bfc4-9a8d73ac39cb')\"\n",
              "              title=\"Convert this dataframe to an interactive table.\"\n",
              "              style=\"display:none;\">\n",
              "\n",
              "  <svg xmlns=\"http://www.w3.org/2000/svg\" height=\"24px\"viewBox=\"0 0 24 24\"\n",
              "       width=\"24px\">\n",
              "    <path d=\"M0 0h24v24H0V0z\" fill=\"none\"/>\n",
              "    <path d=\"M18.56 5.44l.94 2.06.94-2.06 2.06-.94-2.06-.94-.94-2.06-.94 2.06-2.06.94zm-11 1L8.5 8.5l.94-2.06 2.06-.94-2.06-.94L8.5 2.5l-.94 2.06-2.06.94zm10 10l.94 2.06.94-2.06 2.06-.94-2.06-.94-.94-2.06-.94 2.06-2.06.94z\"/><path d=\"M17.41 7.96l-1.37-1.37c-.4-.4-.92-.59-1.43-.59-.52 0-1.04.2-1.43.59L10.3 9.45l-7.72 7.72c-.78.78-.78 2.05 0 2.83L4 21.41c.39.39.9.59 1.41.59.51 0 1.02-.2 1.41-.59l7.78-7.78 2.81-2.81c.8-.78.8-2.07 0-2.86zM5.41 20L4 18.59l7.72-7.72 1.47 1.35L5.41 20z\"/>\n",
              "  </svg>\n",
              "      </button>\n",
              "\n",
              "\n",
              "\n",
              "    <div id=\"df-fbb886ed-f5ba-4e7a-a5b9-f9800b8b4a91\">\n",
              "      <button class=\"colab-df-quickchart\" onclick=\"quickchart('df-fbb886ed-f5ba-4e7a-a5b9-f9800b8b4a91')\"\n",
              "              title=\"Suggest charts.\"\n",
              "              style=\"display:none;\">\n",
              "\n",
              "<svg xmlns=\"http://www.w3.org/2000/svg\" height=\"24px\"viewBox=\"0 0 24 24\"\n",
              "     width=\"24px\">\n",
              "    <g>\n",
              "        <path d=\"M19 3H5c-1.1 0-2 .9-2 2v14c0 1.1.9 2 2 2h14c1.1 0 2-.9 2-2V5c0-1.1-.9-2-2-2zM9 17H7v-7h2v7zm4 0h-2V7h2v10zm4 0h-2v-4h2v4z\"/>\n",
              "    </g>\n",
              "</svg>\n",
              "      </button>\n",
              "    </div>\n",
              "\n",
              "<style>\n",
              "  .colab-df-quickchart {\n",
              "    background-color: #E8F0FE;\n",
              "    border: none;\n",
              "    border-radius: 50%;\n",
              "    cursor: pointer;\n",
              "    display: none;\n",
              "    fill: #1967D2;\n",
              "    height: 32px;\n",
              "    padding: 0 0 0 0;\n",
              "    width: 32px;\n",
              "  }\n",
              "\n",
              "  .colab-df-quickchart:hover {\n",
              "    background-color: #E2EBFA;\n",
              "    box-shadow: 0px 1px 2px rgba(60, 64, 67, 0.3), 0px 1px 3px 1px rgba(60, 64, 67, 0.15);\n",
              "    fill: #174EA6;\n",
              "  }\n",
              "\n",
              "  [theme=dark] .colab-df-quickchart {\n",
              "    background-color: #3B4455;\n",
              "    fill: #D2E3FC;\n",
              "  }\n",
              "\n",
              "  [theme=dark] .colab-df-quickchart:hover {\n",
              "    background-color: #434B5C;\n",
              "    box-shadow: 0px 1px 3px 1px rgba(0, 0, 0, 0.15);\n",
              "    filter: drop-shadow(0px 1px 2px rgba(0, 0, 0, 0.3));\n",
              "    fill: #FFFFFF;\n",
              "  }\n",
              "</style>\n",
              "\n",
              "    <script>\n",
              "      async function quickchart(key) {\n",
              "        const containerElement = document.querySelector('#' + key);\n",
              "        const charts = await google.colab.kernel.invokeFunction(\n",
              "            'suggestCharts', [key], {});\n",
              "      }\n",
              "    </script>\n",
              "\n",
              "      <script>\n",
              "\n",
              "function displayQuickchartButton(domScope) {\n",
              "  let quickchartButtonEl =\n",
              "    domScope.querySelector('#df-fbb886ed-f5ba-4e7a-a5b9-f9800b8b4a91 button.colab-df-quickchart');\n",
              "  quickchartButtonEl.style.display =\n",
              "    google.colab.kernel.accessAllowed ? 'block' : 'none';\n",
              "}\n",
              "\n",
              "        displayQuickchartButton(document);\n",
              "      </script>\n",
              "      <style>\n",
              "    .colab-df-container {\n",
              "      display:flex;\n",
              "      flex-wrap:wrap;\n",
              "      gap: 12px;\n",
              "    }\n",
              "\n",
              "    .colab-df-convert {\n",
              "      background-color: #E8F0FE;\n",
              "      border: none;\n",
              "      border-radius: 50%;\n",
              "      cursor: pointer;\n",
              "      display: none;\n",
              "      fill: #1967D2;\n",
              "      height: 32px;\n",
              "      padding: 0 0 0 0;\n",
              "      width: 32px;\n",
              "    }\n",
              "\n",
              "    .colab-df-convert:hover {\n",
              "      background-color: #E2EBFA;\n",
              "      box-shadow: 0px 1px 2px rgba(60, 64, 67, 0.3), 0px 1px 3px 1px rgba(60, 64, 67, 0.15);\n",
              "      fill: #174EA6;\n",
              "    }\n",
              "\n",
              "    [theme=dark] .colab-df-convert {\n",
              "      background-color: #3B4455;\n",
              "      fill: #D2E3FC;\n",
              "    }\n",
              "\n",
              "    [theme=dark] .colab-df-convert:hover {\n",
              "      background-color: #434B5C;\n",
              "      box-shadow: 0px 1px 3px 1px rgba(0, 0, 0, 0.15);\n",
              "      filter: drop-shadow(0px 1px 2px rgba(0, 0, 0, 0.3));\n",
              "      fill: #FFFFFF;\n",
              "    }\n",
              "  </style>\n",
              "\n",
              "      <script>\n",
              "        const buttonEl =\n",
              "          document.querySelector('#df-fc2e448d-f03f-47c5-bfc4-9a8d73ac39cb button.colab-df-convert');\n",
              "        buttonEl.style.display =\n",
              "          google.colab.kernel.accessAllowed ? 'block' : 'none';\n",
              "\n",
              "        async function convertToInteractive(key) {\n",
              "          const element = document.querySelector('#df-fc2e448d-f03f-47c5-bfc4-9a8d73ac39cb');\n",
              "          const dataTable =\n",
              "            await google.colab.kernel.invokeFunction('convertToInteractive',\n",
              "                                                     [key], {});\n",
              "          if (!dataTable) return;\n",
              "\n",
              "          const docLinkHtml = 'Like what you see? Visit the ' +\n",
              "            '<a target=\"_blank\" href=https://colab.research.google.com/notebooks/data_table.ipynb>data table notebook</a>'\n",
              "            + ' to learn more about interactive tables.';\n",
              "          element.innerHTML = '';\n",
              "          dataTable['output_type'] = 'display_data';\n",
              "          await google.colab.output.renderOutput(dataTable, element);\n",
              "          const docLink = document.createElement('div');\n",
              "          docLink.innerHTML = docLinkHtml;\n",
              "          element.appendChild(docLink);\n",
              "        }\n",
              "      </script>\n",
              "    </div>\n",
              "  </div>\n"
            ]
          },
          "metadata": {},
          "execution_count": 4
        }
      ],
      "source": [
        "test_data = pd.read_csv('./test_data.csv')\n",
        "test_data.head()"
      ]
    },
    {
      "cell_type": "markdown",
      "id": "amino-astrology",
      "metadata": {
        "papermill": {
          "duration": 0.054837,
          "end_time": "2021-04-28T12:57:18.954705",
          "exception": false,
          "start_time": "2021-04-28T12:57:18.899868",
          "status": "completed"
        },
        "tags": [],
        "id": "amino-astrology"
      },
      "source": [
        "# Подготовка AutoML пресета\n",
        "\n",
        "В первую очередь необходимо \"описать\" задачу ```Task``` для AutoML.\n",
        "1. Настроить тип задачи (```name```), которую мы будем решать:\n",
        "* 'reg' для задачи регрессии <- наша текущая задача\n",
        "\n",
        "  Также в LightAutoML доступны следующие типы:\n",
        "  * 'binary' для бинарной классификации\n",
        "  * 'multiclass' для многоклассовой классификации\n",
        "  * 'multi:reg' для множественной регрессии\n",
        "  * 'multilabel' для многометочной классификации (предсказываем несколько меток)\n",
        "\n",
        "2. Выбрать одну или несколько функций оптимизации ```loss``` и целевых метрик ```metric```. Для задачи регрессии лосс-функции и метрики одинаковые и могут быть следующими:\n",
        "* 'mse' - Mean Squared Error\n",
        "* 'mae' - Mean Absolute Error\n",
        "* 'mape' - Mean Absolute Percentage Error\n",
        "* 'rmsle' - Root Mean Squared Log Error\n",
        "* 'huber' - Huber loss (с параметром a - порог)\n",
        "* 'fair' - Fair loss (с параметром c - smoothness)\n",
        "* 'quantile' - Quantile loss (с параметром q - квантиль)\n",
        "\n",
        "В предложенном соревновании целевая метрика - MAE, поэтому мы укажем её в качестве целевой функции и метрики.\n"
      ]
    },
    {
      "cell_type": "code",
      "execution_count": 5,
      "id": "peaceful-delaware",
      "metadata": {
        "execution": {
          "iopub.execute_input": "2021-04-28T12:57:19.070947Z",
          "iopub.status.busy": "2021-04-28T12:57:19.070291Z",
          "iopub.status.idle": "2021-04-28T12:57:19.078686Z",
          "shell.execute_reply": "2021-04-28T12:57:19.078057Z"
        },
        "papermill": {
          "duration": 0.069236,
          "end_time": "2021-04-28T12:57:19.078838",
          "exception": false,
          "start_time": "2021-04-28T12:57:19.009602",
          "status": "completed"
        },
        "tags": [],
        "id": "peaceful-delaware"
      },
      "outputs": [],
      "source": [
        "task = Task(name='reg', loss='mae', metric='mae')"
      ]
    },
    {
      "cell_type": "markdown",
      "id": "supreme-surge",
      "metadata": {
        "papermill": {
          "duration": 0.055483,
          "end_time": "2021-04-28T12:57:19.301269",
          "exception": false,
          "start_time": "2021-04-28T12:57:19.245786",
          "status": "completed"
        },
        "tags": [],
        "id": "supreme-surge"
      },
      "source": [
        "Далее мы должны настроить словарь ролей (```roles```) столбцов. Ключом в словаре должно быть имя роли, а значением должен быть список названий соответствующих столбцов.  \n",
        "\n",
        "Единственное, что вы **обязаны** указать - это целевую переменную 'target'. Остальные роли настраиваются опционально в зависимости от задачи. Пример возможных значений:\n",
        "\n",
        "* 'numeric' - список числовых признаков\n",
        "* 'category' - список категориальных признаков\n",
        "* 'text' - признаки с текстовыми данными\n",
        "* 'datetime' - признаки в формате дата-время\n",
        "* 'date' - признаки в формате дата (только дата, без времени)\n",
        "* 'group' - признаки, по которым данные могут быть разделены на группы (используется для GroupKFold, см. [справку](https://scikit-learn.org/stable/modules/generated/sklearn.model_selection.GroupKFold.html))\n",
        "* 'drop' - список признаков для удаления\n",
        "* 'weights' - веса признаков для целевой функции и/или метрик\n",
        "\n",
        "и др.\n",
        "\n",
        "\n",
        "*Замечание:* LightAutoML может автоматически определять типы и роли столбцов данных. Однако, иногда полезно указать роль в явном виде.\n",
        "\n",
        "Для начала укажем целевую переменную ```'final_price'``` и потребуем не учитывать колонку ```'row_ID'```."
      ]
    },
    {
      "cell_type": "code",
      "execution_count": 6,
      "id": "dress-memorial",
      "metadata": {
        "execution": {
          "iopub.execute_input": "2021-04-28T12:57:19.418441Z",
          "iopub.status.busy": "2021-04-28T12:57:19.417650Z",
          "iopub.status.idle": "2021-04-28T12:57:19.421624Z",
          "shell.execute_reply": "2021-04-28T12:57:19.422083Z"
        },
        "papermill": {
          "duration": 0.06537,
          "end_time": "2021-04-28T12:57:19.422256",
          "exception": false,
          "start_time": "2021-04-28T12:57:19.356886",
          "status": "completed"
        },
        "tags": [],
        "id": "dress-memorial"
      },
      "outputs": [],
      "source": [
        "roles = {'target': 'final_price',\n",
        "         'drop': ['row_ID']\n",
        "         }"
      ]
    },
    {
      "cell_type": "markdown",
      "id": "certain-swimming",
      "metadata": {
        "papermill": {
          "duration": 0.05576,
          "end_time": "2021-04-28T12:57:19.534396",
          "exception": false,
          "start_time": "2021-04-28T12:57:19.478636",
          "status": "completed"
        },
        "tags": [],
        "id": "certain-swimming"
      },
      "source": [
        "# Запуск AutoML"
      ]
    },
    {
      "cell_type": "markdown",
      "id": "white-albert",
      "metadata": {
        "papermill": {
          "duration": 0.056548,
          "end_time": "2021-04-28T12:57:19.646835",
          "exception": false,
          "start_time": "2021-04-28T12:57:19.590287",
          "status": "completed"
        },
        "tags": [],
        "id": "white-albert"
      },
      "source": [
        "В целом, весь пайплайн для AutoML может быть кастомизирован под конкретные задачи и идеи пользователя (подробнее об этом см. [тут](https://github.com/sb-ai-lab/LightAutoML/blob/master/examples/tutorials/Tutorial_6_custom_pipeline.ipynb)), но мы начнём с, так называемых, пресетов, готовых наборов решений. В частности, мы будем использовать ```TabularAutoML``` пресет для работы с табличными данными, алгоритм которого представлен на картинке.\n",
        "\n",
        "![TabularAutoML preset pipeline](https://github.com/sberbank-ai-lab/LightAutoML/raw/master/imgs/tutorial_2_pipeline.png)\n",
        "\n",
        "Также в библиотеке LightAutoML имеются ```TabularCVAutoML``` - пресет для работы с картинками и ```TabularNLPAutoML``` - пресет для работы с текстами.\n",
        "\n",
        "Основное преимущество TabularAutoML пресета в том, что он быстро обеспечивает пользователя достаточно хорошей моделью, сосредотачиваясь на популярных и общепризнано сильных подходах: линейная модель с L2 регуляризацией и два градиентных бустинга LightGBM и CatBoost.\n",
        "\n",
        "*Замечание:* Обратите внимание на порядок, в котором рассматриваются данные модели: с его помощью AutoML управляет временем обучения.  Если задано ограниченные (но разумные) временные рамки, то по крайней мере, самая быстрая модель будет обучена. С другой стороны, если времени достаточно много, быстрая обработка первых моделей позволяет нам выделить больше времени на оптимизацию более сложных, но медленных подходов.\n",
        "\n",
        "\n",
        "Задаем параметры для TabularAutoML:\n",
        "1. Самый главный параметр - это ```task```, тип задачи, который мы решаем, его мы определили ранее.\n",
        "2. Ограничим количество проверяемых алгоритмов ```general_params``` только двумя: линейной моделью и LightGBM. Важное замечание, что значение данного параметра - это лист листов.\n",
        "3. Также рекомендуется ограничить доступные AutoML вычислительные ресурсы, параметр ```cpu_limit```, чтобы не заполнить все возможные.\n",
        "4. Параметр ```timeout``` определяет ограничение по времени в секундах для обучения модели.\n",
        "5. В ```reader_params``` задается словарь параметров для препроцессинга данных (кол-во разбиений для валидации, random_state и др.)"
      ]
    },
    {
      "cell_type": "code",
      "execution_count": 7,
      "id": "geographic-tenant",
      "metadata": {
        "_kg_hide-output": true,
        "execution": {
          "iopub.execute_input": "2021-04-28T12:57:19.766393Z",
          "iopub.status.busy": "2021-04-28T12:57:19.765698Z",
          "iopub.status.idle": "2021-04-28T13:02:36.935679Z",
          "shell.execute_reply": "2021-04-28T13:02:36.936337Z"
        },
        "papermill": {
          "duration": 317.2323,
          "end_time": "2021-04-28T13:02:36.936565",
          "exception": false,
          "start_time": "2021-04-28T12:57:19.704265",
          "status": "completed"
        },
        "scrolled": true,
        "tags": [],
        "id": "geographic-tenant"
      },
      "outputs": [],
      "source": [
        "# несколько важных переменных\n",
        "N_THREADS = mp.cpu_count()\n",
        "N_FOLDS = 5\n",
        "RANDOM_STATE = 42\n",
        "TIMEOUT = 3600\n",
        "\n",
        "automl = TabularAutoML(task = task,\n",
        "                       general_params = {'use_algos': [['linear_l2', 'lgb']]},\n",
        "                       cpu_limit = N_THREADS,\n",
        "                       timeout = TIMEOUT,\n",
        "                       reader_params = {'n_jobs': N_THREADS, 'cv': N_FOLDS, 'random_state': RANDOM_STATE},\n",
        "                       )"
      ]
    },
    {
      "cell_type": "markdown",
      "source": [
        "Обучения AutoML модели запускается методом ```fit_predict()```. Основные его параметры:\n",
        "* train_data - тренировачный датасет\n",
        "* roles - словарь с ролями\n",
        "* verbose - контролирует кол-во сообщений от AutoML (от 0 до 4, где 4 - процесс каждого алгоритма логгируется).\n",
        "\n",
        "Обратите внимание, что вызов метода ```fit_predict()``` вернёт **out-of-fold** предсказания для обучающей выборки.  "
      ],
      "metadata": {
        "id": "tPC0isLa8mFv"
      },
      "id": "tPC0isLa8mFv"
    },
    {
      "cell_type": "code",
      "source": [
        "pred = automl.fit_predict(train_data, roles = roles, verbose = 1)"
      ],
      "metadata": {
        "colab": {
          "base_uri": "https://localhost:8080/"
        },
        "id": "XSFUVwWc7efb",
        "outputId": "1e75e2d7-94ba-43d6-cfc5-ca8ebd560e56"
      },
      "id": "XSFUVwWc7efb",
      "execution_count": 8,
      "outputs": [
        {
          "output_type": "stream",
          "name": "stdout",
          "text": [
            "[06:09:26] Stdout logging level is INFO.\n"
          ]
        },
        {
          "output_type": "stream",
          "name": "stderr",
          "text": [
            "INFO:lightautoml.automl.presets.base:Stdout logging level is INFO.\n"
          ]
        },
        {
          "output_type": "stream",
          "name": "stdout",
          "text": [
            "[06:09:26] Copying TaskTimer may affect the parent PipelineTimer, so copy will create new unlimited TaskTimer\n"
          ]
        },
        {
          "output_type": "stream",
          "name": "stderr",
          "text": [
            "WARNING:lightautoml.utils.timer:Copying TaskTimer may affect the parent PipelineTimer, so copy will create new unlimited TaskTimer\n"
          ]
        },
        {
          "output_type": "stream",
          "name": "stdout",
          "text": [
            "[06:09:26] Task: reg\n",
            "\n"
          ]
        },
        {
          "output_type": "stream",
          "name": "stderr",
          "text": [
            "INFO:lightautoml.automl.presets.base:Task: reg\n",
            "\n"
          ]
        },
        {
          "output_type": "stream",
          "name": "stdout",
          "text": [
            "[06:09:26] Start automl preset with listed constraints:\n"
          ]
        },
        {
          "output_type": "stream",
          "name": "stderr",
          "text": [
            "INFO:lightautoml.automl.presets.base:Start automl preset with listed constraints:\n"
          ]
        },
        {
          "output_type": "stream",
          "name": "stdout",
          "text": [
            "[06:09:26] - time: 3600.00 seconds\n"
          ]
        },
        {
          "output_type": "stream",
          "name": "stderr",
          "text": [
            "INFO:lightautoml.automl.presets.base:- time: 3600.00 seconds\n"
          ]
        },
        {
          "output_type": "stream",
          "name": "stdout",
          "text": [
            "[06:09:26] - CPU: 2 cores\n"
          ]
        },
        {
          "output_type": "stream",
          "name": "stderr",
          "text": [
            "INFO:lightautoml.automl.presets.base:- CPU: 2 cores\n"
          ]
        },
        {
          "output_type": "stream",
          "name": "stdout",
          "text": [
            "[06:09:26] - memory: 16 GB\n",
            "\n"
          ]
        },
        {
          "output_type": "stream",
          "name": "stderr",
          "text": [
            "INFO:lightautoml.automl.presets.base:- memory: 16 GB\n",
            "\n"
          ]
        },
        {
          "output_type": "stream",
          "name": "stdout",
          "text": [
            "[06:09:26] \u001b[1mTrain data shape: (35000, 15)\u001b[0m\n",
            "\n"
          ]
        },
        {
          "output_type": "stream",
          "name": "stderr",
          "text": [
            "INFO:lightautoml.reader.base:\u001b[1mTrain data shape: (35000, 15)\u001b[0m\n",
            "\n",
            "INFO3:lightautoml.reader.base:Feats was rejected during automatic roles guess: []\n"
          ]
        },
        {
          "output_type": "stream",
          "name": "stdout",
          "text": [
            "[06:09:35] Layer \u001b[1m1\u001b[0m train process start. Time left 3591.03 secs\n"
          ]
        },
        {
          "output_type": "stream",
          "name": "stderr",
          "text": [
            "INFO:lightautoml.automl.base:Layer \u001b[1m1\u001b[0m train process start. Time left 3591.03 secs\n"
          ]
        },
        {
          "output_type": "stream",
          "name": "stdout",
          "text": [
            "[06:09:38] Start fitting \u001b[1mLvl_0_Pipe_0_Mod_0_LinearL2\u001b[0m ...\n"
          ]
        },
        {
          "output_type": "stream",
          "name": "stderr",
          "text": [
            "INFO:lightautoml.ml_algo.base:Start fitting \u001b[1mLvl_0_Pipe_0_Mod_0_LinearL2\u001b[0m ...\n",
            "DEBUG:lightautoml.ml_algo.base:Training params: {'tol': 1e-06, 'max_iter': 100, 'cs': [1e-05, 5e-05, 0.0001, 0.0005, 0.001, 0.005, 0.01, 0.05, 0.1, 0.5, 1, 5, 10, 50, 100, 500, 1000, 5000, 10000, 50000, 100000], 'early_stopping': 2, 'categorical_idx': [21, 22, 23, 24, 25, 26, 27], 'embed_sizes': array([12,  5,  3, 18,  5,  3,  3], dtype=int32), 'data_size': 28}\n",
            "INFO2:lightautoml.ml_algo.base:===== Start working with \u001b[1mfold 0\u001b[0m for \u001b[1mLvl_0_Pipe_0_Mod_0_LinearL2\u001b[0m =====\n",
            "INFO3:lightautoml.ml_algo.torch_based.linear_model:Linear model: C = 1e-05 score = -4663.107697335379\n",
            "INFO3:lightautoml.ml_algo.torch_based.linear_model:Linear model: C = 5e-05 score = -4661.304810651507\n",
            "INFO3:lightautoml.ml_algo.torch_based.linear_model:Linear model: C = 0.0001 score = -4658.975259974888\n",
            "INFO3:lightautoml.ml_algo.torch_based.linear_model:Linear model: C = 0.0005 score = -4640.7796734444755\n",
            "INFO3:lightautoml.ml_algo.torch_based.linear_model:Linear model: C = 0.001 score = -4619.649189278739\n",
            "INFO3:lightautoml.ml_algo.torch_based.linear_model:Linear model: C = 0.005 score = -4485.393503034319\n",
            "INFO3:lightautoml.ml_algo.torch_based.linear_model:Linear model: C = 0.01 score = -4368.6614257463725\n",
            "INFO3:lightautoml.ml_algo.torch_based.linear_model:Linear model: C = 0.05 score = -3927.6834654279437\n",
            "INFO3:lightautoml.ml_algo.torch_based.linear_model:Linear model: C = 0.1 score = -3776.8585094560895\n",
            "INFO3:lightautoml.ml_algo.torch_based.linear_model:Linear model: C = 0.5 score = -3571.1934684393746\n",
            "INFO3:lightautoml.ml_algo.torch_based.linear_model:Linear model: C = 1 score = -3528.692131753104\n",
            "INFO3:lightautoml.ml_algo.torch_based.linear_model:Linear model: C = 5 score = -3528.6908426448276\n",
            "INFO3:lightautoml.ml_algo.torch_based.linear_model:Linear model: C = 10 score = -3528.689823095049\n",
            "INFO3:lightautoml.ml_algo.torch_based.linear_model:Linear model: C = 50 score = -3474.6900058550154\n",
            "INFO3:lightautoml.ml_algo.torch_based.linear_model:Linear model: C = 100 score = -3474.6899953046527\n",
            "INFO3:lightautoml.ml_algo.torch_based.linear_model:Linear model: C = 500 score = -3474.6899953046527\n",
            "INFO3:lightautoml.ml_algo.torch_based.linear_model:Linear model: C = 1000 score = -3474.6899953046527\n",
            "INFO2:lightautoml.ml_algo.base:===== Start working with \u001b[1mfold 1\u001b[0m for \u001b[1mLvl_0_Pipe_0_Mod_0_LinearL2\u001b[0m =====\n",
            "INFO3:lightautoml.ml_algo.torch_based.linear_model:Linear model: C = 1e-05 score = -6135.6136237095425\n",
            "INFO3:lightautoml.ml_algo.torch_based.linear_model:Linear model: C = 5e-05 score = -6133.825654087612\n",
            "INFO3:lightautoml.ml_algo.torch_based.linear_model:Linear model: C = 0.0001 score = -6131.523553013393\n",
            "INFO3:lightautoml.ml_algo.torch_based.linear_model:Linear model: C = 0.0005 score = -6113.827822893415\n",
            "INFO3:lightautoml.ml_algo.torch_based.linear_model:Linear model: C = 0.001 score = -6092.942971296038\n",
            "INFO3:lightautoml.ml_algo.torch_based.linear_model:Linear model: C = 0.005 score = -5963.767385288784\n",
            "INFO3:lightautoml.ml_algo.torch_based.linear_model:Linear model: C = 0.01 score = -5855.639290806362\n",
            "INFO3:lightautoml.ml_algo.torch_based.linear_model:Linear model: C = 0.05 score = -5481.69277192143\n",
            "INFO3:lightautoml.ml_algo.torch_based.linear_model:Linear model: C = 0.1 score = -5368.049142776489\n",
            "INFO3:lightautoml.ml_algo.torch_based.linear_model:Linear model: C = 0.5 score = -5229.838834919521\n",
            "INFO3:lightautoml.ml_algo.torch_based.linear_model:Linear model: C = 1 score = -5210.772549022129\n",
            "INFO3:lightautoml.ml_algo.torch_based.linear_model:Linear model: C = 5 score = -5153.034529998779\n",
            "INFO3:lightautoml.ml_algo.torch_based.linear_model:Linear model: C = 10 score = -5153.03473033578\n",
            "INFO3:lightautoml.ml_algo.torch_based.linear_model:Linear model: C = 50 score = -5153.035018035888\n",
            "INFO2:lightautoml.ml_algo.base:===== Start working with \u001b[1mfold 2\u001b[0m for \u001b[1mLvl_0_Pipe_0_Mod_0_LinearL2\u001b[0m =====\n",
            "INFO3:lightautoml.ml_algo.torch_based.linear_model:Linear model: C = 1e-05 score = -3916.782393659319\n",
            "INFO3:lightautoml.ml_algo.torch_based.linear_model:Linear model: C = 5e-05 score = -3914.800990199498\n",
            "INFO3:lightautoml.ml_algo.torch_based.linear_model:Linear model: C = 0.0001 score = -3912.3128825683593\n",
            "INFO3:lightautoml.ml_algo.torch_based.linear_model:Linear model: C = 0.0005 score = -3892.617626464844\n",
            "INFO3:lightautoml.ml_algo.torch_based.linear_model:Linear model: C = 0.001 score = -3869.8571633649553\n",
            "INFO3:lightautoml.ml_algo.torch_based.linear_model:Linear model: C = 0.005 score = -3727.9003543875556\n",
            "INFO3:lightautoml.ml_algo.torch_based.linear_model:Linear model: C = 0.01 score = -3613.607174281529\n",
            "INFO3:lightautoml.ml_algo.torch_based.linear_model:Linear model: C = 0.05 score = -3212.8028498186386\n",
            "INFO3:lightautoml.ml_algo.torch_based.linear_model:Linear model: C = 0.1 score = -3094.614671646118\n",
            "INFO3:lightautoml.ml_algo.torch_based.linear_model:Linear model: C = 0.5 score = -2952.5093430666243\n",
            "INFO3:lightautoml.ml_algo.torch_based.linear_model:Linear model: C = 1 score = -2928.056242404393\n",
            "INFO3:lightautoml.ml_algo.torch_based.linear_model:Linear model: C = 5 score = -2899.652713637761\n",
            "INFO3:lightautoml.ml_algo.torch_based.linear_model:Linear model: C = 10 score = -2899.6527525206975\n",
            "INFO3:lightautoml.ml_algo.torch_based.linear_model:Linear model: C = 50 score = -2899.652736278534\n",
            "INFO2:lightautoml.ml_algo.base:===== Start working with \u001b[1mfold 3\u001b[0m for \u001b[1mLvl_0_Pipe_0_Mod_0_LinearL2\u001b[0m =====\n",
            "INFO3:lightautoml.ml_algo.torch_based.linear_model:Linear model: C = 1e-05 score = -3964.050028703962\n",
            "INFO3:lightautoml.ml_algo.torch_based.linear_model:Linear model: C = 5e-05 score = -3962.037663190569\n",
            "INFO3:lightautoml.ml_algo.torch_based.linear_model:Linear model: C = 0.0001 score = -3959.6306396833147\n",
            "INFO3:lightautoml.ml_algo.torch_based.linear_model:Linear model: C = 0.0005 score = -3940.1757024274552\n",
            "INFO3:lightautoml.ml_algo.torch_based.linear_model:Linear model: C = 0.001 score = -3917.768588518415\n",
            "INFO3:lightautoml.ml_algo.torch_based.linear_model:Linear model: C = 0.005 score = -3777.0334554268975\n",
            "INFO3:lightautoml.ml_algo.torch_based.linear_model:Linear model: C = 0.01 score = -3660.4475187988282\n",
            "INFO3:lightautoml.ml_algo.torch_based.linear_model:Linear model: C = 0.05 score = -3242.25515486581\n",
            "INFO3:lightautoml.ml_algo.torch_based.linear_model:Linear model: C = 0.1 score = -3103.589957898821\n",
            "INFO3:lightautoml.ml_algo.torch_based.linear_model:Linear model: C = 0.5 score = -2904.4696097804476\n",
            "INFO3:lightautoml.ml_algo.torch_based.linear_model:Linear model: C = 1 score = -2904.4696097804476\n",
            "INFO3:lightautoml.ml_algo.torch_based.linear_model:Linear model: C = 5 score = -2820.640687960897\n",
            "INFO3:lightautoml.ml_algo.torch_based.linear_model:Linear model: C = 10 score = -2820.6406511854443\n",
            "INFO3:lightautoml.ml_algo.torch_based.linear_model:Linear model: C = 50 score = -2820.640615360805\n",
            "INFO3:lightautoml.ml_algo.torch_based.linear_model:Linear model: C = 100 score = -2820.640522503989\n",
            "INFO3:lightautoml.ml_algo.torch_based.linear_model:Linear model: C = 500 score = -2820.640522503989\n",
            "INFO3:lightautoml.ml_algo.torch_based.linear_model:Linear model: C = 1000 score = -2820.640522503989\n",
            "INFO2:lightautoml.ml_algo.base:===== Start working with \u001b[1mfold 4\u001b[0m for \u001b[1mLvl_0_Pipe_0_Mod_0_LinearL2\u001b[0m =====\n",
            "INFO3:lightautoml.ml_algo.torch_based.linear_model:Linear model: C = 1e-05 score = -3731.902778738839\n",
            "INFO3:lightautoml.ml_algo.torch_based.linear_model:Linear model: C = 5e-05 score = -3730.0241756417413\n",
            "INFO3:lightautoml.ml_algo.torch_based.linear_model:Linear model: C = 0.0001 score = -3727.5601879534042\n",
            "INFO3:lightautoml.ml_algo.torch_based.linear_model:Linear model: C = 0.0005 score = -3708.6729112723215\n",
            "INFO3:lightautoml.ml_algo.torch_based.linear_model:Linear model: C = 0.001 score = -3686.3972990722655\n",
            "INFO3:lightautoml.ml_algo.torch_based.linear_model:Linear model: C = 0.005 score = -3547.4085432128904\n",
            "INFO3:lightautoml.ml_algo.torch_based.linear_model:Linear model: C = 0.01 score = -3430.217444893973\n",
            "INFO3:lightautoml.ml_algo.torch_based.linear_model:Linear model: C = 0.05 score = -3003.3277515912737\n",
            "INFO3:lightautoml.ml_algo.torch_based.linear_model:Linear model: C = 0.1 score = -2864.1165890546526\n",
            "INFO3:lightautoml.ml_algo.torch_based.linear_model:Linear model: C = 0.5 score = -2680.4191242087227\n",
            "INFO3:lightautoml.ml_algo.torch_based.linear_model:Linear model: C = 1 score = -2680.4191242087227\n",
            "INFO3:lightautoml.ml_algo.torch_based.linear_model:Linear model: C = 5 score = -2593.1022762456623\n",
            "INFO3:lightautoml.ml_algo.torch_based.linear_model:Linear model: C = 10 score = -2593.1022353918893\n",
            "INFO3:lightautoml.ml_algo.torch_based.linear_model:Linear model: C = 50 score = -2593.102182052612\n",
            "INFO3:lightautoml.ml_algo.torch_based.linear_model:Linear model: C = 100 score = -2593.1021434140885\n",
            "INFO3:lightautoml.ml_algo.torch_based.linear_model:Linear model: C = 500 score = -2593.1020855146135\n",
            "INFO3:lightautoml.ml_algo.torch_based.linear_model:Linear model: C = 1000 score = -2593.102023338318\n",
            "INFO3:lightautoml.ml_algo.torch_based.linear_model:Linear model: C = 5000 score = -2593.101901928493\n",
            "INFO3:lightautoml.ml_algo.torch_based.linear_model:Linear model: C = 10000 score = -2593.101818559919\n",
            "INFO3:lightautoml.ml_algo.torch_based.linear_model:Linear model: C = 50000 score = -2593.1017618244714\n",
            "INFO3:lightautoml.ml_algo.torch_based.linear_model:Linear model: C = 100000 score = -2593.1016800079346\n"
          ]
        },
        {
          "output_type": "stream",
          "name": "stdout",
          "text": [
            "[06:10:00] Fitting \u001b[1mLvl_0_Pipe_0_Mod_0_LinearL2\u001b[0m finished. score = \u001b[1m-3388.223888290623\u001b[0m\n"
          ]
        },
        {
          "output_type": "stream",
          "name": "stderr",
          "text": [
            "INFO:lightautoml.ml_algo.base:Fitting \u001b[1mLvl_0_Pipe_0_Mod_0_LinearL2\u001b[0m finished. score = \u001b[1m-3388.223888290623\u001b[0m\n"
          ]
        },
        {
          "output_type": "stream",
          "name": "stdout",
          "text": [
            "[06:10:00] \u001b[1mLvl_0_Pipe_0_Mod_0_LinearL2\u001b[0m fitting and predicting completed\n"
          ]
        },
        {
          "output_type": "stream",
          "name": "stderr",
          "text": [
            "INFO:lightautoml.ml_algo.base:\u001b[1mLvl_0_Pipe_0_Mod_0_LinearL2\u001b[0m fitting and predicting completed\n"
          ]
        },
        {
          "output_type": "stream",
          "name": "stdout",
          "text": [
            "[06:10:00] Time left 3566.79 secs\n",
            "\n"
          ]
        },
        {
          "output_type": "stream",
          "name": "stderr",
          "text": [
            "INFO:lightautoml.automl.base:Time left 3566.79 secs\n",
            "\n",
            "INFO3:lightautoml.ml_algo.boost_lgbm:Training until validation scores don't improve for 200 rounds\n",
            "DEBUG:lightautoml.ml_algo.boost_lgbm:[100]\tvalid's l1: 3073.37\n",
            "DEBUG:lightautoml.ml_algo.boost_lgbm:[200]\tvalid's l1: 2923.24\n",
            "DEBUG:lightautoml.ml_algo.boost_lgbm:[300]\tvalid's l1: 2887.02\n",
            "DEBUG:lightautoml.ml_algo.boost_lgbm:[400]\tvalid's l1: 2859.61\n",
            "DEBUG:lightautoml.ml_algo.boost_lgbm:[500]\tvalid's l1: 2840.87\n",
            "DEBUG:lightautoml.ml_algo.boost_lgbm:[600]\tvalid's l1: 2824.8\n",
            "DEBUG:lightautoml.ml_algo.boost_lgbm:[700]\tvalid's l1: 2814.9\n",
            "DEBUG:lightautoml.ml_algo.boost_lgbm:[800]\tvalid's l1: 2807.23\n",
            "DEBUG:lightautoml.ml_algo.boost_lgbm:[900]\tvalid's l1: 2801.61\n",
            "DEBUG:lightautoml.ml_algo.boost_lgbm:[1000]\tvalid's l1: 2795.28\n",
            "DEBUG:lightautoml.ml_algo.boost_lgbm:[1100]\tvalid's l1: 2791.52\n",
            "DEBUG:lightautoml.ml_algo.boost_lgbm:[1200]\tvalid's l1: 2785.17\n",
            "DEBUG:lightautoml.ml_algo.boost_lgbm:Did not meet early stopping. Best iteration is:\n",
            "[1190]\tvalid's l1: 2785.12\n"
          ]
        },
        {
          "output_type": "stream",
          "name": "stdout",
          "text": [
            "[06:10:07] \u001b[1mSelector_LightGBM\u001b[0m fitting and predicting completed\n"
          ]
        },
        {
          "output_type": "stream",
          "name": "stderr",
          "text": [
            "INFO:lightautoml.ml_algo.base:\u001b[1mSelector_LightGBM\u001b[0m fitting and predicting completed\n"
          ]
        },
        {
          "output_type": "stream",
          "name": "stdout",
          "text": [
            "[06:10:08] Start fitting \u001b[1mLvl_0_Pipe_1_Mod_0_LightGBM\u001b[0m ...\n"
          ]
        },
        {
          "output_type": "stream",
          "name": "stderr",
          "text": [
            "INFO:lightautoml.ml_algo.base:Start fitting \u001b[1mLvl_0_Pipe_1_Mod_0_LightGBM\u001b[0m ...\n",
            "DEBUG:lightautoml.ml_algo.base:Training params: {'task': 'train', 'learning_rate': 0.03, 'num_leaves': 32, 'feature_fraction': 0.9, 'bagging_fraction': 0.9, 'bagging_freq': 1, 'max_depth': -1, 'verbosity': -1, 'reg_alpha': 0.5, 'reg_lambda': 0.0, 'min_split_gain': 0.0, 'zero_as_missing': False, 'num_threads': 2, 'max_bin': 255, 'min_data_in_bin': 3, 'num_trees': 1200, 'early_stopping_rounds': 200, 'random_state': 42}\n",
            "INFO2:lightautoml.ml_algo.base:===== Start working with \u001b[1mfold 0\u001b[0m for \u001b[1mLvl_0_Pipe_1_Mod_0_LightGBM\u001b[0m =====\n",
            "INFO3:lightautoml.ml_algo.boost_lgbm:Training until validation scores don't improve for 200 rounds\n",
            "DEBUG:lightautoml.ml_algo.boost_lgbm:[100]\tvalid's l1: 2863.4\n",
            "DEBUG:lightautoml.ml_algo.boost_lgbm:[200]\tvalid's l1: 2774.16\n",
            "DEBUG:lightautoml.ml_algo.boost_lgbm:[300]\tvalid's l1: 2747.66\n",
            "DEBUG:lightautoml.ml_algo.boost_lgbm:[400]\tvalid's l1: 2738.97\n",
            "DEBUG:lightautoml.ml_algo.boost_lgbm:[500]\tvalid's l1: 2733.76\n",
            "DEBUG:lightautoml.ml_algo.boost_lgbm:[600]\tvalid's l1: 2731.43\n",
            "DEBUG:lightautoml.ml_algo.boost_lgbm:[700]\tvalid's l1: 2730.73\n",
            "DEBUG:lightautoml.ml_algo.boost_lgbm:[800]\tvalid's l1: 2730.01\n",
            "DEBUG:lightautoml.ml_algo.boost_lgbm:[900]\tvalid's l1: 2729.5\n",
            "DEBUG:lightautoml.ml_algo.boost_lgbm:[1000]\tvalid's l1: 2724.92\n",
            "DEBUG:lightautoml.ml_algo.boost_lgbm:[1100]\tvalid's l1: 2723.91\n",
            "DEBUG:lightautoml.ml_algo.boost_lgbm:[1200]\tvalid's l1: 2723.18\n",
            "DEBUG:lightautoml.ml_algo.boost_lgbm:Did not meet early stopping. Best iteration is:\n",
            "[1196]\tvalid's l1: 2723.18\n",
            "INFO2:lightautoml.ml_algo.base:===== Start working with \u001b[1mfold 1\u001b[0m for \u001b[1mLvl_0_Pipe_1_Mod_0_LightGBM\u001b[0m =====\n",
            "INFO3:lightautoml.ml_algo.boost_lgbm:Training until validation scores don't improve for 200 rounds\n",
            "DEBUG:lightautoml.ml_algo.boost_lgbm:[100]\tvalid's l1: 4534.89\n",
            "DEBUG:lightautoml.ml_algo.boost_lgbm:[200]\tvalid's l1: 4444.71\n",
            "DEBUG:lightautoml.ml_algo.boost_lgbm:[300]\tvalid's l1: 4422.1\n",
            "DEBUG:lightautoml.ml_algo.boost_lgbm:[400]\tvalid's l1: 4410.76\n",
            "DEBUG:lightautoml.ml_algo.boost_lgbm:[500]\tvalid's l1: 4403.27\n",
            "DEBUG:lightautoml.ml_algo.boost_lgbm:[600]\tvalid's l1: 4401.4\n",
            "DEBUG:lightautoml.ml_algo.boost_lgbm:[700]\tvalid's l1: 4400.18\n",
            "DEBUG:lightautoml.ml_algo.boost_lgbm:[800]\tvalid's l1: 4398.33\n",
            "DEBUG:lightautoml.ml_algo.boost_lgbm:[900]\tvalid's l1: 4395.44\n",
            "DEBUG:lightautoml.ml_algo.boost_lgbm:[1000]\tvalid's l1: 4393.83\n",
            "DEBUG:lightautoml.ml_algo.boost_lgbm:[1100]\tvalid's l1: 4392.52\n",
            "DEBUG:lightautoml.ml_algo.boost_lgbm:[1200]\tvalid's l1: 4391.98\n",
            "DEBUG:lightautoml.ml_algo.boost_lgbm:Did not meet early stopping. Best iteration is:\n",
            "[1200]\tvalid's l1: 4391.98\n",
            "INFO2:lightautoml.ml_algo.base:===== Start working with \u001b[1mfold 2\u001b[0m for \u001b[1mLvl_0_Pipe_1_Mod_0_LightGBM\u001b[0m =====\n",
            "INFO3:lightautoml.ml_algo.boost_lgbm:Training until validation scores don't improve for 200 rounds\n",
            "DEBUG:lightautoml.ml_algo.boost_lgbm:[100]\tvalid's l1: 2126.53\n",
            "DEBUG:lightautoml.ml_algo.boost_lgbm:[200]\tvalid's l1: 2017.67\n",
            "DEBUG:lightautoml.ml_algo.boost_lgbm:[300]\tvalid's l1: 1991\n",
            "DEBUG:lightautoml.ml_algo.boost_lgbm:[400]\tvalid's l1: 1980.28\n",
            "DEBUG:lightautoml.ml_algo.boost_lgbm:[500]\tvalid's l1: 1956.62\n",
            "DEBUG:lightautoml.ml_algo.boost_lgbm:[600]\tvalid's l1: 1951.77\n",
            "DEBUG:lightautoml.ml_algo.boost_lgbm:[700]\tvalid's l1: 1946.48\n",
            "DEBUG:lightautoml.ml_algo.boost_lgbm:[800]\tvalid's l1: 1943.09\n",
            "DEBUG:lightautoml.ml_algo.boost_lgbm:[900]\tvalid's l1: 1942.35\n",
            "DEBUG:lightautoml.ml_algo.boost_lgbm:[1000]\tvalid's l1: 1941.53\n",
            "DEBUG:lightautoml.ml_algo.boost_lgbm:[1100]\tvalid's l1: 1940.66\n",
            "DEBUG:lightautoml.ml_algo.boost_lgbm:[1200]\tvalid's l1: 1935.76\n",
            "DEBUG:lightautoml.ml_algo.boost_lgbm:Did not meet early stopping. Best iteration is:\n",
            "[1198]\tvalid's l1: 1935.76\n",
            "INFO2:lightautoml.ml_algo.base:===== Start working with \u001b[1mfold 3\u001b[0m for \u001b[1mLvl_0_Pipe_1_Mod_0_LightGBM\u001b[0m =====\n",
            "INFO3:lightautoml.ml_algo.boost_lgbm:Training until validation scores don't improve for 200 rounds\n",
            "DEBUG:lightautoml.ml_algo.boost_lgbm:[100]\tvalid's l1: 2172.77\n",
            "DEBUG:lightautoml.ml_algo.boost_lgbm:[200]\tvalid's l1: 2062.61\n",
            "DEBUG:lightautoml.ml_algo.boost_lgbm:[300]\tvalid's l1: 2035.38\n",
            "DEBUG:lightautoml.ml_algo.boost_lgbm:[400]\tvalid's l1: 2030.04\n",
            "DEBUG:lightautoml.ml_algo.boost_lgbm:[500]\tvalid's l1: 2015.16\n",
            "DEBUG:lightautoml.ml_algo.boost_lgbm:[600]\tvalid's l1: 2012.24\n",
            "DEBUG:lightautoml.ml_algo.boost_lgbm:[700]\tvalid's l1: 2009.67\n",
            "DEBUG:lightautoml.ml_algo.boost_lgbm:[800]\tvalid's l1: 2008.6\n",
            "DEBUG:lightautoml.ml_algo.boost_lgbm:[900]\tvalid's l1: 2007.35\n",
            "DEBUG:lightautoml.ml_algo.boost_lgbm:[1000]\tvalid's l1: 2005.7\n",
            "DEBUG:lightautoml.ml_algo.boost_lgbm:[1100]\tvalid's l1: 2003.36\n",
            "DEBUG:lightautoml.ml_algo.boost_lgbm:[1200]\tvalid's l1: 2003.1\n",
            "DEBUG:lightautoml.ml_algo.boost_lgbm:Did not meet early stopping. Best iteration is:\n",
            "[1196]\tvalid's l1: 2003.1\n",
            "INFO2:lightautoml.ml_algo.base:===== Start working with \u001b[1mfold 4\u001b[0m for \u001b[1mLvl_0_Pipe_1_Mod_0_LightGBM\u001b[0m =====\n",
            "INFO3:lightautoml.ml_algo.boost_lgbm:Training until validation scores don't improve for 200 rounds\n",
            "DEBUG:lightautoml.ml_algo.boost_lgbm:[100]\tvalid's l1: 2081.87\n",
            "DEBUG:lightautoml.ml_algo.boost_lgbm:[200]\tvalid's l1: 1991.18\n",
            "DEBUG:lightautoml.ml_algo.boost_lgbm:[300]\tvalid's l1: 1964.54\n",
            "DEBUG:lightautoml.ml_algo.boost_lgbm:[400]\tvalid's l1: 1955.93\n",
            "DEBUG:lightautoml.ml_algo.boost_lgbm:[500]\tvalid's l1: 1944.83\n",
            "DEBUG:lightautoml.ml_algo.boost_lgbm:[600]\tvalid's l1: 1941.66\n",
            "DEBUG:lightautoml.ml_algo.boost_lgbm:[700]\tvalid's l1: 1939.68\n",
            "DEBUG:lightautoml.ml_algo.boost_lgbm:[800]\tvalid's l1: 1936.92\n",
            "DEBUG:lightautoml.ml_algo.boost_lgbm:[900]\tvalid's l1: 1932.62\n",
            "DEBUG:lightautoml.ml_algo.boost_lgbm:[1000]\tvalid's l1: 1930.71\n",
            "DEBUG:lightautoml.ml_algo.boost_lgbm:[1100]\tvalid's l1: 1929.35\n",
            "DEBUG:lightautoml.ml_algo.boost_lgbm:[1200]\tvalid's l1: 1926.21\n",
            "DEBUG:lightautoml.ml_algo.boost_lgbm:Did not meet early stopping. Best iteration is:\n",
            "[1200]\tvalid's l1: 1926.21\n"
          ]
        },
        {
          "output_type": "stream",
          "name": "stdout",
          "text": [
            "[06:10:39] Fitting \u001b[1mLvl_0_Pipe_1_Mod_0_LightGBM\u001b[0m finished. score = \u001b[1m-2596.044819063762\u001b[0m\n"
          ]
        },
        {
          "output_type": "stream",
          "name": "stderr",
          "text": [
            "INFO:lightautoml.ml_algo.base:Fitting \u001b[1mLvl_0_Pipe_1_Mod_0_LightGBM\u001b[0m finished. score = \u001b[1m-2596.044819063762\u001b[0m\n"
          ]
        },
        {
          "output_type": "stream",
          "name": "stdout",
          "text": [
            "[06:10:39] \u001b[1mLvl_0_Pipe_1_Mod_0_LightGBM\u001b[0m fitting and predicting completed\n"
          ]
        },
        {
          "output_type": "stream",
          "name": "stderr",
          "text": [
            "INFO:lightautoml.ml_algo.base:\u001b[1mLvl_0_Pipe_1_Mod_0_LightGBM\u001b[0m fitting and predicting completed\n"
          ]
        },
        {
          "output_type": "stream",
          "name": "stdout",
          "text": [
            "[06:10:39] Time left 3527.61 secs\n",
            "\n"
          ]
        },
        {
          "output_type": "stream",
          "name": "stderr",
          "text": [
            "INFO:lightautoml.automl.base:Time left 3527.61 secs\n",
            "\n"
          ]
        },
        {
          "output_type": "stream",
          "name": "stdout",
          "text": [
            "[06:10:39] \u001b[1mLayer 1 training completed.\u001b[0m\n",
            "\n"
          ]
        },
        {
          "output_type": "stream",
          "name": "stderr",
          "text": [
            "INFO:lightautoml.automl.base:\u001b[1mLayer 1 training completed.\u001b[0m\n",
            "\n"
          ]
        },
        {
          "output_type": "stream",
          "name": "stdout",
          "text": [
            "[06:10:39] Blending: optimization starts with equal weights and score \u001b[1m-2891.8005093227657\u001b[0m\n"
          ]
        },
        {
          "output_type": "stream",
          "name": "stderr",
          "text": [
            "INFO:lightautoml.automl.blend:Blending: optimization starts with equal weights and score \u001b[1m-2891.8005093227657\u001b[0m\n"
          ]
        },
        {
          "output_type": "stream",
          "name": "stdout",
          "text": [
            "[06:10:39] Blending: iteration \u001b[1m0\u001b[0m: score = \u001b[1m-2596.044819063762\u001b[0m, weights = \u001b[1m[0. 1.]\u001b[0m\n"
          ]
        },
        {
          "output_type": "stream",
          "name": "stderr",
          "text": [
            "INFO:lightautoml.automl.blend:Blending: iteration \u001b[1m0\u001b[0m: score = \u001b[1m-2596.044819063762\u001b[0m, weights = \u001b[1m[0. 1.]\u001b[0m\n"
          ]
        },
        {
          "output_type": "stream",
          "name": "stdout",
          "text": [
            "[06:10:39] Blending: iteration \u001b[1m1\u001b[0m: score = \u001b[1m-2596.044819063762\u001b[0m, weights = \u001b[1m[0. 1.]\u001b[0m\n"
          ]
        },
        {
          "output_type": "stream",
          "name": "stderr",
          "text": [
            "INFO:lightautoml.automl.blend:Blending: iteration \u001b[1m1\u001b[0m: score = \u001b[1m-2596.044819063762\u001b[0m, weights = \u001b[1m[0. 1.]\u001b[0m\n"
          ]
        },
        {
          "output_type": "stream",
          "name": "stdout",
          "text": [
            "[06:10:39] Blending: no score update. Terminated\n",
            "\n"
          ]
        },
        {
          "output_type": "stream",
          "name": "stderr",
          "text": [
            "INFO:lightautoml.automl.blend:Blending: no score update. Terminated\n",
            "\n"
          ]
        },
        {
          "output_type": "stream",
          "name": "stdout",
          "text": [
            "[06:10:39] \u001b[1mAutoml preset training completed in 72.44 seconds\u001b[0m\n",
            "\n"
          ]
        },
        {
          "output_type": "stream",
          "name": "stderr",
          "text": [
            "INFO:lightautoml.automl.presets.base:\u001b[1mAutoml preset training completed in 72.44 seconds\u001b[0m\n",
            "\n"
          ]
        },
        {
          "output_type": "stream",
          "name": "stdout",
          "text": [
            "[06:10:39] Model description:\n",
            "Final prediction for new objects (level 0) = \n",
            "\t 1.00000 * (5 averaged models Lvl_0_Pipe_1_Mod_0_LightGBM) \n",
            "\n"
          ]
        },
        {
          "output_type": "stream",
          "name": "stderr",
          "text": [
            "INFO:lightautoml.automl.presets.base:Model description:\n",
            "Final prediction for new objects (level 0) = \n",
            "\t 1.00000 * (5 averaged models Lvl_0_Pipe_1_Mod_0_LightGBM) \n",
            "\n"
          ]
        }
      ]
    },
    {
      "cell_type": "markdown",
      "id": "operating-booking",
      "metadata": {
        "papermill": {
          "duration": 0.364845,
          "end_time": "2021-04-28T13:02:38.765355",
          "exception": false,
          "start_time": "2021-04-28T13:02:38.400510",
          "status": "completed"
        },
        "tags": [],
        "id": "operating-booking"
      },
      "source": [
        "# Получение предсказаний\n",
        "\n",
        "Посмотрим, какое качество получилось на обучающей выборке, и получим предсказания для тестовой.\n",
        "\n",
        "Обратите внимание, что переменная ```pred```, полученная на предыдущем шаге, - это **НЕ** привычный пользователям sklearn-а массив с предсказаниями. Для получения массива с предсказаниями, необходимо обратиться к полю ```data``` переменной ```pred```."
      ]
    },
    {
      "cell_type": "code",
      "execution_count": 9,
      "id": "tight-school",
      "metadata": {
        "execution": {
          "iopub.execute_input": "2021-04-28T13:02:39.521475Z",
          "iopub.status.busy": "2021-04-28T13:02:39.518062Z",
          "iopub.status.idle": "2021-04-28T13:02:40.527716Z",
          "shell.execute_reply": "2021-04-28T13:02:40.528509Z"
        },
        "papermill": {
          "duration": 1.397704,
          "end_time": "2021-04-28T13:02:40.528694",
          "exception": false,
          "start_time": "2021-04-28T13:02:39.130990",
          "status": "completed"
        },
        "tags": [],
        "colab": {
          "base_uri": "https://localhost:8080/"
        },
        "id": "tight-school",
        "outputId": "8c60248f-d47c-4b1e-c05f-f164360ecdb9"
      },
      "outputs": [
        {
          "output_type": "stream",
          "name": "stdout",
          "text": [
            "OOF score: 2596.044819063762\n"
          ]
        }
      ],
      "source": [
        "print('OOF score: {}'.format(mean_absolute_error(train_data['final_price'].values, pred.data[:, 0])))"
      ]
    },
    {
      "cell_type": "code",
      "source": [
        "test_pred = automl.predict(test_data)"
      ],
      "metadata": {
        "id": "AfvAmIEeBvar"
      },
      "id": "AfvAmIEeBvar",
      "execution_count": 10,
      "outputs": []
    },
    {
      "cell_type": "markdown",
      "id": "broad-plain",
      "metadata": {
        "papermill": {
          "duration": 0.369559,
          "end_time": "2021-04-28T13:02:41.268699",
          "exception": false,
          "start_time": "2021-04-28T13:02:40.899140",
          "status": "completed"
        },
        "tags": [],
        "id": "broad-plain"
      },
      "source": [
        "# Подготовка решения для Kaggle\n",
        "\n",
        "Загрузим шаблон и запишем в него предсказания."
      ]
    },
    {
      "cell_type": "code",
      "execution_count": 11,
      "id": "crude-cleveland",
      "metadata": {
        "execution": {
          "iopub.execute_input": "2021-04-28T13:02:42.014562Z",
          "iopub.status.busy": "2021-04-28T13:02:42.013865Z",
          "iopub.status.idle": "2021-04-28T13:02:42.016937Z",
          "shell.execute_reply": "2021-04-28T13:02:42.017439Z"
        },
        "papermill": {
          "duration": 0.383234,
          "end_time": "2021-04-28T13:02:42.017604",
          "exception": false,
          "start_time": "2021-04-28T13:02:41.634370",
          "status": "completed"
        },
        "scrolled": true,
        "tags": [],
        "colab": {
          "base_uri": "https://localhost:8080/",
          "height": 206
        },
        "id": "crude-cleveland",
        "outputId": "bd7bb1aa-e6f7-4e64-896a-9c094100d599"
      },
      "outputs": [
        {
          "output_type": "execute_result",
          "data": {
            "text/plain": [
              "   row_ID  final_price\n",
              "0   35000  2890.398682\n",
              "1   35001  6084.673828\n",
              "2   35002  2443.868408\n",
              "3   35003   441.074036\n",
              "4   35004  3858.434326"
            ],
            "text/html": [
              "\n",
              "\n",
              "  <div id=\"df-29f5a70b-0cf1-4c05-9b6a-650ab5d56232\">\n",
              "    <div class=\"colab-df-container\">\n",
              "      <div>\n",
              "<style scoped>\n",
              "    .dataframe tbody tr th:only-of-type {\n",
              "        vertical-align: middle;\n",
              "    }\n",
              "\n",
              "    .dataframe tbody tr th {\n",
              "        vertical-align: top;\n",
              "    }\n",
              "\n",
              "    .dataframe thead th {\n",
              "        text-align: right;\n",
              "    }\n",
              "</style>\n",
              "<table border=\"1\" class=\"dataframe\">\n",
              "  <thead>\n",
              "    <tr style=\"text-align: right;\">\n",
              "      <th></th>\n",
              "      <th>row_ID</th>\n",
              "      <th>final_price</th>\n",
              "    </tr>\n",
              "  </thead>\n",
              "  <tbody>\n",
              "    <tr>\n",
              "      <th>0</th>\n",
              "      <td>35000</td>\n",
              "      <td>2890.398682</td>\n",
              "    </tr>\n",
              "    <tr>\n",
              "      <th>1</th>\n",
              "      <td>35001</td>\n",
              "      <td>6084.673828</td>\n",
              "    </tr>\n",
              "    <tr>\n",
              "      <th>2</th>\n",
              "      <td>35002</td>\n",
              "      <td>2443.868408</td>\n",
              "    </tr>\n",
              "    <tr>\n",
              "      <th>3</th>\n",
              "      <td>35003</td>\n",
              "      <td>441.074036</td>\n",
              "    </tr>\n",
              "    <tr>\n",
              "      <th>4</th>\n",
              "      <td>35004</td>\n",
              "      <td>3858.434326</td>\n",
              "    </tr>\n",
              "  </tbody>\n",
              "</table>\n",
              "</div>\n",
              "      <button class=\"colab-df-convert\" onclick=\"convertToInteractive('df-29f5a70b-0cf1-4c05-9b6a-650ab5d56232')\"\n",
              "              title=\"Convert this dataframe to an interactive table.\"\n",
              "              style=\"display:none;\">\n",
              "\n",
              "  <svg xmlns=\"http://www.w3.org/2000/svg\" height=\"24px\"viewBox=\"0 0 24 24\"\n",
              "       width=\"24px\">\n",
              "    <path d=\"M0 0h24v24H0V0z\" fill=\"none\"/>\n",
              "    <path d=\"M18.56 5.44l.94 2.06.94-2.06 2.06-.94-2.06-.94-.94-2.06-.94 2.06-2.06.94zm-11 1L8.5 8.5l.94-2.06 2.06-.94-2.06-.94L8.5 2.5l-.94 2.06-2.06.94zm10 10l.94 2.06.94-2.06 2.06-.94-2.06-.94-.94-2.06-.94 2.06-2.06.94z\"/><path d=\"M17.41 7.96l-1.37-1.37c-.4-.4-.92-.59-1.43-.59-.52 0-1.04.2-1.43.59L10.3 9.45l-7.72 7.72c-.78.78-.78 2.05 0 2.83L4 21.41c.39.39.9.59 1.41.59.51 0 1.02-.2 1.41-.59l7.78-7.78 2.81-2.81c.8-.78.8-2.07 0-2.86zM5.41 20L4 18.59l7.72-7.72 1.47 1.35L5.41 20z\"/>\n",
              "  </svg>\n",
              "      </button>\n",
              "\n",
              "\n",
              "\n",
              "    <div id=\"df-19177c6b-27e4-43da-8e0b-affb3ff015c8\">\n",
              "      <button class=\"colab-df-quickchart\" onclick=\"quickchart('df-19177c6b-27e4-43da-8e0b-affb3ff015c8')\"\n",
              "              title=\"Suggest charts.\"\n",
              "              style=\"display:none;\">\n",
              "\n",
              "<svg xmlns=\"http://www.w3.org/2000/svg\" height=\"24px\"viewBox=\"0 0 24 24\"\n",
              "     width=\"24px\">\n",
              "    <g>\n",
              "        <path d=\"M19 3H5c-1.1 0-2 .9-2 2v14c0 1.1.9 2 2 2h14c1.1 0 2-.9 2-2V5c0-1.1-.9-2-2-2zM9 17H7v-7h2v7zm4 0h-2V7h2v10zm4 0h-2v-4h2v4z\"/>\n",
              "    </g>\n",
              "</svg>\n",
              "      </button>\n",
              "    </div>\n",
              "\n",
              "<style>\n",
              "  .colab-df-quickchart {\n",
              "    background-color: #E8F0FE;\n",
              "    border: none;\n",
              "    border-radius: 50%;\n",
              "    cursor: pointer;\n",
              "    display: none;\n",
              "    fill: #1967D2;\n",
              "    height: 32px;\n",
              "    padding: 0 0 0 0;\n",
              "    width: 32px;\n",
              "  }\n",
              "\n",
              "  .colab-df-quickchart:hover {\n",
              "    background-color: #E2EBFA;\n",
              "    box-shadow: 0px 1px 2px rgba(60, 64, 67, 0.3), 0px 1px 3px 1px rgba(60, 64, 67, 0.15);\n",
              "    fill: #174EA6;\n",
              "  }\n",
              "\n",
              "  [theme=dark] .colab-df-quickchart {\n",
              "    background-color: #3B4455;\n",
              "    fill: #D2E3FC;\n",
              "  }\n",
              "\n",
              "  [theme=dark] .colab-df-quickchart:hover {\n",
              "    background-color: #434B5C;\n",
              "    box-shadow: 0px 1px 3px 1px rgba(0, 0, 0, 0.15);\n",
              "    filter: drop-shadow(0px 1px 2px rgba(0, 0, 0, 0.3));\n",
              "    fill: #FFFFFF;\n",
              "  }\n",
              "</style>\n",
              "\n",
              "    <script>\n",
              "      async function quickchart(key) {\n",
              "        const containerElement = document.querySelector('#' + key);\n",
              "        const charts = await google.colab.kernel.invokeFunction(\n",
              "            'suggestCharts', [key], {});\n",
              "      }\n",
              "    </script>\n",
              "\n",
              "      <script>\n",
              "\n",
              "function displayQuickchartButton(domScope) {\n",
              "  let quickchartButtonEl =\n",
              "    domScope.querySelector('#df-19177c6b-27e4-43da-8e0b-affb3ff015c8 button.colab-df-quickchart');\n",
              "  quickchartButtonEl.style.display =\n",
              "    google.colab.kernel.accessAllowed ? 'block' : 'none';\n",
              "}\n",
              "\n",
              "        displayQuickchartButton(document);\n",
              "      </script>\n",
              "      <style>\n",
              "    .colab-df-container {\n",
              "      display:flex;\n",
              "      flex-wrap:wrap;\n",
              "      gap: 12px;\n",
              "    }\n",
              "\n",
              "    .colab-df-convert {\n",
              "      background-color: #E8F0FE;\n",
              "      border: none;\n",
              "      border-radius: 50%;\n",
              "      cursor: pointer;\n",
              "      display: none;\n",
              "      fill: #1967D2;\n",
              "      height: 32px;\n",
              "      padding: 0 0 0 0;\n",
              "      width: 32px;\n",
              "    }\n",
              "\n",
              "    .colab-df-convert:hover {\n",
              "      background-color: #E2EBFA;\n",
              "      box-shadow: 0px 1px 2px rgba(60, 64, 67, 0.3), 0px 1px 3px 1px rgba(60, 64, 67, 0.15);\n",
              "      fill: #174EA6;\n",
              "    }\n",
              "\n",
              "    [theme=dark] .colab-df-convert {\n",
              "      background-color: #3B4455;\n",
              "      fill: #D2E3FC;\n",
              "    }\n",
              "\n",
              "    [theme=dark] .colab-df-convert:hover {\n",
              "      background-color: #434B5C;\n",
              "      box-shadow: 0px 1px 3px 1px rgba(0, 0, 0, 0.15);\n",
              "      filter: drop-shadow(0px 1px 2px rgba(0, 0, 0, 0.3));\n",
              "      fill: #FFFFFF;\n",
              "    }\n",
              "  </style>\n",
              "\n",
              "      <script>\n",
              "        const buttonEl =\n",
              "          document.querySelector('#df-29f5a70b-0cf1-4c05-9b6a-650ab5d56232 button.colab-df-convert');\n",
              "        buttonEl.style.display =\n",
              "          google.colab.kernel.accessAllowed ? 'block' : 'none';\n",
              "\n",
              "        async function convertToInteractive(key) {\n",
              "          const element = document.querySelector('#df-29f5a70b-0cf1-4c05-9b6a-650ab5d56232');\n",
              "          const dataTable =\n",
              "            await google.colab.kernel.invokeFunction('convertToInteractive',\n",
              "                                                     [key], {});\n",
              "          if (!dataTable) return;\n",
              "\n",
              "          const docLinkHtml = 'Like what you see? Visit the ' +\n",
              "            '<a target=\"_blank\" href=https://colab.research.google.com/notebooks/data_table.ipynb>data table notebook</a>'\n",
              "            + ' to learn more about interactive tables.';\n",
              "          element.innerHTML = '';\n",
              "          dataTable['output_type'] = 'display_data';\n",
              "          await google.colab.output.renderOutput(dataTable, element);\n",
              "          const docLink = document.createElement('div');\n",
              "          docLink.innerHTML = docLinkHtml;\n",
              "          element.appendChild(docLink);\n",
              "        }\n",
              "      </script>\n",
              "    </div>\n",
              "  </div>\n"
            ]
          },
          "metadata": {},
          "execution_count": 11
        }
      ],
      "source": [
        "submission = pd.read_csv('./sample_submission.csv')\n",
        "submission['final_price'] = test_pred.data[:, 0]\n",
        "submission.head()"
      ]
    },
    {
      "cell_type": "code",
      "execution_count": 12,
      "id": "traditional-carrier",
      "metadata": {
        "execution": {
          "iopub.execute_input": "2021-04-28T13:02:42.756966Z",
          "iopub.status.busy": "2021-04-28T13:02:42.756303Z",
          "iopub.status.idle": "2021-04-28T13:02:42.796617Z",
          "shell.execute_reply": "2021-04-28T13:02:42.796055Z"
        },
        "papermill": {
          "duration": 0.409512,
          "end_time": "2021-04-28T13:02:42.796765",
          "exception": false,
          "start_time": "2021-04-28T13:02:42.387253",
          "status": "completed"
        },
        "tags": [],
        "id": "traditional-carrier"
      },
      "outputs": [],
      "source": [
        "submission.to_csv('lightautoml_sample_submission.csv', index = False)"
      ]
    },
    {
      "cell_type": "markdown",
      "source": [
        "Полученное решение можно загрузить на соревнование [Kaggle](https://www.kaggle.com/t/7e9b43b6978b4c18a58c6b60a2da2ed8).\n",
        "\n",
        "\n",
        "**В качестве домашнего задания мы предлагаем вам самостоятельно поэксперементировать с LightAutoML, попробовать побить текущее решение и посоревноваться между собой.**"
      ],
      "metadata": {
        "id": "W9CIbO6aAhKO"
      },
      "id": "W9CIbO6aAhKO"
    },
    {
      "cell_type": "markdown",
      "source": [
        "# Что можно ещё попробовать?\n",
        "\n",
        "* Как бы ни был хорош AutoML, data scientist обладает несомненным преимуществом в виде своего опыта:) Например, вы можете придумать сложные признаки и/или ручной препроцессинг данных перед тем, как запускать LightAutoML. Какие идеи могут быть полезны:  \n",
        "  * убрать редкие значения (outliers);\n",
        "  * посчитать различные аггрегированные значения, например, средние значения числовых признаков по разным группам или частоту возникновения категорий;   \n",
        "  * поработать с VIN номером машины (см. [VIN](https://ru.wikipedia.org/wiki/%D0%98%D0%B4%D0%B5%D0%BD%D1%82%D0%B8%D1%84%D0%B8%D0%BA%D0%B0%D1%86%D0%B8%D0%BE%D0%BD%D0%BD%D1%8B%D0%B9_%D0%BD%D0%BE%D0%BC%D0%B5%D1%80_%D1%82%D1%80%D0%B0%D0%BD%D1%81%D0%BF%D0%BE%D1%80%D1%82%D0%BD%D0%BE%D0%B3%D0%BE_%D1%81%D1%80%D0%B5%D0%B4%D1%81%D1%82%D0%B2%D0%B0))  \n",
        "  * выделить \"особые фишки\" машины (например, необычный цвет);\n",
        "  * выделить дополнительные группы в данных, например, объединить производителей по странам и/или модели по \"премиальности\" итд.\n",
        "\n",
        "* Рассмотреть другой набор моделей.\n",
        "* Попробовать мягче ограничивать перебор решений (увеличить TIMEOUT и/или поменять TabularAutoML на TabularUtilizedAutoML).\n",
        "* \"Поиграться\" с ролями.\n",
        "* Настроить пайплайн [полностью самим](https://github.com/sb-ai-lab/LightAutoML/blob/master/examples/tutorials/Tutorial_6_custom_pipeline.ipynb)) - высший пилотаж :)\n"
      ],
      "metadata": {
        "id": "z-IXvJlHaHdA"
      },
      "id": "z-IXvJlHaHdA"
    },
    {
      "cell_type": "markdown",
      "source": [
        "# Баллы за эксперименты распределяются следующим образом:\n",
        "* Реализована какая-нибудь генерация признаков, которая хоть как-то улучшает базовое решение - 5 баллов;\n",
        "* За особо креативные подходы в генерации признаков - до 10 баллов дополнительно;\n",
        "* Подобраны гиперпараметры TabularAutoML - до 5 баллов;\n",
        "* Отдельно оцениваются эксперименты с TIMEOUT (в т.ч. мотивированный переход на TabularUtilizedAutoML) - 3 балла;\n",
        "------\n",
        "\n",
        "Особые бонусы:\n",
        "\n",
        "* Реализован кастомный pipeline AutoML - до 10 баллов;\n",
        "* Топ K (K $\\in$ {1, 2, 3}) на Kaggle - (4 - K) * 5 баллов.\n",
        "\n",
        "\n",
        "![Good Luck!](https://images.fineartamerica.com/images/artworkimages/mediumlarge/2/no-prob-lama-magdalena-walulik.jpg)\n"
      ],
      "metadata": {
        "id": "rCcJHKZxF3Im"
      },
      "id": "rCcJHKZxF3Im"
    },
    {
      "cell_type": "code",
      "source": [],
      "metadata": {
        "id": "N-ZyVmEtDfnY"
      },
      "id": "N-ZyVmEtDfnY",
      "execution_count": 12,
      "outputs": []
    },
    {
      "cell_type": "markdown",
      "source": [
        "#EDA and Feature tuning"
      ],
      "metadata": {
        "id": "7lSo8tvUDgGu"
      },
      "id": "7lSo8tvUDgGu"
    },
    {
      "cell_type": "code",
      "source": [
        "train_data.sample(5)"
      ],
      "metadata": {
        "id": "xgv0mbOEKQVf",
        "outputId": "3c1b6403-82cc-4176-ec81-01b544746f93",
        "colab": {
          "base_uri": "https://localhost:8080/",
          "height": 357
        }
      },
      "id": "xgv0mbOEKQVf",
      "execution_count": 13,
      "outputs": [
        {
          "output_type": "execute_result",
          "data": {
            "text/plain": [
              "       row_ID vehicle_manufacturer vehicle_model vehicle_category  \\\n",
              "5472     5472              HYUNDAI            H1          Minivan   \n",
              "22924   22924                LEXUS        RX 450             Jeep   \n",
              "9241     9241              HYUNDAI        Accent            Sedan   \n",
              "22340   22340              HYUNDAI        Tucson             Jeep   \n",
              "16765   16765              HYUNDAI        Tucson             Jeep   \n",
              "\n",
              "       current_mileage  vehicle_year vehicle_gearbox_type doors_cnt  \\\n",
              "5472             68578          2014            Automatic       4/5   \n",
              "22924            59858          2016            Automatic       4/5   \n",
              "9241              4444          1997               Manual       2/3   \n",
              "22340           116082          2016            Automatic       4/5   \n",
              "16765           108675          2013            Automatic       4/5   \n",
              "\n",
              "               wheels vehicle_color vehicle_interior_color  \\\n",
              "5472     Left wheel         Silver                  Black    \n",
              "22924    Left wheel         Silver                     NaN   \n",
              "9241     Left wheel           Blue                  Black    \n",
              "22340    Left wheel          White                  Black    \n",
              "16765    Left wheel          Black                     NaN   \n",
              "\n",
              "                   car_vin  car_leather_interior deal_type  final_price  \n",
              "5472                   NaN                     1  For Sale       7831.0  \n",
              "22924   2T2ZZMCA3GC021395                      1  For Sale       3800.0  \n",
              "9241                   NaN                     0  For Sale        319.0  \n",
              "22340                  NaN                     1  For Sale      12122.0  \n",
              "16765   KM8JU3AC8DU772422                      1  For Sale        225.0  "
            ],
            "text/html": [
              "\n",
              "\n",
              "  <div id=\"df-616f75e4-81f5-40f7-8d89-abe456c44bea\">\n",
              "    <div class=\"colab-df-container\">\n",
              "      <div>\n",
              "<style scoped>\n",
              "    .dataframe tbody tr th:only-of-type {\n",
              "        vertical-align: middle;\n",
              "    }\n",
              "\n",
              "    .dataframe tbody tr th {\n",
              "        vertical-align: top;\n",
              "    }\n",
              "\n",
              "    .dataframe thead th {\n",
              "        text-align: right;\n",
              "    }\n",
              "</style>\n",
              "<table border=\"1\" class=\"dataframe\">\n",
              "  <thead>\n",
              "    <tr style=\"text-align: right;\">\n",
              "      <th></th>\n",
              "      <th>row_ID</th>\n",
              "      <th>vehicle_manufacturer</th>\n",
              "      <th>vehicle_model</th>\n",
              "      <th>vehicle_category</th>\n",
              "      <th>current_mileage</th>\n",
              "      <th>vehicle_year</th>\n",
              "      <th>vehicle_gearbox_type</th>\n",
              "      <th>doors_cnt</th>\n",
              "      <th>wheels</th>\n",
              "      <th>vehicle_color</th>\n",
              "      <th>vehicle_interior_color</th>\n",
              "      <th>car_vin</th>\n",
              "      <th>car_leather_interior</th>\n",
              "      <th>deal_type</th>\n",
              "      <th>final_price</th>\n",
              "    </tr>\n",
              "  </thead>\n",
              "  <tbody>\n",
              "    <tr>\n",
              "      <th>5472</th>\n",
              "      <td>5472</td>\n",
              "      <td>HYUNDAI</td>\n",
              "      <td>H1</td>\n",
              "      <td>Minivan</td>\n",
              "      <td>68578</td>\n",
              "      <td>2014</td>\n",
              "      <td>Automatic</td>\n",
              "      <td>4/5</td>\n",
              "      <td>Left wheel</td>\n",
              "      <td>Silver</td>\n",
              "      <td>Black</td>\n",
              "      <td>NaN</td>\n",
              "      <td>1</td>\n",
              "      <td>For Sale</td>\n",
              "      <td>7831.0</td>\n",
              "    </tr>\n",
              "    <tr>\n",
              "      <th>22924</th>\n",
              "      <td>22924</td>\n",
              "      <td>LEXUS</td>\n",
              "      <td>RX 450</td>\n",
              "      <td>Jeep</td>\n",
              "      <td>59858</td>\n",
              "      <td>2016</td>\n",
              "      <td>Automatic</td>\n",
              "      <td>4/5</td>\n",
              "      <td>Left wheel</td>\n",
              "      <td>Silver</td>\n",
              "      <td>NaN</td>\n",
              "      <td>2T2ZZMCA3GC021395</td>\n",
              "      <td>1</td>\n",
              "      <td>For Sale</td>\n",
              "      <td>3800.0</td>\n",
              "    </tr>\n",
              "    <tr>\n",
              "      <th>9241</th>\n",
              "      <td>9241</td>\n",
              "      <td>HYUNDAI</td>\n",
              "      <td>Accent</td>\n",
              "      <td>Sedan</td>\n",
              "      <td>4444</td>\n",
              "      <td>1997</td>\n",
              "      <td>Manual</td>\n",
              "      <td>2/3</td>\n",
              "      <td>Left wheel</td>\n",
              "      <td>Blue</td>\n",
              "      <td>Black</td>\n",
              "      <td>NaN</td>\n",
              "      <td>0</td>\n",
              "      <td>For Sale</td>\n",
              "      <td>319.0</td>\n",
              "    </tr>\n",
              "    <tr>\n",
              "      <th>22340</th>\n",
              "      <td>22340</td>\n",
              "      <td>HYUNDAI</td>\n",
              "      <td>Tucson</td>\n",
              "      <td>Jeep</td>\n",
              "      <td>116082</td>\n",
              "      <td>2016</td>\n",
              "      <td>Automatic</td>\n",
              "      <td>4/5</td>\n",
              "      <td>Left wheel</td>\n",
              "      <td>White</td>\n",
              "      <td>Black</td>\n",
              "      <td>NaN</td>\n",
              "      <td>1</td>\n",
              "      <td>For Sale</td>\n",
              "      <td>12122.0</td>\n",
              "    </tr>\n",
              "    <tr>\n",
              "      <th>16765</th>\n",
              "      <td>16765</td>\n",
              "      <td>HYUNDAI</td>\n",
              "      <td>Tucson</td>\n",
              "      <td>Jeep</td>\n",
              "      <td>108675</td>\n",
              "      <td>2013</td>\n",
              "      <td>Automatic</td>\n",
              "      <td>4/5</td>\n",
              "      <td>Left wheel</td>\n",
              "      <td>Black</td>\n",
              "      <td>NaN</td>\n",
              "      <td>KM8JU3AC8DU772422</td>\n",
              "      <td>1</td>\n",
              "      <td>For Sale</td>\n",
              "      <td>225.0</td>\n",
              "    </tr>\n",
              "  </tbody>\n",
              "</table>\n",
              "</div>\n",
              "      <button class=\"colab-df-convert\" onclick=\"convertToInteractive('df-616f75e4-81f5-40f7-8d89-abe456c44bea')\"\n",
              "              title=\"Convert this dataframe to an interactive table.\"\n",
              "              style=\"display:none;\">\n",
              "\n",
              "  <svg xmlns=\"http://www.w3.org/2000/svg\" height=\"24px\"viewBox=\"0 0 24 24\"\n",
              "       width=\"24px\">\n",
              "    <path d=\"M0 0h24v24H0V0z\" fill=\"none\"/>\n",
              "    <path d=\"M18.56 5.44l.94 2.06.94-2.06 2.06-.94-2.06-.94-.94-2.06-.94 2.06-2.06.94zm-11 1L8.5 8.5l.94-2.06 2.06-.94-2.06-.94L8.5 2.5l-.94 2.06-2.06.94zm10 10l.94 2.06.94-2.06 2.06-.94-2.06-.94-.94-2.06-.94 2.06-2.06.94z\"/><path d=\"M17.41 7.96l-1.37-1.37c-.4-.4-.92-.59-1.43-.59-.52 0-1.04.2-1.43.59L10.3 9.45l-7.72 7.72c-.78.78-.78 2.05 0 2.83L4 21.41c.39.39.9.59 1.41.59.51 0 1.02-.2 1.41-.59l7.78-7.78 2.81-2.81c.8-.78.8-2.07 0-2.86zM5.41 20L4 18.59l7.72-7.72 1.47 1.35L5.41 20z\"/>\n",
              "  </svg>\n",
              "      </button>\n",
              "\n",
              "\n",
              "\n",
              "    <div id=\"df-cf98707c-a471-41e7-b024-f5359177b695\">\n",
              "      <button class=\"colab-df-quickchart\" onclick=\"quickchart('df-cf98707c-a471-41e7-b024-f5359177b695')\"\n",
              "              title=\"Suggest charts.\"\n",
              "              style=\"display:none;\">\n",
              "\n",
              "<svg xmlns=\"http://www.w3.org/2000/svg\" height=\"24px\"viewBox=\"0 0 24 24\"\n",
              "     width=\"24px\">\n",
              "    <g>\n",
              "        <path d=\"M19 3H5c-1.1 0-2 .9-2 2v14c0 1.1.9 2 2 2h14c1.1 0 2-.9 2-2V5c0-1.1-.9-2-2-2zM9 17H7v-7h2v7zm4 0h-2V7h2v10zm4 0h-2v-4h2v4z\"/>\n",
              "    </g>\n",
              "</svg>\n",
              "      </button>\n",
              "    </div>\n",
              "\n",
              "<style>\n",
              "  .colab-df-quickchart {\n",
              "    background-color: #E8F0FE;\n",
              "    border: none;\n",
              "    border-radius: 50%;\n",
              "    cursor: pointer;\n",
              "    display: none;\n",
              "    fill: #1967D2;\n",
              "    height: 32px;\n",
              "    padding: 0 0 0 0;\n",
              "    width: 32px;\n",
              "  }\n",
              "\n",
              "  .colab-df-quickchart:hover {\n",
              "    background-color: #E2EBFA;\n",
              "    box-shadow: 0px 1px 2px rgba(60, 64, 67, 0.3), 0px 1px 3px 1px rgba(60, 64, 67, 0.15);\n",
              "    fill: #174EA6;\n",
              "  }\n",
              "\n",
              "  [theme=dark] .colab-df-quickchart {\n",
              "    background-color: #3B4455;\n",
              "    fill: #D2E3FC;\n",
              "  }\n",
              "\n",
              "  [theme=dark] .colab-df-quickchart:hover {\n",
              "    background-color: #434B5C;\n",
              "    box-shadow: 0px 1px 3px 1px rgba(0, 0, 0, 0.15);\n",
              "    filter: drop-shadow(0px 1px 2px rgba(0, 0, 0, 0.3));\n",
              "    fill: #FFFFFF;\n",
              "  }\n",
              "</style>\n",
              "\n",
              "    <script>\n",
              "      async function quickchart(key) {\n",
              "        const containerElement = document.querySelector('#' + key);\n",
              "        const charts = await google.colab.kernel.invokeFunction(\n",
              "            'suggestCharts', [key], {});\n",
              "      }\n",
              "    </script>\n",
              "\n",
              "      <script>\n",
              "\n",
              "function displayQuickchartButton(domScope) {\n",
              "  let quickchartButtonEl =\n",
              "    domScope.querySelector('#df-cf98707c-a471-41e7-b024-f5359177b695 button.colab-df-quickchart');\n",
              "  quickchartButtonEl.style.display =\n",
              "    google.colab.kernel.accessAllowed ? 'block' : 'none';\n",
              "}\n",
              "\n",
              "        displayQuickchartButton(document);\n",
              "      </script>\n",
              "      <style>\n",
              "    .colab-df-container {\n",
              "      display:flex;\n",
              "      flex-wrap:wrap;\n",
              "      gap: 12px;\n",
              "    }\n",
              "\n",
              "    .colab-df-convert {\n",
              "      background-color: #E8F0FE;\n",
              "      border: none;\n",
              "      border-radius: 50%;\n",
              "      cursor: pointer;\n",
              "      display: none;\n",
              "      fill: #1967D2;\n",
              "      height: 32px;\n",
              "      padding: 0 0 0 0;\n",
              "      width: 32px;\n",
              "    }\n",
              "\n",
              "    .colab-df-convert:hover {\n",
              "      background-color: #E2EBFA;\n",
              "      box-shadow: 0px 1px 2px rgba(60, 64, 67, 0.3), 0px 1px 3px 1px rgba(60, 64, 67, 0.15);\n",
              "      fill: #174EA6;\n",
              "    }\n",
              "\n",
              "    [theme=dark] .colab-df-convert {\n",
              "      background-color: #3B4455;\n",
              "      fill: #D2E3FC;\n",
              "    }\n",
              "\n",
              "    [theme=dark] .colab-df-convert:hover {\n",
              "      background-color: #434B5C;\n",
              "      box-shadow: 0px 1px 3px 1px rgba(0, 0, 0, 0.15);\n",
              "      filter: drop-shadow(0px 1px 2px rgba(0, 0, 0, 0.3));\n",
              "      fill: #FFFFFF;\n",
              "    }\n",
              "  </style>\n",
              "\n",
              "      <script>\n",
              "        const buttonEl =\n",
              "          document.querySelector('#df-616f75e4-81f5-40f7-8d89-abe456c44bea button.colab-df-convert');\n",
              "        buttonEl.style.display =\n",
              "          google.colab.kernel.accessAllowed ? 'block' : 'none';\n",
              "\n",
              "        async function convertToInteractive(key) {\n",
              "          const element = document.querySelector('#df-616f75e4-81f5-40f7-8d89-abe456c44bea');\n",
              "          const dataTable =\n",
              "            await google.colab.kernel.invokeFunction('convertToInteractive',\n",
              "                                                     [key], {});\n",
              "          if (!dataTable) return;\n",
              "\n",
              "          const docLinkHtml = 'Like what you see? Visit the ' +\n",
              "            '<a target=\"_blank\" href=https://colab.research.google.com/notebooks/data_table.ipynb>data table notebook</a>'\n",
              "            + ' to learn more about interactive tables.';\n",
              "          element.innerHTML = '';\n",
              "          dataTable['output_type'] = 'display_data';\n",
              "          await google.colab.output.renderOutput(dataTable, element);\n",
              "          const docLink = document.createElement('div');\n",
              "          docLink.innerHTML = docLinkHtml;\n",
              "          element.appendChild(docLink);\n",
              "        }\n",
              "      </script>\n",
              "    </div>\n",
              "  </div>\n"
            ]
          },
          "metadata": {},
          "execution_count": 13
        }
      ]
    },
    {
      "cell_type": "code",
      "source": [
        "train_data['car_vds'] = train_data['car_vin'].apply(lambda x: str(x).replace(\" \", \"\")[3:8])\n",
        "test_data['car_vds'] = test_data['car_vin'].apply(lambda x: str(x).replace(\" \", \"\")[3:8])\n",
        "\n",
        "train_data['country'] = train_data['car_vin'].apply(lambda x: str(x).replace(\" \", \"\")[0:3])\n",
        "test_data['country'] = test_data['car_vin'].apply(lambda x: str(x).replace(\" \", \"\")[0:3])"
      ],
      "metadata": {
        "id": "gexXvZx3cxZ0"
      },
      "id": "gexXvZx3cxZ0",
      "execution_count": 14,
      "outputs": []
    },
    {
      "cell_type": "code",
      "source": [
        "train_data.isna().sum() / train_data.shape[0]"
      ],
      "metadata": {
        "id": "8w6PiVHaiPm8",
        "outputId": "cc95bb4b-85cb-472b-85ec-029eafe867a7",
        "colab": {
          "base_uri": "https://localhost:8080/"
        }
      },
      "id": "8w6PiVHaiPm8",
      "execution_count": 15,
      "outputs": [
        {
          "output_type": "execute_result",
          "data": {
            "text/plain": [
              "row_ID                    0.000000\n",
              "vehicle_manufacturer      0.000029\n",
              "vehicle_model             0.000200\n",
              "vehicle_category          0.000029\n",
              "current_mileage           0.000000\n",
              "vehicle_year              0.000000\n",
              "vehicle_gearbox_type      0.000029\n",
              "doors_cnt                 0.021286\n",
              "wheels                    0.000029\n",
              "vehicle_color             0.011457\n",
              "vehicle_interior_color    0.191943\n",
              "car_vin                   0.671771\n",
              "car_leather_interior      0.000000\n",
              "deal_type                 0.000000\n",
              "final_price               0.000000\n",
              "car_vds                   0.000000\n",
              "country                   0.000000\n",
              "dtype: float64"
            ]
          },
          "metadata": {},
          "execution_count": 15
        }
      ]
    },
    {
      "cell_type": "code",
      "source": [
        "test_data.isna().sum() / train_data.shape[0]"
      ],
      "metadata": {
        "id": "5LvIjxeQiuJ4",
        "outputId": "07208bfc-a397-4d30-8d80-07d89ca414c5",
        "colab": {
          "base_uri": "https://localhost:8080/"
        }
      },
      "id": "5LvIjxeQiuJ4",
      "execution_count": 16,
      "outputs": [
        {
          "output_type": "execute_result",
          "data": {
            "text/plain": [
              "row_ID                    0.000000\n",
              "vehicle_manufacturer      0.000029\n",
              "vehicle_model             0.000057\n",
              "vehicle_category          0.000029\n",
              "current_mileage           0.000000\n",
              "vehicle_year              0.000000\n",
              "vehicle_gearbox_type      0.000029\n",
              "doors_cnt                 0.006371\n",
              "wheels                    0.000029\n",
              "vehicle_color             0.003829\n",
              "vehicle_interior_color    0.059371\n",
              "car_vin                   0.203743\n",
              "car_leather_interior      0.000000\n",
              "deal_type                 0.000000\n",
              "car_vds                   0.000000\n",
              "country                   0.000000\n",
              "dtype: float64"
            ]
          },
          "metadata": {},
          "execution_count": 16
        }
      ]
    },
    {
      "cell_type": "code",
      "source": [
        "train_data['vehicle_manufacturer'].value_counts(normalize=True)"
      ],
      "metadata": {
        "id": "AEMNUWuPkH2_",
        "outputId": "cfe308ba-0431-4417-f3a6-c0e1a6a5395a",
        "colab": {
          "base_uri": "https://localhost:8080/"
        }
      },
      "id": "AEMNUWuPkH2_",
      "execution_count": 17,
      "outputs": [
        {
          "output_type": "execute_result",
          "data": {
            "text/plain": [
              "TOYOTA           0.193377\n",
              "HYUNDAI          0.179605\n",
              "MERCEDES-BENZ    0.114918\n",
              "FORD             0.064830\n",
              "LEXUS            0.050744\n",
              "                   ...   \n",
              "MG               0.000029\n",
              "JAC              0.000029\n",
              "TATA             0.000029\n",
              "LANCIA           0.000029\n",
              "LAMBORGHINI      0.000029\n",
              "Name: vehicle_manufacturer, Length: 68, dtype: float64"
            ]
          },
          "metadata": {},
          "execution_count": 17
        }
      ]
    },
    {
      "cell_type": "code",
      "source": [
        "num_cols = train_data.select_dtypes(exclude = 'object')\n",
        "cat_cols = train_data.select_dtypes(include = 'object')"
      ],
      "metadata": {
        "id": "8hNHWd4lmbH6"
      },
      "id": "8hNHWd4lmbH6",
      "execution_count": 18,
      "outputs": []
    },
    {
      "cell_type": "code",
      "source": [
        "import pandas as pd\n",
        "import numpy as np\n",
        "import matplotlib.pyplot as plt\n",
        "import seaborn as sns\n",
        "import plotly.express as px\n",
        "\n",
        "import warnings\n",
        "warnings.filterwarnings('ignore')\n",
        "\n",
        "plt.style.use('fivethirtyeight')\n",
        "%matplotlib inline"
      ],
      "metadata": {
        "id": "Qx1BVUVdmi8q"
      },
      "id": "Qx1BVUVdmi8q",
      "execution_count": 19,
      "outputs": []
    },
    {
      "cell_type": "code",
      "source": [],
      "metadata": {
        "id": "P64ScOTKm7p2"
      },
      "id": "P64ScOTKm7p2",
      "execution_count": 19,
      "outputs": []
    },
    {
      "cell_type": "markdown",
      "source": [],
      "metadata": {
        "id": "CXMUgQ0hm8vh"
      },
      "id": "CXMUgQ0hm8vh"
    },
    {
      "cell_type": "code",
      "source": [
        "cols = num_cols.columns\n",
        "\n",
        "plt.figure(figsize = (16, 20))\n",
        "plotnumber = 1\n",
        "\n",
        "for i in range(1, len(cols)):\n",
        "    if plotnumber <= 16:\n",
        "        ax = plt.subplot(4, 4, plotnumber)\n",
        "        sns.boxplot(y = cols[i], data = train_data, ax = ax)\n",
        "        plt.title(f\"\\n{cols[i]} \\n\", fontsize = 20)\n",
        "\n",
        "    plotnumber += 1\n",
        "\n",
        "plt.tight_layout()\n",
        "plt.show()"
      ],
      "metadata": {
        "id": "9pLDtH43kg1g",
        "outputId": "bb6c2de4-7121-4b2e-d1c8-ce1e5ac402cc",
        "colab": {
          "base_uri": "https://localhost:8080/",
          "height": 568
        }
      },
      "id": "9pLDtH43kg1g",
      "execution_count": 20,
      "outputs": [
        {
          "output_type": "display_data",
          "data": {
            "text/plain": [
              "<Figure size 1600x2000 with 4 Axes>"
            ],
            "image/png": "[encoded data removed]"
          },
          "metadata": {}
        }
      ]
    },
    {
      "cell_type": "code",
      "source": [
        "num_cols_test = test_data.select_dtypes(exclude = 'object')\n",
        "cat_cols_test = test_data.select_dtypes(include = 'object')"
      ],
      "metadata": {
        "id": "In81mtbIo3Bv"
      },
      "id": "In81mtbIo3Bv",
      "execution_count": 21,
      "outputs": []
    },
    {
      "cell_type": "code",
      "source": [
        "cols = num_cols_test.columns\n",
        "\n",
        "plt.figure(figsize = (16, 20))\n",
        "plotnumber = 1\n",
        "\n",
        "for i in range(1, len(cols)):\n",
        "    if plotnumber <= 16:\n",
        "        ax = plt.subplot(4, 4, plotnumber)\n",
        "        sns.boxplot(y = cols[i], data = test_data, ax = ax)\n",
        "        plt.title(f\"\\n{cols[i]} \\n\", fontsize = 20)\n",
        "\n",
        "    plotnumber += 1\n",
        "\n",
        "plt.tight_layout()\n",
        "plt.show()"
      ],
      "metadata": {
        "id": "lQsmCyN_mr9R",
        "outputId": "1785e991-9122-48b7-a638-6626b6ee7287",
        "colab": {
          "base_uri": "https://localhost:8080/",
          "height": 597
        }
      },
      "id": "lQsmCyN_mr9R",
      "execution_count": 22,
      "outputs": [
        {
          "output_type": "display_data",
          "data": {
            "text/plain": [
              "<Figure size 1600x2000 with 3 Axes>"
            ],
            "image/png": "[encoded data removed]"
          },
          "metadata": {}
        }
      ]
    },
    {
      "cell_type": "code",
      "source": [
        "train_data = train_data[train_data['final_price']< 1000000]"
      ],
      "metadata": {
        "id": "jma40LLKo_by"
      },
      "id": "jma40LLKo_by",
      "execution_count": 23,
      "outputs": []
    },
    {
      "cell_type": "code",
      "source": [
        "train_data.deal_type.value_counts()"
      ],
      "metadata": {
        "id": "Gnmy_khJpcn-",
        "outputId": "be364935-c230-4f9c-9221-54c574665c03",
        "colab": {
          "base_uri": "https://localhost:8080/"
        }
      },
      "id": "Gnmy_khJpcn-",
      "execution_count": 24,
      "outputs": [
        {
          "output_type": "execute_result",
          "data": {
            "text/plain": [
              "For Sale    34367\n",
              "For Rent      628\n",
              "Name: deal_type, dtype: int64"
            ]
          },
          "metadata": {},
          "execution_count": 24
        }
      ]
    },
    {
      "cell_type": "code",
      "source": [
        "train_data['car_cond'] = train_data['current_mileage'] / (2023 - train_data['vehicle_year'])"
      ],
      "metadata": {
        "id": "_2uNagu4pqwI"
      },
      "id": "_2uNagu4pqwI",
      "execution_count": 25,
      "outputs": []
    },
    {
      "cell_type": "code",
      "source": [
        "plt.subplots(figsize=(10,10))\n",
        "sns.scatterplot(x = 'current_mileage', y = 'final_price', data = train_data, hue='vehicle_color', palette='rocket')\n"
      ],
      "metadata": {
        "id": "vd8ZY0yysJDv",
        "outputId": "5c7da78f-e22f-41ab-9627-6854bba9abb2",
        "colab": {
          "base_uri": "https://localhost:8080/",
          "height": 916
        }
      },
      "id": "vd8ZY0yysJDv",
      "execution_count": 26,
      "outputs": [
        {
          "output_type": "execute_result",
          "data": {
            "text/plain": [
              "<Axes: xlabel='current_mileage', ylabel='final_price'>"
            ]
          },
          "metadata": {},
          "execution_count": 26
        },
        {
          "output_type": "display_data",
          "data": {
            "text/plain": [
              "<Figure size 1000x1000 with 1 Axes>"
            ],
            "image/png": "[encoded data removed]"
          },
          "metadata": {}
        }
      ]
    },
    {
      "cell_type": "code",
      "source": [
        "plt.subplots(figsize=(10,10))\n",
        "sns.scatterplot(x = 'current_mileage', y = 'final_price', data = train_data, hue='vehicle_interior_color', palette='rocket')"
      ],
      "metadata": {
        "id": "5DYa3MogsNu_",
        "outputId": "862fd06c-81f3-41f9-f8ba-df545c374dad",
        "colab": {
          "base_uri": "https://localhost:8080/",
          "height": 916
        }
      },
      "id": "5DYa3MogsNu_",
      "execution_count": 27,
      "outputs": [
        {
          "output_type": "execute_result",
          "data": {
            "text/plain": [
              "<Axes: xlabel='current_mileage', ylabel='final_price'>"
            ]
          },
          "metadata": {},
          "execution_count": 27
        },
        {
          "output_type": "display_data",
          "data": {
            "text/plain": [
              "<Figure size 1000x1000 with 1 Axes>"
            ],
            "image/png": "[encoded data removed]"
          },
          "metadata": {}
        }
      ]
    },
    {
      "cell_type": "code",
      "source": [
        "def spec_col_int(col: str):\n",
        "\n",
        "  if col in ['Golden', 'Carnelian red', 'Yellow', 'Blue', 'White', 'Red', 'Beige']:\n",
        "    return 1\n",
        "  else:\n",
        "    return 0\n",
        "\n",
        "def spec_col_out(col: str):\n",
        "\n",
        "  if col in ['Golden', 'Carnelian red', 'Yellow', 'Pink', 'Red', 'Purple', 'Beige']:\n",
        "    return 1\n",
        "  else:\n",
        "    return 0"
      ],
      "metadata": {
        "id": "_MLuC5hgwgTT"
      },
      "id": "_MLuC5hgwgTT",
      "execution_count": 28,
      "outputs": []
    },
    {
      "cell_type": "code",
      "source": [
        "train_data['spec_col_int'] = train_data['vehicle_interior_color'].fillna(0).apply(lambda x: spec_col_int(str(x).replace(\" \", \"\")))\n",
        "train_data['spec_col_out'] = train_data['vehicle_color'].fillna(0).apply(lambda x: spec_col_out(str(x).replace(\" \", \"\")))"
      ],
      "metadata": {
        "id": "fiK6oIzux1KP"
      },
      "id": "fiK6oIzux1KP",
      "execution_count": 29,
      "outputs": []
    },
    {
      "cell_type": "code",
      "source": [
        "f, ax = plt.subplots(figsize = (5,5))\n",
        "\n",
        "sns.boxplot(y = 'final_price', data = train_data, ax = ax)\n"
      ],
      "metadata": {
        "id": "a7a0-SWhyQW6",
        "outputId": "b24533a2-c2c5-462a-cd8b-ee501820a627",
        "colab": {
          "base_uri": "https://localhost:8080/",
          "height": 459
        }
      },
      "id": "a7a0-SWhyQW6",
      "execution_count": 32,
      "outputs": [
        {
          "output_type": "execute_result",
          "data": {
            "text/plain": [
              "<Axes: ylabel='final_price'>"
            ]
          },
          "metadata": {},
          "execution_count": 32
        },
        {
          "output_type": "display_data",
          "data": {
            "text/plain": [
              "<Figure size 500x500 with 1 Axes>"
            ],
            "image/png": "[encoded data removed]"
          },
          "metadata": {}
        }
      ]
    },
    {
      "cell_type": "code",
      "source": [
        "test_data['spec_col_int'] = test_data['vehicle_interior_color'].fillna(0).apply(lambda x: spec_col_int(str(x).replace(\" \", \"\")))\n",
        "test_data['spec_col_out'] = test_data['vehicle_color'].fillna(0).apply(lambda x: spec_col_out(str(x).replace(\" \", \"\")))"
      ],
      "metadata": {
        "id": "48zoTEZ0yjTv"
      },
      "id": "48zoTEZ0yjTv",
      "execution_count": 33,
      "outputs": []
    },
    {
      "cell_type": "code",
      "source": [
        "test_data['car_cond'] = test_data['current_mileage'] / (2023 - test_data['vehicle_year'])"
      ],
      "metadata": {
        "id": "W9tlN53V1urx"
      },
      "id": "W9tlN53V1urx",
      "execution_count": 34,
      "outputs": []
    },
    {
      "cell_type": "code",
      "source": [
        "cols_drop = ['deal_type']"
      ],
      "metadata": {
        "id": "tGDh8HHU7h5D"
      },
      "id": "tGDh8HHU7h5D",
      "execution_count": 35,
      "outputs": []
    },
    {
      "cell_type": "code",
      "source": [
        "train_data.drop(columns=cols_drop, inplace=True)\n",
        "test_data.drop(columns=cols_drop, inplace=True)"
      ],
      "metadata": {
        "id": "JI9qb0Fz2W-r"
      },
      "id": "JI9qb0Fz2W-r",
      "execution_count": 36,
      "outputs": []
    },
    {
      "cell_type": "code",
      "source": [
        "train_data.set_index('row_ID', inplace=True)"
      ],
      "metadata": {
        "id": "obTFpY1MBbT0"
      },
      "id": "obTFpY1MBbT0",
      "execution_count": 58,
      "outputs": []
    },
    {
      "cell_type": "code",
      "source": [
        "test_data.set_index('row_ID', inplace=True)"
      ],
      "metadata": {
        "id": "_1LUmnZultGY"
      },
      "id": "_1LUmnZultGY",
      "execution_count": 59,
      "outputs": []
    },
    {
      "cell_type": "markdown",
      "source": [
        "#Custom LAMA"
      ],
      "metadata": {
        "id": "577OsNznDNe8"
      },
      "id": "577OsNznDNe8"
    },
    {
      "cell_type": "code",
      "source": [
        "from lightautoml.ml_algo.linear_sklearn import LinearL1CD, LinearEstimator, LinearLBFGS"
      ],
      "metadata": {
        "id": "0bKtdvOjHnPS"
      },
      "id": "0bKtdvOjHnPS",
      "execution_count": 45,
      "outputs": []
    },
    {
      "cell_type": "code",
      "source": [
        "# Imports from our package\n",
        "from lightautoml.automl.base import AutoML\n",
        "from lightautoml.ml_algo.boost_lgbm import BoostLGBM\n",
        "from lightautoml.ml_algo.tuning.optuna import OptunaTuner\n",
        "from lightautoml.pipelines.features.lgb_pipeline import LGBSimpleFeatures\n",
        "from lightautoml.pipelines.ml.base import MLPipeline\n",
        "from lightautoml.pipelines.selection.importance_based import ImportanceCutoffSelector, ModelBasedImportanceEstimator\n",
        "from lightautoml.reader.base import PandasToPandasReader\n",
        "from lightautoml.tasks import Task\n",
        "from lightautoml.automl.blend import WeightedBlender"
      ],
      "metadata": {
        "id": "b3K6_Vd-Dx3D"
      },
      "id": "b3K6_Vd-Dx3D",
      "execution_count": 39,
      "outputs": []
    },
    {
      "cell_type": "code",
      "source": [],
      "metadata": {
        "id": "6ivPbny_DvZA"
      },
      "id": "6ivPbny_DvZA",
      "execution_count": 39,
      "outputs": []
    },
    {
      "cell_type": "code",
      "source": [
        "# несколько важных переменных\n",
        "N_THREADS = mp.cpu_count()\n",
        "N_FOLDS = 5\n",
        "RANDOM_STATE = 42\n",
        "TIMEOUT = 3600\n"
      ],
      "metadata": {
        "id": "BOhRVsl8DP9o"
      },
      "id": "BOhRVsl8DP9o",
      "execution_count": 111,
      "outputs": []
    },
    {
      "cell_type": "code",
      "source": [
        "task = Task(name='reg', loss='mae', metric='mae')\n",
        "reader = PandasToPandasReader(task, cv=N_FOLDS, random_state=RANDOM_STATE)\n"
      ],
      "metadata": {
        "id": "xyKtLP5QIgaq"
      },
      "id": "xyKtLP5QIgaq",
      "execution_count": 112,
      "outputs": []
    },
    {
      "cell_type": "code",
      "source": [
        "model0 = BoostLGBM(\n",
        "    default_params={'learning_rate': 0.05, 'num_leaves': 64, 'seed': 42, 'num_threads': N_THREADS}\n",
        ")\n",
        "pipe0 = LGBSimpleFeatures()\n",
        "mbie = ModelBasedImportanceEstimator()\n",
        "selector = ImportanceCutoffSelector(pipe0, model0, mbie, cutoff=0)"
      ],
      "metadata": {
        "id": "-zqovOSKJtZL"
      },
      "id": "-zqovOSKJtZL",
      "execution_count": 113,
      "outputs": []
    },
    {
      "cell_type": "code",
      "source": [
        "\n",
        "\n",
        "pipe = LGBSimpleFeatures()\n",
        "\n",
        "params_tuner1 = OptunaTuner(n_trials=20, timeout=30) # stop after 20 iterations or after 30 seconds\n",
        "model1 = LinearLBFGS(\n",
        "    default_params={'early_stopping': 5, 'cs':[0.01, 0.1, 0.5]},\n",
        "    freeze_defaults=True\n",
        ")\n",
        "model2 = BoostLGBM(\n",
        "    default_params={'learning_rate': 0.05, 'num_leaves': 128, 'seed': 1, 'num_threads': N_THREADS}\n",
        ")\n",
        "model3 = BoostLGBM(\n",
        "    default_params={'learning_rate': 0.025, 'num_leaves': 64, 'seed': 2, 'num_threads': N_THREADS}\n",
        ")\n",
        "\n",
        "pipeline_lvl1 = MLPipeline([\n",
        "    (model1, params_tuner1),\n",
        "    model2,\n",
        "    model3\n",
        "], pre_selection=selector, features_pipeline=pipe, post_selection=None)"
      ],
      "metadata": {
        "id": "nD9fff8IJHPk"
      },
      "id": "nD9fff8IJHPk",
      "execution_count": 114,
      "outputs": []
    },
    {
      "cell_type": "code",
      "source": [
        "pipe1 = LGBSimpleFeatures()\n",
        "\n",
        "model = LinearLBFGS(\n",
        "    default_params={'early_stopping': 5, 'cs':[0.01, 0.1, 0.5]},\n",
        "    freeze_defaults=True\n",
        ")\n",
        "\n",
        "pipeline_lvl2 = MLPipeline([model], pre_selection=None, features_pipeline=pipe1, post_selection=None)"
      ],
      "metadata": {
        "id": "MIuMyprIgdJD"
      },
      "id": "MIuMyprIgdJD",
      "execution_count": 115,
      "outputs": []
    },
    {
      "cell_type": "code",
      "source": [
        "print(LinearLBFGS.__doc__)"
      ],
      "metadata": {
        "id": "MYOgSTYrJHDi",
        "outputId": "78aea9cd-3e86-4829-9ed7-d506b372302b",
        "colab": {
          "base_uri": "https://localhost:8080/"
        }
      },
      "id": "MYOgSTYrJHDi",
      "execution_count": 116,
      "outputs": [
        {
          "output_type": "stream",
          "name": "stdout",
          "text": [
            "LBFGS L2 regression based on torch.\n",
            "\n",
            "    default_params:\n",
            "\n",
            "        - cs: List of regularization coefficients.\n",
            "        - max_iter: Maximum iterations of L-BFGS.\n",
            "        - tol: The tolerance for the stopping criteria.\n",
            "        - early_stopping: Maximum rounds without improving.\n",
            "\n",
            "    freeze_defaults:\n",
            "\n",
            "        - ``True`` :  params may be rewrited depending on dataset.\n",
            "        - ``False``:  params may be changed only manually or with tuning.\n",
            "\n",
            "    timer: :class:`~lightautoml.utils.timer.Timer` instance or ``None``.\n",
            "\n",
            "    \n"
          ]
        }
      ]
    },
    {
      "cell_type": "code",
      "source": [
        "%%time\n",
        "\n",
        "automl = AutoML(reader, [\n",
        "    [pipeline_lvl1],\n",
        "    [pipeline_lvl2],\n",
        "], skip_conn=False)"
      ],
      "metadata": {
        "id": "Me4TCpXkJG0G",
        "colab": {
          "base_uri": "https://localhost:8080/"
        },
        "outputId": "5fac399b-e53a-4145-c9c7-097826f46a18"
      },
      "id": "Me4TCpXkJG0G",
      "execution_count": 117,
      "outputs": [
        {
          "output_type": "stream",
          "name": "stdout",
          "text": [
            "CPU times: user 67 µs, sys: 1 µs, total: 68 µs\n",
            "Wall time: 74.1 µs\n"
          ]
        }
      ]
    },
    {
      "cell_type": "code",
      "source": [
        "train_data.sample()"
      ],
      "metadata": {
        "colab": {
          "base_uri": "https://localhost:8080/",
          "height": 193
        },
        "id": "vBHHhUjrlXnR",
        "outputId": "18af46fb-7091-46d5-ae39-c2e3058112c9"
      },
      "id": "vBHHhUjrlXnR",
      "execution_count": 118,
      "outputs": [
        {
          "output_type": "execute_result",
          "data": {
            "text/plain": [
              "       vehicle_manufacturer vehicle_model vehicle_category  current_mileage  \\\n",
              "row_ID                                                                        \n",
              "21465               HYUNDAI            H1          Minivan            68578   \n",
              "\n",
              "        vehicle_year vehicle_gearbox_type doors_cnt          wheels  \\\n",
              "row_ID                                                                \n",
              "21465           2014            Automatic       4/5    Left wheel     \n",
              "\n",
              "       vehicle_color vehicle_interior_color car_vin  car_leather_interior  \\\n",
              "row_ID                                                                      \n",
              "21465        Silver                  Black      NaN                     1   \n",
              "\n",
              "        final_price car_vds country     car_cond  spec_col_int  spec_col_out  \n",
              "row_ID                                                                        \n",
              "21465        7831.0             nan  7619.777778             0             0  "
            ],
            "text/html": [
              "\n",
              "\n",
              "  <div id=\"df-9fcf51cd-aa23-4ddb-9f4a-3d7f51f38cc3\">\n",
              "    <div class=\"colab-df-container\">\n",
              "      <div>\n",
              "<style scoped>\n",
              "    .dataframe tbody tr th:only-of-type {\n",
              "        vertical-align: middle;\n",
              "    }\n",
              "\n",
              "    .dataframe tbody tr th {\n",
              "        vertical-align: top;\n",
              "    }\n",
              "\n",
              "    .dataframe thead th {\n",
              "        text-align: right;\n",
              "    }\n",
              "</style>\n",
              "<table border=\"1\" class=\"dataframe\">\n",
              "  <thead>\n",
              "    <tr style=\"text-align: right;\">\n",
              "      <th></th>\n",
              "      <th>vehicle_manufacturer</th>\n",
              "      <th>vehicle_model</th>\n",
              "      <th>vehicle_category</th>\n",
              "      <th>current_mileage</th>\n",
              "      <th>vehicle_year</th>\n",
              "      <th>vehicle_gearbox_type</th>\n",
              "      <th>doors_cnt</th>\n",
              "      <th>wheels</th>\n",
              "      <th>vehicle_color</th>\n",
              "      <th>vehicle_interior_color</th>\n",
              "      <th>car_vin</th>\n",
              "      <th>car_leather_interior</th>\n",
              "      <th>final_price</th>\n",
              "      <th>car_vds</th>\n",
              "      <th>country</th>\n",
              "      <th>car_cond</th>\n",
              "      <th>spec_col_int</th>\n",
              "      <th>spec_col_out</th>\n",
              "    </tr>\n",
              "    <tr>\n",
              "      <th>row_ID</th>\n",
              "      <th></th>\n",
              "      <th></th>\n",
              "      <th></th>\n",
              "      <th></th>\n",
              "      <th></th>\n",
              "      <th></th>\n",
              "      <th></th>\n",
              "      <th></th>\n",
              "      <th></th>\n",
              "      <th></th>\n",
              "      <th></th>\n",
              "      <th></th>\n",
              "      <th></th>\n",
              "      <th></th>\n",
              "      <th></th>\n",
              "      <th></th>\n",
              "      <th></th>\n",
              "      <th></th>\n",
              "    </tr>\n",
              "  </thead>\n",
              "  <tbody>\n",
              "    <tr>\n",
              "      <th>21465</th>\n",
              "      <td>HYUNDAI</td>\n",
              "      <td>H1</td>\n",
              "      <td>Minivan</td>\n",
              "      <td>68578</td>\n",
              "      <td>2014</td>\n",
              "      <td>Automatic</td>\n",
              "      <td>4/5</td>\n",
              "      <td>Left wheel</td>\n",
              "      <td>Silver</td>\n",
              "      <td>Black</td>\n",
              "      <td>NaN</td>\n",
              "      <td>1</td>\n",
              "      <td>7831.0</td>\n",
              "      <td></td>\n",
              "      <td>nan</td>\n",
              "      <td>7619.777778</td>\n",
              "      <td>0</td>\n",
              "      <td>0</td>\n",
              "    </tr>\n",
              "  </tbody>\n",
              "</table>\n",
              "</div>\n",
              "      <button class=\"colab-df-convert\" onclick=\"convertToInteractive('df-9fcf51cd-aa23-4ddb-9f4a-3d7f51f38cc3')\"\n",
              "              title=\"Convert this dataframe to an interactive table.\"\n",
              "              style=\"display:none;\">\n",
              "\n",
              "  <svg xmlns=\"http://www.w3.org/2000/svg\" height=\"24px\"viewBox=\"0 0 24 24\"\n",
              "       width=\"24px\">\n",
              "    <path d=\"M0 0h24v24H0V0z\" fill=\"none\"/>\n",
              "    <path d=\"M18.56 5.44l.94 2.06.94-2.06 2.06-.94-2.06-.94-.94-2.06-.94 2.06-2.06.94zm-11 1L8.5 8.5l.94-2.06 2.06-.94-2.06-.94L8.5 2.5l-.94 2.06-2.06.94zm10 10l.94 2.06.94-2.06 2.06-.94-2.06-.94-.94-2.06-.94 2.06-2.06.94z\"/><path d=\"M17.41 7.96l-1.37-1.37c-.4-.4-.92-.59-1.43-.59-.52 0-1.04.2-1.43.59L10.3 9.45l-7.72 7.72c-.78.78-.78 2.05 0 2.83L4 21.41c.39.39.9.59 1.41.59.51 0 1.02-.2 1.41-.59l7.78-7.78 2.81-2.81c.8-.78.8-2.07 0-2.86zM5.41 20L4 18.59l7.72-7.72 1.47 1.35L5.41 20z\"/>\n",
              "  </svg>\n",
              "      </button>\n",
              "\n",
              "\n",
              "\n",
              "    <div id=\"df-fcd4f01a-c968-4ae2-93fb-14863ce2d359\">\n",
              "      <button class=\"colab-df-quickchart\" onclick=\"quickchart('df-fcd4f01a-c968-4ae2-93fb-14863ce2d359')\"\n",
              "              title=\"Suggest charts.\"\n",
              "              style=\"display:none;\">\n",
              "\n",
              "<svg xmlns=\"http://www.w3.org/2000/svg\" height=\"24px\"viewBox=\"0 0 24 24\"\n",
              "     width=\"24px\">\n",
              "    <g>\n",
              "        <path d=\"M19 3H5c-1.1 0-2 .9-2 2v14c0 1.1.9 2 2 2h14c1.1 0 2-.9 2-2V5c0-1.1-.9-2-2-2zM9 17H7v-7h2v7zm4 0h-2V7h2v10zm4 0h-2v-4h2v4z\"/>\n",
              "    </g>\n",
              "</svg>\n",
              "      </button>\n",
              "    </div>\n",
              "\n",
              "<style>\n",
              "  .colab-df-quickchart {\n",
              "    background-color: #E8F0FE;\n",
              "    border: none;\n",
              "    border-radius: 50%;\n",
              "    cursor: pointer;\n",
              "    display: none;\n",
              "    fill: #1967D2;\n",
              "    height: 32px;\n",
              "    padding: 0 0 0 0;\n",
              "    width: 32px;\n",
              "  }\n",
              "\n",
              "  .colab-df-quickchart:hover {\n",
              "    background-color: #E2EBFA;\n",
              "    box-shadow: 0px 1px 2px rgba(60, 64, 67, 0.3), 0px 1px 3px 1px rgba(60, 64, 67, 0.15);\n",
              "    fill: #174EA6;\n",
              "  }\n",
              "\n",
              "  [theme=dark] .colab-df-quickchart {\n",
              "    background-color: #3B4455;\n",
              "    fill: #D2E3FC;\n",
              "  }\n",
              "\n",
              "  [theme=dark] .colab-df-quickchart:hover {\n",
              "    background-color: #434B5C;\n",
              "    box-shadow: 0px 1px 3px 1px rgba(0, 0, 0, 0.15);\n",
              "    filter: drop-shadow(0px 1px 2px rgba(0, 0, 0, 0.3));\n",
              "    fill: #FFFFFF;\n",
              "  }\n",
              "</style>\n",
              "\n",
              "    <script>\n",
              "      async function quickchart(key) {\n",
              "        const containerElement = document.querySelector('#' + key);\n",
              "        const charts = await google.colab.kernel.invokeFunction(\n",
              "            'suggestCharts', [key], {});\n",
              "      }\n",
              "    </script>\n",
              "\n",
              "      <script>\n",
              "\n",
              "function displayQuickchartButton(domScope) {\n",
              "  let quickchartButtonEl =\n",
              "    domScope.querySelector('#df-fcd4f01a-c968-4ae2-93fb-14863ce2d359 button.colab-df-quickchart');\n",
              "  quickchartButtonEl.style.display =\n",
              "    google.colab.kernel.accessAllowed ? 'block' : 'none';\n",
              "}\n",
              "\n",
              "        displayQuickchartButton(document);\n",
              "      </script>\n",
              "      <style>\n",
              "    .colab-df-container {\n",
              "      display:flex;\n",
              "      flex-wrap:wrap;\n",
              "      gap: 12px;\n",
              "    }\n",
              "\n",
              "    .colab-df-convert {\n",
              "      background-color: #E8F0FE;\n",
              "      border: none;\n",
              "      border-radius: 50%;\n",
              "      cursor: pointer;\n",
              "      display: none;\n",
              "      fill: #1967D2;\n",
              "      height: 32px;\n",
              "      padding: 0 0 0 0;\n",
              "      width: 32px;\n",
              "    }\n",
              "\n",
              "    .colab-df-convert:hover {\n",
              "      background-color: #E2EBFA;\n",
              "      box-shadow: 0px 1px 2px rgba(60, 64, 67, 0.3), 0px 1px 3px 1px rgba(60, 64, 67, 0.15);\n",
              "      fill: #174EA6;\n",
              "    }\n",
              "\n",
              "    [theme=dark] .colab-df-convert {\n",
              "      background-color: #3B4455;\n",
              "      fill: #D2E3FC;\n",
              "    }\n",
              "\n",
              "    [theme=dark] .colab-df-convert:hover {\n",
              "      background-color: #434B5C;\n",
              "      box-shadow: 0px 1px 3px 1px rgba(0, 0, 0, 0.15);\n",
              "      filter: drop-shadow(0px 1px 2px rgba(0, 0, 0, 0.3));\n",
              "      fill: #FFFFFF;\n",
              "    }\n",
              "  </style>\n",
              "\n",
              "      <script>\n",
              "        const buttonEl =\n",
              "          document.querySelector('#df-9fcf51cd-aa23-4ddb-9f4a-3d7f51f38cc3 button.colab-df-convert');\n",
              "        buttonEl.style.display =\n",
              "          google.colab.kernel.accessAllowed ? 'block' : 'none';\n",
              "\n",
              "        async function convertToInteractive(key) {\n",
              "          const element = document.querySelector('#df-9fcf51cd-aa23-4ddb-9f4a-3d7f51f38cc3');\n",
              "          const dataTable =\n",
              "            await google.colab.kernel.invokeFunction('convertToInteractive',\n",
              "                                                     [key], {});\n",
              "          if (!dataTable) return;\n",
              "\n",
              "          const docLinkHtml = 'Like what you see? Visit the ' +\n",
              "            '<a target=\"_blank\" href=https://colab.research.google.com/notebooks/data_table.ipynb>data table notebook</a>'\n",
              "            + ' to learn more about interactive tables.';\n",
              "          element.innerHTML = '';\n",
              "          dataTable['output_type'] = 'display_data';\n",
              "          await google.colab.output.renderOutput(dataTable, element);\n",
              "          const docLink = document.createElement('div');\n",
              "          docLink.innerHTML = docLinkHtml;\n",
              "          element.appendChild(docLink);\n",
              "        }\n",
              "      </script>\n",
              "    </div>\n",
              "  </div>\n"
            ]
          },
          "metadata": {},
          "execution_count": 118
        }
      ]
    },
    {
      "cell_type": "code",
      "source": [
        "cat_cols_list = list(cat_cols.columns)\n",
        "cat_cols_list.remove('deal_type')\n",
        "cat_cols_list.remove('car_vin')\n",
        "\n",
        "\n",
        "cat_cols_list"
      ],
      "metadata": {
        "colab": {
          "base_uri": "https://localhost:8080/"
        },
        "id": "Wvv9NwewmjTA",
        "outputId": "a9b04b6f-1a46-414d-d78c-38f9b85a14f8"
      },
      "id": "Wvv9NwewmjTA",
      "execution_count": 119,
      "outputs": [
        {
          "output_type": "execute_result",
          "data": {
            "text/plain": [
              "['vehicle_manufacturer',\n",
              " 'vehicle_model',\n",
              " 'vehicle_category',\n",
              " 'vehicle_gearbox_type',\n",
              " 'doors_cnt',\n",
              " 'wheels',\n",
              " 'vehicle_color',\n",
              " 'vehicle_interior_color',\n",
              " 'car_vds',\n",
              " 'country']"
            ]
          },
          "metadata": {},
          "execution_count": 119
        }
      ]
    },
    {
      "cell_type": "code",
      "source": [
        "\n",
        "num_cols_list = list(num_cols.columns)\n",
        "num_cols_list.remove('row_ID')\n",
        "num_cols_list.remove('final_price')\n",
        "num_cols_list += ['spec_col_int']\n",
        "num_cols_list += ['spec_col_out']\n",
        "num_cols_list += ['car_cond']\n",
        "\n",
        "num_cols_list"
      ],
      "metadata": {
        "colab": {
          "base_uri": "https://localhost:8080/"
        },
        "id": "np_-rfJEoJzE",
        "outputId": "829cd100-f368-426e-f5df-fb281b128c68"
      },
      "id": "np_-rfJEoJzE",
      "execution_count": 120,
      "outputs": [
        {
          "output_type": "execute_result",
          "data": {
            "text/plain": [
              "['current_mileage',\n",
              " 'vehicle_year',\n",
              " 'car_leather_interior',\n",
              " 'spec_col_int',\n",
              " 'spec_col_out',\n",
              " 'car_cond']"
            ]
          },
          "metadata": {},
          "execution_count": 120
        }
      ]
    },
    {
      "cell_type": "code",
      "source": [
        "%%time\n",
        "\n",
        "oof_pred = automl.fit_predict(train_data, roles={'target': 'final_price', 'category': cat_cols_list, 'numeric': num_cols_list})\n",
        "print('oof_pred:\\n{}\\nShape = {}'.format(oof_pred, oof_pred.shape))"
      ],
      "metadata": {
        "id": "3mymiN0NJGF6",
        "colab": {
          "base_uri": "https://localhost:8080/"
        },
        "outputId": "ebd98bd3-b1a4-4575-9426-39966073d057"
      },
      "id": "3mymiN0NJGF6",
      "execution_count": 121,
      "outputs": [
        {
          "output_type": "stream",
          "name": "stderr",
          "text": [
            "INFO:lightautoml.reader.base:\u001b[1mTrain data shape: (34995, 18)\u001b[0m\n",
            "\n",
            "INFO3:lightautoml.reader.base:Feats was rejected during automatic roles guess: []\n",
            "INFO:lightautoml.automl.base:Layer \u001b[1m1\u001b[0m train process start. Time left 9999999988.04 secs\n",
            "INFO3:lightautoml.ml_algo.boost_lgbm:[LightGBM] [Warning] seed is set=42, random_state=42 will be ignored. Current value: seed=42\n",
            "INFO3:lightautoml.ml_algo.boost_lgbm:Training until validation scores don't improve for 100 rounds\n",
            "DEBUG:lightautoml.ml_algo.boost_lgbm:[100]\tvalid's l1: 1933.68\n",
            "DEBUG:lightautoml.ml_algo.boost_lgbm:[200]\tvalid's l1: 1856.29\n",
            "DEBUG:lightautoml.ml_algo.boost_lgbm:[300]\tvalid's l1: 1815.51\n",
            "DEBUG:lightautoml.ml_algo.boost_lgbm:[400]\tvalid's l1: 1795.34\n",
            "DEBUG:lightautoml.ml_algo.boost_lgbm:[500]\tvalid's l1: 1779.61\n",
            "DEBUG:lightautoml.ml_algo.boost_lgbm:[600]\tvalid's l1: 1767.25\n",
            "DEBUG:lightautoml.ml_algo.boost_lgbm:[700]\tvalid's l1: 1759.5\n",
            "DEBUG:lightautoml.ml_algo.boost_lgbm:[800]\tvalid's l1: 1750.96\n",
            "DEBUG:lightautoml.ml_algo.boost_lgbm:[900]\tvalid's l1: 1743.07\n",
            "DEBUG:lightautoml.ml_algo.boost_lgbm:[1000]\tvalid's l1: 1735.92\n",
            "DEBUG:lightautoml.ml_algo.boost_lgbm:[1100]\tvalid's l1: 1730.38\n",
            "DEBUG:lightautoml.ml_algo.boost_lgbm:[1200]\tvalid's l1: 1723.23\n",
            "DEBUG:lightautoml.ml_algo.boost_lgbm:[1300]\tvalid's l1: 1719.29\n",
            "DEBUG:lightautoml.ml_algo.boost_lgbm:[1400]\tvalid's l1: 1715.68\n",
            "DEBUG:lightautoml.ml_algo.boost_lgbm:[1500]\tvalid's l1: 1713.32\n",
            "DEBUG:lightautoml.ml_algo.boost_lgbm:[1600]\tvalid's l1: 1710.06\n",
            "DEBUG:lightautoml.ml_algo.boost_lgbm:[1700]\tvalid's l1: 1707.9\n",
            "DEBUG:lightautoml.ml_algo.boost_lgbm:[1800]\tvalid's l1: 1705.77\n",
            "DEBUG:lightautoml.ml_algo.boost_lgbm:[1900]\tvalid's l1: 1703.98\n",
            "DEBUG:lightautoml.ml_algo.boost_lgbm:[2000]\tvalid's l1: 1702.42\n",
            "DEBUG:lightautoml.ml_algo.boost_lgbm:[2100]\tvalid's l1: 1700.03\n",
            "DEBUG:lightautoml.ml_algo.boost_lgbm:[2200]\tvalid's l1: 1696.17\n",
            "DEBUG:lightautoml.ml_algo.boost_lgbm:[2300]\tvalid's l1: 1694.27\n",
            "DEBUG:lightautoml.ml_algo.boost_lgbm:[2400]\tvalid's l1: 1692.66\n",
            "DEBUG:lightautoml.ml_algo.boost_lgbm:[2500]\tvalid's l1: 1691.72\n",
            "DEBUG:lightautoml.ml_algo.boost_lgbm:[2600]\tvalid's l1: 1689.07\n",
            "DEBUG:lightautoml.ml_algo.boost_lgbm:[2700]\tvalid's l1: 1687.3\n",
            "DEBUG:lightautoml.ml_algo.boost_lgbm:[2800]\tvalid's l1: 1685.77\n",
            "DEBUG:lightautoml.ml_algo.boost_lgbm:[2900]\tvalid's l1: 1684.91\n",
            "DEBUG:lightautoml.ml_algo.boost_lgbm:[3000]\tvalid's l1: 1684.02\n",
            "DEBUG:lightautoml.ml_algo.boost_lgbm:Did not meet early stopping. Best iteration is:\n",
            "[3000]\tvalid's l1: 1684.02\n",
            "INFO:lightautoml.ml_algo.base:\u001b[1mLightGBM\u001b[0m fitting and predicting completed\n",
            "INFO:lightautoml.ml_algo.tuning.optuna:Start hyperparameters optimization for \u001b[1mLvl_0_Pipe_0_Mod_0_LinearL2\u001b[0m ... Time budget is 30.00 secs\n",
            "INFO:optuna.storages._in_memory:A new study created in memory with name: no-name-a59aefa0-801f-484b-954a-ae29f3903e5b\n",
            "WARNING:optuna.study._optimize:Trial 0 failed with parameters: {} because of the following error: AttributeError(\"'LinearLBFGS' object has no attribute '_get_default_search_spaces'\").\n",
            "Traceback (most recent call last):\n",
            "  File \"/usr/local/lib/python3.10/dist-packages/optuna/study/_optimize.py\", line 200, in _run_trial\n",
            "    value_or_values = func(trial)\n",
            "  File \"/usr/local/lib/python3.10/dist-packages/lightautoml/ml_algo/tuning/optuna.py\", line 236, in objective\n",
            "    optimization_search_space = _ml_algo._get_default_search_spaces(\n",
            "AttributeError: 'LinearLBFGS' object has no attribute '_get_default_search_spaces'\n",
            "WARNING:optuna.study._optimize:Trial 0 failed with value None.\n",
            "INFO2:lightautoml.ml_algo.utils:Model Lvl_0_Pipe_0_Mod_0_LinearL2 failed during params_tuner.fit call.\n",
            "\n",
            "'LinearLBFGS' object has no attribute '_get_default_search_spaces'\n",
            "INFO:lightautoml.ml_algo.base:Start fitting \u001b[1mLvl_0_Pipe_0_Mod_1_LightGBM\u001b[0m ...\n",
            "DEBUG:lightautoml.ml_algo.base:Training params: {'task': 'train', 'learning_rate': 0.05, 'num_leaves': 128, 'feature_fraction': 0.7, 'bagging_fraction': 0.7, 'bagging_freq': 1, 'max_depth': -1, 'verbosity': -1, 'reg_alpha': 1, 'reg_lambda': 0.0, 'min_split_gain': 0.0, 'zero_as_missing': False, 'num_threads': 2, 'max_bin': 255, 'min_data_in_bin': 3, 'num_trees': 3000, 'early_stopping_rounds': 100, 'random_state': 42, 'seed': 1}\n",
            "INFO2:lightautoml.ml_algo.base:===== Start working with \u001b[1mfold 0\u001b[0m for \u001b[1mLvl_0_Pipe_0_Mod_1_LightGBM\u001b[0m =====\n",
            "INFO3:lightautoml.ml_algo.boost_lgbm:[LightGBM] [Warning] seed is set=1, random_state=42 will be ignored. Current value: seed=1\n",
            "INFO3:lightautoml.ml_algo.boost_lgbm:Training until validation scores don't improve for 100 rounds\n",
            "DEBUG:lightautoml.ml_algo.boost_lgbm:[100]\tvalid's l1: 1781.51\n",
            "DEBUG:lightautoml.ml_algo.boost_lgbm:[200]\tvalid's l1: 1695.3\n",
            "DEBUG:lightautoml.ml_algo.boost_lgbm:[300]\tvalid's l1: 1662.79\n",
            "DEBUG:lightautoml.ml_algo.boost_lgbm:[400]\tvalid's l1: 1645.18\n",
            "DEBUG:lightautoml.ml_algo.boost_lgbm:[500]\tvalid's l1: 1633.14\n",
            "DEBUG:lightautoml.ml_algo.boost_lgbm:[600]\tvalid's l1: 1624.2\n",
            "DEBUG:lightautoml.ml_algo.boost_lgbm:[700]\tvalid's l1: 1613.97\n",
            "DEBUG:lightautoml.ml_algo.boost_lgbm:[800]\tvalid's l1: 1607.9\n",
            "DEBUG:lightautoml.ml_algo.boost_lgbm:[900]\tvalid's l1: 1602.45\n",
            "DEBUG:lightautoml.ml_algo.boost_lgbm:[1000]\tvalid's l1: 1598.55\n",
            "DEBUG:lightautoml.ml_algo.boost_lgbm:[1100]\tvalid's l1: 1594.5\n",
            "DEBUG:lightautoml.ml_algo.boost_lgbm:[1200]\tvalid's l1: 1588.9\n",
            "DEBUG:lightautoml.ml_algo.boost_lgbm:[1300]\tvalid's l1: 1584.77\n",
            "DEBUG:lightautoml.ml_algo.boost_lgbm:[1400]\tvalid's l1: 1580.59\n",
            "DEBUG:lightautoml.ml_algo.boost_lgbm:[1500]\tvalid's l1: 1577.79\n",
            "DEBUG:lightautoml.ml_algo.boost_lgbm:[1600]\tvalid's l1: 1576.57\n",
            "DEBUG:lightautoml.ml_algo.boost_lgbm:[1700]\tvalid's l1: 1575.4\n",
            "DEBUG:lightautoml.ml_algo.boost_lgbm:[1800]\tvalid's l1: 1573.05\n",
            "DEBUG:lightautoml.ml_algo.boost_lgbm:[1900]\tvalid's l1: 1570.87\n",
            "DEBUG:lightautoml.ml_algo.boost_lgbm:[2000]\tvalid's l1: 1569.11\n",
            "DEBUG:lightautoml.ml_algo.boost_lgbm:[2100]\tvalid's l1: 1567.41\n",
            "DEBUG:lightautoml.ml_algo.boost_lgbm:[2200]\tvalid's l1: 1567.01\n",
            "DEBUG:lightautoml.ml_algo.boost_lgbm:[2300]\tvalid's l1: 1565.27\n",
            "DEBUG:lightautoml.ml_algo.boost_lgbm:[2400]\tvalid's l1: 1563.54\n",
            "DEBUG:lightautoml.ml_algo.boost_lgbm:[2500]\tvalid's l1: 1562.34\n",
            "DEBUG:lightautoml.ml_algo.boost_lgbm:[2600]\tvalid's l1: 1561.34\n",
            "DEBUG:lightautoml.ml_algo.boost_lgbm:[2700]\tvalid's l1: 1559.96\n",
            "DEBUG:lightautoml.ml_algo.boost_lgbm:[2800]\tvalid's l1: 1558.94\n",
            "DEBUG:lightautoml.ml_algo.boost_lgbm:[2900]\tvalid's l1: 1557.89\n",
            "DEBUG:lightautoml.ml_algo.boost_lgbm:[3000]\tvalid's l1: 1556.51\n",
            "DEBUG:lightautoml.ml_algo.boost_lgbm:Did not meet early stopping. Best iteration is:\n",
            "[2986]\tvalid's l1: 1556.42\n",
            "INFO2:lightautoml.ml_algo.base:===== Start working with \u001b[1mfold 1\u001b[0m for \u001b[1mLvl_0_Pipe_0_Mod_1_LightGBM\u001b[0m =====\n",
            "INFO3:lightautoml.ml_algo.boost_lgbm:[LightGBM] [Warning] seed is set=1, random_state=42 will be ignored. Current value: seed=1\n",
            "INFO3:lightautoml.ml_algo.boost_lgbm:Training until validation scores don't improve for 100 rounds\n",
            "DEBUG:lightautoml.ml_algo.boost_lgbm:[100]\tvalid's l1: 1841\n",
            "DEBUG:lightautoml.ml_algo.boost_lgbm:[200]\tvalid's l1: 1736.11\n",
            "DEBUG:lightautoml.ml_algo.boost_lgbm:[300]\tvalid's l1: 1701.39\n",
            "DEBUG:lightautoml.ml_algo.boost_lgbm:[400]\tvalid's l1: 1683.55\n",
            "DEBUG:lightautoml.ml_algo.boost_lgbm:[500]\tvalid's l1: 1668.75\n",
            "DEBUG:lightautoml.ml_algo.boost_lgbm:[600]\tvalid's l1: 1656.7\n",
            "DEBUG:lightautoml.ml_algo.boost_lgbm:[700]\tvalid's l1: 1646.67\n",
            "DEBUG:lightautoml.ml_algo.boost_lgbm:[800]\tvalid's l1: 1641.63\n",
            "DEBUG:lightautoml.ml_algo.boost_lgbm:[900]\tvalid's l1: 1637.27\n",
            "DEBUG:lightautoml.ml_algo.boost_lgbm:[1000]\tvalid's l1: 1633.89\n",
            "DEBUG:lightautoml.ml_algo.boost_lgbm:[1100]\tvalid's l1: 1630.66\n",
            "DEBUG:lightautoml.ml_algo.boost_lgbm:[1200]\tvalid's l1: 1626.81\n",
            "DEBUG:lightautoml.ml_algo.boost_lgbm:[1300]\tvalid's l1: 1623.5\n",
            "DEBUG:lightautoml.ml_algo.boost_lgbm:[1400]\tvalid's l1: 1620.03\n",
            "DEBUG:lightautoml.ml_algo.boost_lgbm:[1500]\tvalid's l1: 1616.86\n",
            "DEBUG:lightautoml.ml_algo.boost_lgbm:[1600]\tvalid's l1: 1614.41\n",
            "DEBUG:lightautoml.ml_algo.boost_lgbm:[1700]\tvalid's l1: 1612.74\n",
            "DEBUG:lightautoml.ml_algo.boost_lgbm:[1800]\tvalid's l1: 1610.32\n",
            "DEBUG:lightautoml.ml_algo.boost_lgbm:[1900]\tvalid's l1: 1608.8\n",
            "DEBUG:lightautoml.ml_algo.boost_lgbm:[2000]\tvalid's l1: 1608.13\n",
            "DEBUG:lightautoml.ml_algo.boost_lgbm:[2100]\tvalid's l1: 1606.74\n",
            "DEBUG:lightautoml.ml_algo.boost_lgbm:[2200]\tvalid's l1: 1603.74\n",
            "DEBUG:lightautoml.ml_algo.boost_lgbm:[2300]\tvalid's l1: 1602.37\n",
            "DEBUG:lightautoml.ml_algo.boost_lgbm:[2400]\tvalid's l1: 1601.08\n",
            "DEBUG:lightautoml.ml_algo.boost_lgbm:[2500]\tvalid's l1: 1599.79\n",
            "DEBUG:lightautoml.ml_algo.boost_lgbm:[2600]\tvalid's l1: 1598.45\n",
            "DEBUG:lightautoml.ml_algo.boost_lgbm:[2700]\tvalid's l1: 1596.53\n",
            "DEBUG:lightautoml.ml_algo.boost_lgbm:[2800]\tvalid's l1: 1595.33\n",
            "DEBUG:lightautoml.ml_algo.boost_lgbm:[2900]\tvalid's l1: 1594.71\n",
            "DEBUG:lightautoml.ml_algo.boost_lgbm:[3000]\tvalid's l1: 1593.47\n",
            "DEBUG:lightautoml.ml_algo.boost_lgbm:Did not meet early stopping. Best iteration is:\n",
            "[2988]\tvalid's l1: 1593.28\n",
            "INFO2:lightautoml.ml_algo.base:===== Start working with \u001b[1mfold 2\u001b[0m for \u001b[1mLvl_0_Pipe_0_Mod_1_LightGBM\u001b[0m =====\n",
            "INFO3:lightautoml.ml_algo.boost_lgbm:[LightGBM] [Warning] seed is set=1, random_state=42 will be ignored. Current value: seed=1\n",
            "INFO3:lightautoml.ml_algo.boost_lgbm:Training until validation scores don't improve for 100 rounds\n",
            "DEBUG:lightautoml.ml_algo.boost_lgbm:[100]\tvalid's l1: 1855.75\n",
            "DEBUG:lightautoml.ml_algo.boost_lgbm:[200]\tvalid's l1: 1745.1\n",
            "DEBUG:lightautoml.ml_algo.boost_lgbm:[300]\tvalid's l1: 1709.91\n",
            "DEBUG:lightautoml.ml_algo.boost_lgbm:[400]\tvalid's l1: 1692.02\n",
            "DEBUG:lightautoml.ml_algo.boost_lgbm:[500]\tvalid's l1: 1674.96\n",
            "DEBUG:lightautoml.ml_algo.boost_lgbm:[600]\tvalid's l1: 1663.9\n",
            "DEBUG:lightautoml.ml_algo.boost_lgbm:[700]\tvalid's l1: 1654.89\n",
            "DEBUG:lightautoml.ml_algo.boost_lgbm:[800]\tvalid's l1: 1646.53\n",
            "DEBUG:lightautoml.ml_algo.boost_lgbm:[900]\tvalid's l1: 1640.55\n",
            "DEBUG:lightautoml.ml_algo.boost_lgbm:[1000]\tvalid's l1: 1635.7\n",
            "DEBUG:lightautoml.ml_algo.boost_lgbm:[1100]\tvalid's l1: 1630.93\n",
            "DEBUG:lightautoml.ml_algo.boost_lgbm:[1200]\tvalid's l1: 1625.88\n",
            "DEBUG:lightautoml.ml_algo.boost_lgbm:[1300]\tvalid's l1: 1621.12\n",
            "DEBUG:lightautoml.ml_algo.boost_lgbm:[1400]\tvalid's l1: 1616.17\n",
            "DEBUG:lightautoml.ml_algo.boost_lgbm:[1500]\tvalid's l1: 1613.92\n",
            "DEBUG:lightautoml.ml_algo.boost_lgbm:[1600]\tvalid's l1: 1612.09\n",
            "DEBUG:lightautoml.ml_algo.boost_lgbm:[1700]\tvalid's l1: 1609.99\n",
            "DEBUG:lightautoml.ml_algo.boost_lgbm:[1800]\tvalid's l1: 1607.22\n",
            "DEBUG:lightautoml.ml_algo.boost_lgbm:[1900]\tvalid's l1: 1605.47\n",
            "DEBUG:lightautoml.ml_algo.boost_lgbm:[2000]\tvalid's l1: 1603.39\n",
            "DEBUG:lightautoml.ml_algo.boost_lgbm:[2100]\tvalid's l1: 1601.77\n",
            "DEBUG:lightautoml.ml_algo.boost_lgbm:[2200]\tvalid's l1: 1600.42\n",
            "DEBUG:lightautoml.ml_algo.boost_lgbm:[2300]\tvalid's l1: 1597.94\n",
            "DEBUG:lightautoml.ml_algo.boost_lgbm:[2400]\tvalid's l1: 1597.34\n",
            "DEBUG:lightautoml.ml_algo.boost_lgbm:[2500]\tvalid's l1: 1596.29\n",
            "DEBUG:lightautoml.ml_algo.boost_lgbm:[2600]\tvalid's l1: 1595.08\n",
            "DEBUG:lightautoml.ml_algo.boost_lgbm:[2700]\tvalid's l1: 1592.67\n",
            "DEBUG:lightautoml.ml_algo.boost_lgbm:[2800]\tvalid's l1: 1591.21\n",
            "DEBUG:lightautoml.ml_algo.boost_lgbm:[2900]\tvalid's l1: 1589.62\n",
            "DEBUG:lightautoml.ml_algo.boost_lgbm:[3000]\tvalid's l1: 1587.83\n",
            "DEBUG:lightautoml.ml_algo.boost_lgbm:Did not meet early stopping. Best iteration is:\n",
            "[3000]\tvalid's l1: 1587.83\n",
            "INFO2:lightautoml.ml_algo.base:===== Start working with \u001b[1mfold 3\u001b[0m for \u001b[1mLvl_0_Pipe_0_Mod_1_LightGBM\u001b[0m =====\n",
            "INFO3:lightautoml.ml_algo.boost_lgbm:[LightGBM] [Warning] seed is set=1, random_state=42 will be ignored. Current value: seed=1\n",
            "INFO3:lightautoml.ml_algo.boost_lgbm:Training until validation scores don't improve for 100 rounds\n",
            "DEBUG:lightautoml.ml_algo.boost_lgbm:[100]\tvalid's l1: 1870.92\n",
            "DEBUG:lightautoml.ml_algo.boost_lgbm:[200]\tvalid's l1: 1763.22\n",
            "DEBUG:lightautoml.ml_algo.boost_lgbm:[300]\tvalid's l1: 1717.25\n",
            "DEBUG:lightautoml.ml_algo.boost_lgbm:[400]\tvalid's l1: 1695.52\n",
            "DEBUG:lightautoml.ml_algo.boost_lgbm:[500]\tvalid's l1: 1677.61\n",
            "DEBUG:lightautoml.ml_algo.boost_lgbm:[600]\tvalid's l1: 1667.32\n",
            "DEBUG:lightautoml.ml_algo.boost_lgbm:[700]\tvalid's l1: 1660.2\n",
            "DEBUG:lightautoml.ml_algo.boost_lgbm:[800]\tvalid's l1: 1651.62\n",
            "DEBUG:lightautoml.ml_algo.boost_lgbm:[900]\tvalid's l1: 1645.42\n",
            "DEBUG:lightautoml.ml_algo.boost_lgbm:[1000]\tvalid's l1: 1641.01\n",
            "DEBUG:lightautoml.ml_algo.boost_lgbm:[1100]\tvalid's l1: 1637\n",
            "DEBUG:lightautoml.ml_algo.boost_lgbm:[1200]\tvalid's l1: 1632.3\n",
            "DEBUG:lightautoml.ml_algo.boost_lgbm:[1300]\tvalid's l1: 1629.73\n",
            "DEBUG:lightautoml.ml_algo.boost_lgbm:[1400]\tvalid's l1: 1626.56\n",
            "DEBUG:lightautoml.ml_algo.boost_lgbm:[1500]\tvalid's l1: 1623.86\n",
            "DEBUG:lightautoml.ml_algo.boost_lgbm:[1600]\tvalid's l1: 1620.7\n",
            "DEBUG:lightautoml.ml_algo.boost_lgbm:[1700]\tvalid's l1: 1618.64\n",
            "DEBUG:lightautoml.ml_algo.boost_lgbm:[1800]\tvalid's l1: 1617.42\n",
            "DEBUG:lightautoml.ml_algo.boost_lgbm:[1900]\tvalid's l1: 1615.55\n",
            "DEBUG:lightautoml.ml_algo.boost_lgbm:[2000]\tvalid's l1: 1613.76\n",
            "DEBUG:lightautoml.ml_algo.boost_lgbm:[2100]\tvalid's l1: 1611.24\n",
            "DEBUG:lightautoml.ml_algo.boost_lgbm:[2200]\tvalid's l1: 1609.45\n",
            "DEBUG:lightautoml.ml_algo.boost_lgbm:[2300]\tvalid's l1: 1608.19\n",
            "DEBUG:lightautoml.ml_algo.boost_lgbm:[2400]\tvalid's l1: 1607.01\n",
            "DEBUG:lightautoml.ml_algo.boost_lgbm:[2500]\tvalid's l1: 1605.18\n",
            "DEBUG:lightautoml.ml_algo.boost_lgbm:[2600]\tvalid's l1: 1603.96\n",
            "DEBUG:lightautoml.ml_algo.boost_lgbm:[2700]\tvalid's l1: 1601.68\n",
            "DEBUG:lightautoml.ml_algo.boost_lgbm:[2800]\tvalid's l1: 1600.89\n",
            "DEBUG:lightautoml.ml_algo.boost_lgbm:[2900]\tvalid's l1: 1600.17\n",
            "DEBUG:lightautoml.ml_algo.boost_lgbm:[3000]\tvalid's l1: 1599.06\n",
            "DEBUG:lightautoml.ml_algo.boost_lgbm:Did not meet early stopping. Best iteration is:\n",
            "[3000]\tvalid's l1: 1599.06\n",
            "INFO2:lightautoml.ml_algo.base:===== Start working with \u001b[1mfold 4\u001b[0m for \u001b[1mLvl_0_Pipe_0_Mod_1_LightGBM\u001b[0m =====\n",
            "INFO3:lightautoml.ml_algo.boost_lgbm:[LightGBM] [Warning] seed is set=1, random_state=42 will be ignored. Current value: seed=1\n",
            "INFO3:lightautoml.ml_algo.boost_lgbm:Training until validation scores don't improve for 100 rounds\n",
            "DEBUG:lightautoml.ml_algo.boost_lgbm:[100]\tvalid's l1: 1820.29\n",
            "DEBUG:lightautoml.ml_algo.boost_lgbm:[200]\tvalid's l1: 1719.08\n",
            "DEBUG:lightautoml.ml_algo.boost_lgbm:[300]\tvalid's l1: 1680.31\n",
            "DEBUG:lightautoml.ml_algo.boost_lgbm:[400]\tvalid's l1: 1663.82\n",
            "DEBUG:lightautoml.ml_algo.boost_lgbm:[500]\tvalid's l1: 1644.99\n",
            "DEBUG:lightautoml.ml_algo.boost_lgbm:[600]\tvalid's l1: 1632.66\n",
            "DEBUG:lightautoml.ml_algo.boost_lgbm:[700]\tvalid's l1: 1622.02\n",
            "DEBUG:lightautoml.ml_algo.boost_lgbm:[800]\tvalid's l1: 1614.78\n",
            "DEBUG:lightautoml.ml_algo.boost_lgbm:[900]\tvalid's l1: 1609.64\n",
            "DEBUG:lightautoml.ml_algo.boost_lgbm:[1000]\tvalid's l1: 1604.31\n",
            "DEBUG:lightautoml.ml_algo.boost_lgbm:[1100]\tvalid's l1: 1597.84\n",
            "DEBUG:lightautoml.ml_algo.boost_lgbm:[1200]\tvalid's l1: 1593.27\n",
            "DEBUG:lightautoml.ml_algo.boost_lgbm:[1300]\tvalid's l1: 1590.1\n",
            "DEBUG:lightautoml.ml_algo.boost_lgbm:[1400]\tvalid's l1: 1586.66\n",
            "DEBUG:lightautoml.ml_algo.boost_lgbm:[1500]\tvalid's l1: 1583.5\n",
            "DEBUG:lightautoml.ml_algo.boost_lgbm:[1600]\tvalid's l1: 1579.83\n",
            "DEBUG:lightautoml.ml_algo.boost_lgbm:[1700]\tvalid's l1: 1577\n",
            "DEBUG:lightautoml.ml_algo.boost_lgbm:[1800]\tvalid's l1: 1574.01\n",
            "DEBUG:lightautoml.ml_algo.boost_lgbm:[1900]\tvalid's l1: 1572.16\n",
            "DEBUG:lightautoml.ml_algo.boost_lgbm:[2000]\tvalid's l1: 1569.6\n",
            "DEBUG:lightautoml.ml_algo.boost_lgbm:[2100]\tvalid's l1: 1567.72\n",
            "DEBUG:lightautoml.ml_algo.boost_lgbm:[2200]\tvalid's l1: 1565.82\n",
            "DEBUG:lightautoml.ml_algo.boost_lgbm:[2300]\tvalid's l1: 1563.8\n",
            "DEBUG:lightautoml.ml_algo.boost_lgbm:[2400]\tvalid's l1: 1562.59\n",
            "DEBUG:lightautoml.ml_algo.boost_lgbm:[2500]\tvalid's l1: 1560.56\n",
            "DEBUG:lightautoml.ml_algo.boost_lgbm:[2600]\tvalid's l1: 1557.91\n",
            "DEBUG:lightautoml.ml_algo.boost_lgbm:[2700]\tvalid's l1: 1556.41\n",
            "DEBUG:lightautoml.ml_algo.boost_lgbm:[2800]\tvalid's l1: 1555.67\n",
            "DEBUG:lightautoml.ml_algo.boost_lgbm:[2900]\tvalid's l1: 1554.76\n",
            "DEBUG:lightautoml.ml_algo.boost_lgbm:[3000]\tvalid's l1: 1553.71\n",
            "DEBUG:lightautoml.ml_algo.boost_lgbm:Did not meet early stopping. Best iteration is:\n",
            "[2992]\tvalid's l1: 1553.64\n",
            "INFO:lightautoml.ml_algo.base:Fitting \u001b[1mLvl_0_Pipe_0_Mod_1_LightGBM\u001b[0m finished. score = \u001b[1m-1578.0464518483816\u001b[0m\n",
            "INFO:lightautoml.ml_algo.base:\u001b[1mLvl_0_Pipe_0_Mod_1_LightGBM\u001b[0m fitting and predicting completed\n",
            "INFO:lightautoml.ml_algo.base:Start fitting \u001b[1mLvl_0_Pipe_0_Mod_2_LightGBM\u001b[0m ...\n",
            "DEBUG:lightautoml.ml_algo.base:Training params: {'task': 'train', 'learning_rate': 0.025, 'num_leaves': 64, 'feature_fraction': 0.7, 'bagging_fraction': 0.7, 'bagging_freq': 1, 'max_depth': -1, 'verbosity': -1, 'reg_alpha': 1, 'reg_lambda': 0.0, 'min_split_gain': 0.0, 'zero_as_missing': False, 'num_threads': 2, 'max_bin': 255, 'min_data_in_bin': 3, 'num_trees': 3000, 'early_stopping_rounds': 100, 'random_state': 42, 'seed': 2}\n",
            "INFO2:lightautoml.ml_algo.base:===== Start working with \u001b[1mfold 0\u001b[0m for \u001b[1mLvl_0_Pipe_0_Mod_2_LightGBM\u001b[0m =====\n",
            "INFO3:lightautoml.ml_algo.boost_lgbm:[LightGBM] [Warning] seed is set=2, random_state=42 will be ignored. Current value: seed=2\n",
            "INFO3:lightautoml.ml_algo.boost_lgbm:Training until validation scores don't improve for 100 rounds\n",
            "DEBUG:lightautoml.ml_algo.boost_lgbm:[100]\tvalid's l1: 2075.04\n",
            "DEBUG:lightautoml.ml_algo.boost_lgbm:[200]\tvalid's l1: 1919.91\n",
            "DEBUG:lightautoml.ml_algo.boost_lgbm:[300]\tvalid's l1: 1868.26\n",
            "DEBUG:lightautoml.ml_algo.boost_lgbm:[400]\tvalid's l1: 1840.56\n",
            "DEBUG:lightautoml.ml_algo.boost_lgbm:[500]\tvalid's l1: 1821.63\n",
            "DEBUG:lightautoml.ml_algo.boost_lgbm:[600]\tvalid's l1: 1801.54\n",
            "DEBUG:lightautoml.ml_algo.boost_lgbm:[700]\tvalid's l1: 1790.6\n",
            "DEBUG:lightautoml.ml_algo.boost_lgbm:[800]\tvalid's l1: 1782.89\n",
            "DEBUG:lightautoml.ml_algo.boost_lgbm:[900]\tvalid's l1: 1774.98\n",
            "DEBUG:lightautoml.ml_algo.boost_lgbm:[1000]\tvalid's l1: 1767.88\n",
            "DEBUG:lightautoml.ml_algo.boost_lgbm:[1100]\tvalid's l1: 1762.02\n",
            "DEBUG:lightautoml.ml_algo.boost_lgbm:[1200]\tvalid's l1: 1757.29\n",
            "DEBUG:lightautoml.ml_algo.boost_lgbm:[1300]\tvalid's l1: 1752.7\n",
            "DEBUG:lightautoml.ml_algo.boost_lgbm:[1400]\tvalid's l1: 1749.73\n",
            "DEBUG:lightautoml.ml_algo.boost_lgbm:[1500]\tvalid's l1: 1746.44\n",
            "DEBUG:lightautoml.ml_algo.boost_lgbm:[1600]\tvalid's l1: 1742.15\n",
            "DEBUG:lightautoml.ml_algo.boost_lgbm:[1700]\tvalid's l1: 1739.39\n",
            "DEBUG:lightautoml.ml_algo.boost_lgbm:[1800]\tvalid's l1: 1736.39\n",
            "DEBUG:lightautoml.ml_algo.boost_lgbm:[1900]\tvalid's l1: 1733.77\n",
            "DEBUG:lightautoml.ml_algo.boost_lgbm:[2000]\tvalid's l1: 1730.24\n",
            "DEBUG:lightautoml.ml_algo.boost_lgbm:[2100]\tvalid's l1: 1727.39\n",
            "DEBUG:lightautoml.ml_algo.boost_lgbm:[2200]\tvalid's l1: 1725.05\n",
            "DEBUG:lightautoml.ml_algo.boost_lgbm:[2300]\tvalid's l1: 1722.8\n",
            "DEBUG:lightautoml.ml_algo.boost_lgbm:[2400]\tvalid's l1: 1720.27\n",
            "DEBUG:lightautoml.ml_algo.boost_lgbm:[2500]\tvalid's l1: 1718.54\n",
            "DEBUG:lightautoml.ml_algo.boost_lgbm:[2600]\tvalid's l1: 1716.82\n",
            "DEBUG:lightautoml.ml_algo.boost_lgbm:[2700]\tvalid's l1: 1715.39\n",
            "DEBUG:lightautoml.ml_algo.boost_lgbm:[2800]\tvalid's l1: 1713.81\n",
            "DEBUG:lightautoml.ml_algo.boost_lgbm:[2900]\tvalid's l1: 1712.65\n",
            "DEBUG:lightautoml.ml_algo.boost_lgbm:[3000]\tvalid's l1: 1710.99\n",
            "DEBUG:lightautoml.ml_algo.boost_lgbm:Did not meet early stopping. Best iteration is:\n",
            "[3000]\tvalid's l1: 1710.99\n",
            "INFO2:lightautoml.ml_algo.base:===== Start working with \u001b[1mfold 1\u001b[0m for \u001b[1mLvl_0_Pipe_0_Mod_2_LightGBM\u001b[0m =====\n",
            "INFO3:lightautoml.ml_algo.boost_lgbm:[LightGBM] [Warning] seed is set=2, random_state=42 will be ignored. Current value: seed=2\n",
            "INFO3:lightautoml.ml_algo.boost_lgbm:Training until validation scores don't improve for 100 rounds\n",
            "DEBUG:lightautoml.ml_algo.boost_lgbm:[100]\tvalid's l1: 2166.7\n",
            "DEBUG:lightautoml.ml_algo.boost_lgbm:[200]\tvalid's l1: 1989.93\n",
            "DEBUG:lightautoml.ml_algo.boost_lgbm:[300]\tvalid's l1: 1925.95\n",
            "DEBUG:lightautoml.ml_algo.boost_lgbm:[400]\tvalid's l1: 1891.67\n",
            "DEBUG:lightautoml.ml_algo.boost_lgbm:[500]\tvalid's l1: 1870.41\n",
            "DEBUG:lightautoml.ml_algo.boost_lgbm:[600]\tvalid's l1: 1854.75\n",
            "DEBUG:lightautoml.ml_algo.boost_lgbm:[700]\tvalid's l1: 1842.89\n",
            "DEBUG:lightautoml.ml_algo.boost_lgbm:[800]\tvalid's l1: 1833.28\n",
            "DEBUG:lightautoml.ml_algo.boost_lgbm:[900]\tvalid's l1: 1824.15\n",
            "DEBUG:lightautoml.ml_algo.boost_lgbm:[1000]\tvalid's l1: 1816.91\n",
            "DEBUG:lightautoml.ml_algo.boost_lgbm:[1100]\tvalid's l1: 1811\n",
            "DEBUG:lightautoml.ml_algo.boost_lgbm:[1200]\tvalid's l1: 1804.51\n",
            "DEBUG:lightautoml.ml_algo.boost_lgbm:[1300]\tvalid's l1: 1801.2\n",
            "DEBUG:lightautoml.ml_algo.boost_lgbm:[1400]\tvalid's l1: 1795.68\n",
            "DEBUG:lightautoml.ml_algo.boost_lgbm:[1500]\tvalid's l1: 1792.72\n",
            "DEBUG:lightautoml.ml_algo.boost_lgbm:[1600]\tvalid's l1: 1788.09\n",
            "DEBUG:lightautoml.ml_algo.boost_lgbm:[1700]\tvalid's l1: 1784.19\n",
            "DEBUG:lightautoml.ml_algo.boost_lgbm:[1800]\tvalid's l1: 1779.89\n",
            "DEBUG:lightautoml.ml_algo.boost_lgbm:[1900]\tvalid's l1: 1777.21\n",
            "DEBUG:lightautoml.ml_algo.boost_lgbm:[2000]\tvalid's l1: 1775.59\n",
            "DEBUG:lightautoml.ml_algo.boost_lgbm:[2100]\tvalid's l1: 1773.53\n",
            "DEBUG:lightautoml.ml_algo.boost_lgbm:[2200]\tvalid's l1: 1770.69\n",
            "DEBUG:lightautoml.ml_algo.boost_lgbm:[2300]\tvalid's l1: 1767.92\n",
            "DEBUG:lightautoml.ml_algo.boost_lgbm:[2400]\tvalid's l1: 1764.57\n",
            "DEBUG:lightautoml.ml_algo.boost_lgbm:[2500]\tvalid's l1: 1762.5\n",
            "DEBUG:lightautoml.ml_algo.boost_lgbm:[2600]\tvalid's l1: 1759.53\n",
            "DEBUG:lightautoml.ml_algo.boost_lgbm:[2700]\tvalid's l1: 1757.22\n",
            "DEBUG:lightautoml.ml_algo.boost_lgbm:[2800]\tvalid's l1: 1755.29\n",
            "DEBUG:lightautoml.ml_algo.boost_lgbm:[2900]\tvalid's l1: 1753.97\n",
            "DEBUG:lightautoml.ml_algo.boost_lgbm:[3000]\tvalid's l1: 1752.41\n",
            "DEBUG:lightautoml.ml_algo.boost_lgbm:Did not meet early stopping. Best iteration is:\n",
            "[3000]\tvalid's l1: 1752.41\n",
            "INFO2:lightautoml.ml_algo.base:===== Start working with \u001b[1mfold 2\u001b[0m for \u001b[1mLvl_0_Pipe_0_Mod_2_LightGBM\u001b[0m =====\n",
            "INFO3:lightautoml.ml_algo.boost_lgbm:[LightGBM] [Warning] seed is set=2, random_state=42 will be ignored. Current value: seed=2\n",
            "INFO3:lightautoml.ml_algo.boost_lgbm:Training until validation scores don't improve for 100 rounds\n",
            "DEBUG:lightautoml.ml_algo.boost_lgbm:[100]\tvalid's l1: 2177.4\n",
            "DEBUG:lightautoml.ml_algo.boost_lgbm:[200]\tvalid's l1: 2005.58\n",
            "DEBUG:lightautoml.ml_algo.boost_lgbm:[300]\tvalid's l1: 1937.76\n",
            "DEBUG:lightautoml.ml_algo.boost_lgbm:[400]\tvalid's l1: 1899.18\n",
            "DEBUG:lightautoml.ml_algo.boost_lgbm:[500]\tvalid's l1: 1876.22\n",
            "DEBUG:lightautoml.ml_algo.boost_lgbm:[600]\tvalid's l1: 1860.74\n",
            "DEBUG:lightautoml.ml_algo.boost_lgbm:[700]\tvalid's l1: 1847.95\n",
            "DEBUG:lightautoml.ml_algo.boost_lgbm:[800]\tvalid's l1: 1838.02\n",
            "DEBUG:lightautoml.ml_algo.boost_lgbm:[900]\tvalid's l1: 1827.09\n",
            "DEBUG:lightautoml.ml_algo.boost_lgbm:[1000]\tvalid's l1: 1819.38\n",
            "DEBUG:lightautoml.ml_algo.boost_lgbm:[1100]\tvalid's l1: 1813.24\n",
            "DEBUG:lightautoml.ml_algo.boost_lgbm:[1200]\tvalid's l1: 1808.86\n",
            "DEBUG:lightautoml.ml_algo.boost_lgbm:[1300]\tvalid's l1: 1805.34\n",
            "DEBUG:lightautoml.ml_algo.boost_lgbm:[1400]\tvalid's l1: 1801.97\n",
            "DEBUG:lightautoml.ml_algo.boost_lgbm:[1500]\tvalid's l1: 1798.76\n",
            "DEBUG:lightautoml.ml_algo.boost_lgbm:[1600]\tvalid's l1: 1795.71\n",
            "DEBUG:lightautoml.ml_algo.boost_lgbm:[1700]\tvalid's l1: 1791.69\n",
            "DEBUG:lightautoml.ml_algo.boost_lgbm:[1800]\tvalid's l1: 1788.78\n",
            "DEBUG:lightautoml.ml_algo.boost_lgbm:[1900]\tvalid's l1: 1786.52\n",
            "DEBUG:lightautoml.ml_algo.boost_lgbm:[2000]\tvalid's l1: 1784.36\n",
            "DEBUG:lightautoml.ml_algo.boost_lgbm:[2100]\tvalid's l1: 1781.68\n",
            "DEBUG:lightautoml.ml_algo.boost_lgbm:[2200]\tvalid's l1: 1779.03\n",
            "DEBUG:lightautoml.ml_algo.boost_lgbm:[2300]\tvalid's l1: 1776.18\n",
            "DEBUG:lightautoml.ml_algo.boost_lgbm:[2400]\tvalid's l1: 1773.1\n",
            "DEBUG:lightautoml.ml_algo.boost_lgbm:[2500]\tvalid's l1: 1771.2\n",
            "DEBUG:lightautoml.ml_algo.boost_lgbm:[2600]\tvalid's l1: 1769.4\n",
            "DEBUG:lightautoml.ml_algo.boost_lgbm:[2700]\tvalid's l1: 1765.36\n",
            "DEBUG:lightautoml.ml_algo.boost_lgbm:[2800]\tvalid's l1: 1764.16\n",
            "DEBUG:lightautoml.ml_algo.boost_lgbm:[2900]\tvalid's l1: 1762.1\n",
            "DEBUG:lightautoml.ml_algo.boost_lgbm:[3000]\tvalid's l1: 1760.53\n",
            "DEBUG:lightautoml.ml_algo.boost_lgbm:Did not meet early stopping. Best iteration is:\n",
            "[3000]\tvalid's l1: 1760.53\n",
            "INFO2:lightautoml.ml_algo.base:===== Start working with \u001b[1mfold 3\u001b[0m for \u001b[1mLvl_0_Pipe_0_Mod_2_LightGBM\u001b[0m =====\n",
            "INFO3:lightautoml.ml_algo.boost_lgbm:[LightGBM] [Warning] seed is set=2, random_state=42 will be ignored. Current value: seed=2\n",
            "INFO3:lightautoml.ml_algo.boost_lgbm:Training until validation scores don't improve for 100 rounds\n",
            "DEBUG:lightautoml.ml_algo.boost_lgbm:[100]\tvalid's l1: 2209.56\n",
            "DEBUG:lightautoml.ml_algo.boost_lgbm:[200]\tvalid's l1: 2022.05\n",
            "DEBUG:lightautoml.ml_algo.boost_lgbm:[300]\tvalid's l1: 1953.87\n",
            "DEBUG:lightautoml.ml_algo.boost_lgbm:[400]\tvalid's l1: 1917.66\n",
            "DEBUG:lightautoml.ml_algo.boost_lgbm:[500]\tvalid's l1: 1894.94\n",
            "DEBUG:lightautoml.ml_algo.boost_lgbm:[600]\tvalid's l1: 1878.77\n",
            "DEBUG:lightautoml.ml_algo.boost_lgbm:[700]\tvalid's l1: 1865.69\n",
            "DEBUG:lightautoml.ml_algo.boost_lgbm:[800]\tvalid's l1: 1855.59\n",
            "DEBUG:lightautoml.ml_algo.boost_lgbm:[900]\tvalid's l1: 1845.36\n",
            "DEBUG:lightautoml.ml_algo.boost_lgbm:[1000]\tvalid's l1: 1839.96\n",
            "DEBUG:lightautoml.ml_algo.boost_lgbm:[1100]\tvalid's l1: 1833.98\n",
            "DEBUG:lightautoml.ml_algo.boost_lgbm:[1200]\tvalid's l1: 1828.41\n",
            "DEBUG:lightautoml.ml_algo.boost_lgbm:[1300]\tvalid's l1: 1822.68\n",
            "DEBUG:lightautoml.ml_algo.boost_lgbm:[1400]\tvalid's l1: 1818.61\n",
            "DEBUG:lightautoml.ml_algo.boost_lgbm:[1500]\tvalid's l1: 1815.96\n",
            "DEBUG:lightautoml.ml_algo.boost_lgbm:[1600]\tvalid's l1: 1812.24\n",
            "DEBUG:lightautoml.ml_algo.boost_lgbm:[1700]\tvalid's l1: 1809.1\n",
            "DEBUG:lightautoml.ml_algo.boost_lgbm:[1800]\tvalid's l1: 1804.99\n",
            "DEBUG:lightautoml.ml_algo.boost_lgbm:[1900]\tvalid's l1: 1802.25\n",
            "DEBUG:lightautoml.ml_algo.boost_lgbm:[2000]\tvalid's l1: 1799.67\n",
            "DEBUG:lightautoml.ml_algo.boost_lgbm:[2100]\tvalid's l1: 1795.61\n",
            "DEBUG:lightautoml.ml_algo.boost_lgbm:[2200]\tvalid's l1: 1792.66\n",
            "DEBUG:lightautoml.ml_algo.boost_lgbm:[2300]\tvalid's l1: 1788.55\n",
            "DEBUG:lightautoml.ml_algo.boost_lgbm:[2400]\tvalid's l1: 1786.32\n",
            "DEBUG:lightautoml.ml_algo.boost_lgbm:[2500]\tvalid's l1: 1783.8\n",
            "DEBUG:lightautoml.ml_algo.boost_lgbm:[2600]\tvalid's l1: 1781.31\n",
            "DEBUG:lightautoml.ml_algo.boost_lgbm:[2700]\tvalid's l1: 1778.92\n",
            "DEBUG:lightautoml.ml_algo.boost_lgbm:[2800]\tvalid's l1: 1776.64\n",
            "DEBUG:lightautoml.ml_algo.boost_lgbm:[2900]\tvalid's l1: 1773.88\n",
            "DEBUG:lightautoml.ml_algo.boost_lgbm:[3000]\tvalid's l1: 1771.01\n",
            "DEBUG:lightautoml.ml_algo.boost_lgbm:Did not meet early stopping. Best iteration is:\n",
            "[3000]\tvalid's l1: 1771.01\n",
            "INFO2:lightautoml.ml_algo.base:===== Start working with \u001b[1mfold 4\u001b[0m for \u001b[1mLvl_0_Pipe_0_Mod_2_LightGBM\u001b[0m =====\n",
            "INFO3:lightautoml.ml_algo.boost_lgbm:[LightGBM] [Warning] seed is set=2, random_state=42 will be ignored. Current value: seed=2\n",
            "INFO3:lightautoml.ml_algo.boost_lgbm:Training until validation scores don't improve for 100 rounds\n",
            "DEBUG:lightautoml.ml_algo.boost_lgbm:[100]\tvalid's l1: 2147.81\n",
            "DEBUG:lightautoml.ml_algo.boost_lgbm:[200]\tvalid's l1: 1967.1\n",
            "DEBUG:lightautoml.ml_algo.boost_lgbm:[300]\tvalid's l1: 1905.3\n",
            "DEBUG:lightautoml.ml_algo.boost_lgbm:[400]\tvalid's l1: 1873.32\n",
            "DEBUG:lightautoml.ml_algo.boost_lgbm:[500]\tvalid's l1: 1850.3\n",
            "DEBUG:lightautoml.ml_algo.boost_lgbm:[600]\tvalid's l1: 1834.83\n",
            "DEBUG:lightautoml.ml_algo.boost_lgbm:[700]\tvalid's l1: 1823.86\n",
            "DEBUG:lightautoml.ml_algo.boost_lgbm:[800]\tvalid's l1: 1814.2\n",
            "DEBUG:lightautoml.ml_algo.boost_lgbm:[900]\tvalid's l1: 1804.61\n",
            "DEBUG:lightautoml.ml_algo.boost_lgbm:[1000]\tvalid's l1: 1796.21\n",
            "DEBUG:lightautoml.ml_algo.boost_lgbm:[1100]\tvalid's l1: 1789.35\n",
            "DEBUG:lightautoml.ml_algo.boost_lgbm:[1200]\tvalid's l1: 1783.9\n",
            "DEBUG:lightautoml.ml_algo.boost_lgbm:[1300]\tvalid's l1: 1777.74\n",
            "DEBUG:lightautoml.ml_algo.boost_lgbm:[1400]\tvalid's l1: 1772.75\n",
            "DEBUG:lightautoml.ml_algo.boost_lgbm:[1500]\tvalid's l1: 1769.51\n",
            "DEBUG:lightautoml.ml_algo.boost_lgbm:[1600]\tvalid's l1: 1765.8\n",
            "DEBUG:lightautoml.ml_algo.boost_lgbm:[1700]\tvalid's l1: 1762.39\n",
            "DEBUG:lightautoml.ml_algo.boost_lgbm:[1800]\tvalid's l1: 1760.27\n",
            "DEBUG:lightautoml.ml_algo.boost_lgbm:[1900]\tvalid's l1: 1757.78\n",
            "DEBUG:lightautoml.ml_algo.boost_lgbm:[2000]\tvalid's l1: 1754.74\n",
            "DEBUG:lightautoml.ml_algo.boost_lgbm:[2100]\tvalid's l1: 1751.92\n",
            "DEBUG:lightautoml.ml_algo.boost_lgbm:[2200]\tvalid's l1: 1748.44\n",
            "DEBUG:lightautoml.ml_algo.boost_lgbm:[2300]\tvalid's l1: 1746.56\n",
            "DEBUG:lightautoml.ml_algo.boost_lgbm:[2400]\tvalid's l1: 1744.11\n",
            "DEBUG:lightautoml.ml_algo.boost_lgbm:[2500]\tvalid's l1: 1741.76\n",
            "DEBUG:lightautoml.ml_algo.boost_lgbm:[2600]\tvalid's l1: 1739.4\n",
            "DEBUG:lightautoml.ml_algo.boost_lgbm:[2700]\tvalid's l1: 1737.75\n",
            "DEBUG:lightautoml.ml_algo.boost_lgbm:[2800]\tvalid's l1: 1735.68\n",
            "DEBUG:lightautoml.ml_algo.boost_lgbm:[2900]\tvalid's l1: 1734.23\n",
            "DEBUG:lightautoml.ml_algo.boost_lgbm:[3000]\tvalid's l1: 1732.04\n",
            "DEBUG:lightautoml.ml_algo.boost_lgbm:Did not meet early stopping. Best iteration is:\n",
            "[3000]\tvalid's l1: 1732.04\n",
            "INFO:lightautoml.ml_algo.base:Fitting \u001b[1mLvl_0_Pipe_0_Mod_2_LightGBM\u001b[0m finished. score = \u001b[1m-1745.395239488655\u001b[0m\n",
            "INFO:lightautoml.ml_algo.base:\u001b[1mLvl_0_Pipe_0_Mod_2_LightGBM\u001b[0m fitting and predicting completed\n",
            "INFO:lightautoml.automl.base:Time left 9999999696.76 secs\n",
            "\n",
            "INFO:lightautoml.automl.base:\u001b[1mLayer 1 training completed.\u001b[0m\n",
            "\n",
            "INFO:lightautoml.automl.base:Layer \u001b[1m2\u001b[0m train process start. Time left 9999999696.75 secs\n",
            "INFO:lightautoml.ml_algo.base:Start fitting \u001b[1mLvl_1_Pipe_0_Mod_0_LinearL2\u001b[0m ...\n",
            "DEBUG:lightautoml.ml_algo.base:Training params: {'tol': 1e-06, 'max_iter': 100, 'cs': [0.01, 0.1, 0.5], 'early_stopping': 5, 'categorical_idx': [], 'embed_sizes': (), 'data_size': 2}\n",
            "INFO2:lightautoml.ml_algo.base:===== Start working with \u001b[1mfold 0\u001b[0m for \u001b[1mLvl_1_Pipe_0_Mod_0_LinearL2\u001b[0m =====\n",
            "INFO3:lightautoml.ml_algo.torch_based.linear_model:Linear model: C = 0.01 score = -1549.0314770976652\n",
            "INFO3:lightautoml.ml_algo.torch_based.linear_model:Linear model: C = 0.1 score = -1549.0314770976652\n",
            "INFO3:lightautoml.ml_algo.torch_based.linear_model:Linear model: C = 0.5 score = -1549.0314770976652\n",
            "INFO2:lightautoml.ml_algo.base:===== Start working with \u001b[1mfold 1\u001b[0m for \u001b[1mLvl_1_Pipe_0_Mod_0_LinearL2\u001b[0m =====\n",
            "INFO3:lightautoml.ml_algo.torch_based.linear_model:Linear model: C = 0.01 score = -1588.5280930629406\n",
            "INFO3:lightautoml.ml_algo.torch_based.linear_model:Linear model: C = 0.1 score = -1588.5280586491824\n",
            "INFO3:lightautoml.ml_algo.torch_based.linear_model:Linear model: C = 0.5 score = -1588.5280586491824\n",
            "INFO2:lightautoml.ml_algo.base:===== Start working with \u001b[1mfold 2\u001b[0m for \u001b[1mLvl_1_Pipe_0_Mod_0_LinearL2\u001b[0m =====\n",
            "INFO3:lightautoml.ml_algo.torch_based.linear_model:Linear model: C = 0.01 score = -1582.894819360492\n",
            "INFO3:lightautoml.ml_algo.torch_based.linear_model:Linear model: C = 0.1 score = -1582.8939547860327\n",
            "INFO3:lightautoml.ml_algo.torch_based.linear_model:Linear model: C = 0.5 score = -1582.8939547860327\n",
            "INFO2:lightautoml.ml_algo.base:===== Start working with \u001b[1mfold 3\u001b[0m for \u001b[1mLvl_1_Pipe_0_Mod_0_LinearL2\u001b[0m =====\n",
            "INFO3:lightautoml.ml_algo.torch_based.linear_model:Linear model: C = 0.01 score = -1593.9728223731738\n",
            "INFO3:lightautoml.ml_algo.torch_based.linear_model:Linear model: C = 0.1 score = -1593.9728223731738\n",
            "INFO3:lightautoml.ml_algo.torch_based.linear_model:Linear model: C = 0.5 score = -1593.9728223731738\n",
            "INFO2:lightautoml.ml_algo.base:===== Start working with \u001b[1mfold 4\u001b[0m for \u001b[1mLvl_1_Pipe_0_Mod_0_LinearL2\u001b[0m =====\n",
            "INFO3:lightautoml.ml_algo.torch_based.linear_model:Linear model: C = 0.01 score = -1548.3842095318196\n",
            "INFO3:lightautoml.ml_algo.torch_based.linear_model:Linear model: C = 0.1 score = -1548.3824989844727\n",
            "INFO3:lightautoml.ml_algo.torch_based.linear_model:Linear model: C = 0.5 score = -1548.3824989844727\n",
            "INFO:lightautoml.ml_algo.base:Fitting \u001b[1mLvl_1_Pipe_0_Mod_0_LinearL2\u001b[0m finished. score = \u001b[1m-1572.5617623781054\u001b[0m\n",
            "INFO:lightautoml.ml_algo.base:\u001b[1mLvl_1_Pipe_0_Mod_0_LinearL2\u001b[0m fitting and predicting completed\n",
            "INFO:lightautoml.automl.base:Time left 9999999696.12 secs\n",
            "\n",
            "INFO:lightautoml.automl.base:\u001b[1mLayer 2 training completed.\u001b[0m\n",
            "\n"
          ]
        },
        {
          "output_type": "stream",
          "name": "stdout",
          "text": [
            "oof_pred:\n",
            "array([[ 4877.611  ],\n",
            "       [ 5791.3823 ],\n",
            "       [ 9835.39   ],\n",
            "       ...,\n",
            "       [15651.182  ],\n",
            "       [12102.492  ],\n",
            "       [  515.97394]], dtype=float32)\n",
            "Shape = (34995, 1)\n",
            "CPU times: user 8min 5s, sys: 6.91 s, total: 8min 12s\n",
            "Wall time: 5min 3s\n"
          ]
        }
      ]
    },
    {
      "cell_type": "code",
      "source": [
        "print('Feature importances of selector:\\n{}'\n",
        "              .format(selector.get_features_score()))\n",
        "print('=' * 70)\n",
        "\n",
        "# print('Feature importances of top level algorithm:\\n{}'\n",
        "#               .format(automl.levels[-1][0].ml_algos[0].get_features_score()))\n",
        "# print('=' * 70)\n",
        "\n",
        "print('Feature importances of lowest level algorithm - model 0:\\n{}'\n",
        "              .format(automl.levels[0][0].ml_algos[0].get_features_score()))\n",
        "print('=' * 70)\n",
        "\n",
        "print('Feature importances of lowest level algorithm - model 1:\\n{}'\n",
        "              .format(automl.levels[0][0].ml_algos[1].get_features_score()))\n",
        "print('=' * 70)"
      ],
      "metadata": {
        "id": "GxDK2LpoEULg",
        "colab": {
          "base_uri": "https://localhost:8080/"
        },
        "outputId": "323dcd2c-ddf9-4dd4-ec2c-eb04dd37f387"
      },
      "id": "GxDK2LpoEULg",
      "execution_count": 125,
      "outputs": [
        {
          "output_type": "stream",
          "name": "stdout",
          "text": [
            "Feature importances of selector:\n",
            "car_vin                   1.165299e+06\n",
            "car_cond                  6.546084e+05\n",
            "current_mileage           6.208381e+05\n",
            "car_vds                   4.689671e+05\n",
            "vehicle_year              3.012286e+05\n",
            "vehicle_color             2.209886e+05\n",
            "vehicle_model             1.908629e+05\n",
            "vehicle_manufacturer      1.467930e+05\n",
            "country                   9.896019e+04\n",
            "vehicle_category          9.880578e+04\n",
            "vehicle_interior_color    5.914377e+04\n",
            "vehicle_gearbox_type      1.844638e+04\n",
            "car_leather_interior      1.029519e+04\n",
            "wheels                    9.261094e+03\n",
            "doors_cnt                 8.954682e+03\n",
            "spec_col_out              1.506300e+03\n",
            "spec_col_int              9.966428e+02\n",
            "dtype: float64\n",
            "======================================================================\n",
            "Feature importances of lowest level algorithm - model 0:\n",
            "ord__car_vin                   1.399363e+06\n",
            "car_cond                       9.531347e+05\n",
            "current_mileage                8.641445e+05\n",
            "ord__car_vds                   6.394264e+05\n",
            "vehicle_year                   3.955804e+05\n",
            "ord__vehicle_color             3.309052e+05\n",
            "ord__vehicle_model             2.925531e+05\n",
            "ord__vehicle_manufacturer      2.023900e+05\n",
            "ord__country                   1.625334e+05\n",
            "ord__vehicle_category          1.305952e+05\n",
            "ord__vehicle_interior_color    8.283436e+04\n",
            "ord__vehicle_gearbox_type      2.313397e+04\n",
            "ord__doors_cnt                 1.522000e+04\n",
            "car_leather_interior           1.361580e+04\n",
            "ord__wheels                    8.635482e+03\n",
            "spec_col_out                   2.395920e+03\n",
            "spec_col_int                   1.826484e+03\n",
            "dtype: float64\n",
            "======================================================================\n",
            "Feature importances of lowest level algorithm - model 1:\n",
            "ord__car_vin                   1.218578e+06\n",
            "car_cond                       6.937856e+05\n",
            "current_mileage                6.240593e+05\n",
            "ord__car_vds                   4.800468e+05\n",
            "vehicle_year                   3.491355e+05\n",
            "ord__vehicle_model             2.350292e+05\n",
            "ord__vehicle_color             2.289663e+05\n",
            "ord__vehicle_manufacturer      1.790453e+05\n",
            "ord__vehicle_category          1.111267e+05\n",
            "ord__country                   1.095002e+05\n",
            "ord__vehicle_interior_color    8.484796e+04\n",
            "ord__vehicle_gearbox_type      2.804183e+04\n",
            "ord__wheels                    1.778541e+04\n",
            "car_leather_interior           1.574863e+04\n",
            "ord__doors_cnt                 1.036415e+04\n",
            "spec_col_out                   2.377266e+03\n",
            "spec_col_int                   1.741322e+03\n",
            "dtype: float64\n",
            "======================================================================\n"
          ]
        }
      ]
    },
    {
      "cell_type": "code",
      "source": [
        "%%time\n",
        "\n",
        "print('OOF score: {}'.format(mean_absolute_error(train_data['final_price'].values, oof_pred.data[:, 0])))"
      ],
      "metadata": {
        "id": "LMi-bC_KEUo6",
        "colab": {
          "base_uri": "https://localhost:8080/"
        },
        "outputId": "f949c20a-e170-4535-a194-fa9795d0ff1e"
      },
      "id": "LMi-bC_KEUo6",
      "execution_count": 126,
      "outputs": [
        {
          "output_type": "stream",
          "name": "stdout",
          "text": [
            "OOF score: 1572.5617623781054\n",
            "CPU times: user 2.67 ms, sys: 12 µs, total: 2.68 ms\n",
            "Wall time: 8.43 ms\n"
          ]
        }
      ]
    },
    {
      "cell_type": "code",
      "source": [
        "test_pred = automl.predict(test_data)"
      ],
      "metadata": {
        "id": "l64xVk4OEX4V"
      },
      "id": "l64xVk4OEX4V",
      "execution_count": 127,
      "outputs": []
    },
    {
      "cell_type": "code",
      "source": [],
      "metadata": {
        "id": "IW6b-Y-lEYax"
      },
      "id": "IW6b-Y-lEYax",
      "execution_count": null,
      "outputs": []
    },
    {
      "cell_type": "code",
      "source": [],
      "metadata": {
        "id": "Ksas996gEYw9"
      },
      "id": "Ksas996gEYw9",
      "execution_count": null,
      "outputs": []
    },
    {
      "cell_type": "markdown",
      "source": [
        "#Решение для Kaggle"
      ],
      "metadata": {
        "id": "w89Bv6leEdFM"
      },
      "id": "w89Bv6leEdFM"
    },
    {
      "cell_type": "code",
      "source": [
        "submission = pd.read_csv('./sample_submission.csv')\n",
        "submission['final_price'] = test_pred.data[:, 0]\n",
        "submission.head()"
      ],
      "metadata": {
        "id": "9dz_PtOUEfrx",
        "colab": {
          "base_uri": "https://localhost:8080/",
          "height": 206
        },
        "outputId": "0f0f2f4c-a8ab-473b-ee20-7630e022d0ec"
      },
      "id": "9dz_PtOUEfrx",
      "execution_count": 128,
      "outputs": [
        {
          "output_type": "execute_result",
          "data": {
            "text/plain": [
              "   row_ID  final_price\n",
              "0   35000  2872.695801\n",
              "1   35001  6224.110840\n",
              "2   35002  4430.180176\n",
              "3   35003  3944.276855\n",
              "4   35004  4487.229492"
            ],
            "text/html": [
              "\n",
              "\n",
              "  <div id=\"df-60f5733f-6fb8-4162-a9d0-903698c9d972\">\n",
              "    <div class=\"colab-df-container\">\n",
              "      <div>\n",
              "<style scoped>\n",
              "    .dataframe tbody tr th:only-of-type {\n",
              "        vertical-align: middle;\n",
              "    }\n",
              "\n",
              "    .dataframe tbody tr th {\n",
              "        vertical-align: top;\n",
              "    }\n",
              "\n",
              "    .dataframe thead th {\n",
              "        text-align: right;\n",
              "    }\n",
              "</style>\n",
              "<table border=\"1\" class=\"dataframe\">\n",
              "  <thead>\n",
              "    <tr style=\"text-align: right;\">\n",
              "      <th></th>\n",
              "      <th>row_ID</th>\n",
              "      <th>final_price</th>\n",
              "    </tr>\n",
              "  </thead>\n",
              "  <tbody>\n",
              "    <tr>\n",
              "      <th>0</th>\n",
              "      <td>35000</td>\n",
              "      <td>2872.695801</td>\n",
              "    </tr>\n",
              "    <tr>\n",
              "      <th>1</th>\n",
              "      <td>35001</td>\n",
              "      <td>6224.110840</td>\n",
              "    </tr>\n",
              "    <tr>\n",
              "      <th>2</th>\n",
              "      <td>35002</td>\n",
              "      <td>4430.180176</td>\n",
              "    </tr>\n",
              "    <tr>\n",
              "      <th>3</th>\n",
              "      <td>35003</td>\n",
              "      <td>3944.276855</td>\n",
              "    </tr>\n",
              "    <tr>\n",
              "      <th>4</th>\n",
              "      <td>35004</td>\n",
              "      <td>4487.229492</td>\n",
              "    </tr>\n",
              "  </tbody>\n",
              "</table>\n",
              "</div>\n",
              "      <button class=\"colab-df-convert\" onclick=\"convertToInteractive('df-60f5733f-6fb8-4162-a9d0-903698c9d972')\"\n",
              "              title=\"Convert this dataframe to an interactive table.\"\n",
              "              style=\"display:none;\">\n",
              "\n",
              "  <svg xmlns=\"http://www.w3.org/2000/svg\" height=\"24px\"viewBox=\"0 0 24 24\"\n",
              "       width=\"24px\">\n",
              "    <path d=\"M0 0h24v24H0V0z\" fill=\"none\"/>\n",
              "    <path d=\"M18.56 5.44l.94 2.06.94-2.06 2.06-.94-2.06-.94-.94-2.06-.94 2.06-2.06.94zm-11 1L8.5 8.5l.94-2.06 2.06-.94-2.06-.94L8.5 2.5l-.94 2.06-2.06.94zm10 10l.94 2.06.94-2.06 2.06-.94-2.06-.94-.94-2.06-.94 2.06-2.06.94z\"/><path d=\"M17.41 7.96l-1.37-1.37c-.4-.4-.92-.59-1.43-.59-.52 0-1.04.2-1.43.59L10.3 9.45l-7.72 7.72c-.78.78-.78 2.05 0 2.83L4 21.41c.39.39.9.59 1.41.59.51 0 1.02-.2 1.41-.59l7.78-7.78 2.81-2.81c.8-.78.8-2.07 0-2.86zM5.41 20L4 18.59l7.72-7.72 1.47 1.35L5.41 20z\"/>\n",
              "  </svg>\n",
              "      </button>\n",
              "\n",
              "\n",
              "\n",
              "    <div id=\"df-558c5e00-14a3-4a27-a8c9-5c2b7601c547\">\n",
              "      <button class=\"colab-df-quickchart\" onclick=\"quickchart('df-558c5e00-14a3-4a27-a8c9-5c2b7601c547')\"\n",
              "              title=\"Suggest charts.\"\n",
              "              style=\"display:none;\">\n",
              "\n",
              "<svg xmlns=\"http://www.w3.org/2000/svg\" height=\"24px\"viewBox=\"0 0 24 24\"\n",
              "     width=\"24px\">\n",
              "    <g>\n",
              "        <path d=\"M19 3H5c-1.1 0-2 .9-2 2v14c0 1.1.9 2 2 2h14c1.1 0 2-.9 2-2V5c0-1.1-.9-2-2-2zM9 17H7v-7h2v7zm4 0h-2V7h2v10zm4 0h-2v-4h2v4z\"/>\n",
              "    </g>\n",
              "</svg>\n",
              "      </button>\n",
              "    </div>\n",
              "\n",
              "<style>\n",
              "  .colab-df-quickchart {\n",
              "    background-color: #E8F0FE;\n",
              "    border: none;\n",
              "    border-radius: 50%;\n",
              "    cursor: pointer;\n",
              "    display: none;\n",
              "    fill: #1967D2;\n",
              "    height: 32px;\n",
              "    padding: 0 0 0 0;\n",
              "    width: 32px;\n",
              "  }\n",
              "\n",
              "  .colab-df-quickchart:hover {\n",
              "    background-color: #E2EBFA;\n",
              "    box-shadow: 0px 1px 2px rgba(60, 64, 67, 0.3), 0px 1px 3px 1px rgba(60, 64, 67, 0.15);\n",
              "    fill: #174EA6;\n",
              "  }\n",
              "\n",
              "  [theme=dark] .colab-df-quickchart {\n",
              "    background-color: #3B4455;\n",
              "    fill: #D2E3FC;\n",
              "  }\n",
              "\n",
              "  [theme=dark] .colab-df-quickchart:hover {\n",
              "    background-color: #434B5C;\n",
              "    box-shadow: 0px 1px 3px 1px rgba(0, 0, 0, 0.15);\n",
              "    filter: drop-shadow(0px 1px 2px rgba(0, 0, 0, 0.3));\n",
              "    fill: #FFFFFF;\n",
              "  }\n",
              "</style>\n",
              "\n",
              "    <script>\n",
              "      async function quickchart(key) {\n",
              "        const containerElement = document.querySelector('#' + key);\n",
              "        const charts = await google.colab.kernel.invokeFunction(\n",
              "            'suggestCharts', [key], {});\n",
              "      }\n",
              "    </script>\n",
              "\n",
              "      <script>\n",
              "\n",
              "function displayQuickchartButton(domScope) {\n",
              "  let quickchartButtonEl =\n",
              "    domScope.querySelector('#df-558c5e00-14a3-4a27-a8c9-5c2b7601c547 button.colab-df-quickchart');\n",
              "  quickchartButtonEl.style.display =\n",
              "    google.colab.kernel.accessAllowed ? 'block' : 'none';\n",
              "}\n",
              "\n",
              "        displayQuickchartButton(document);\n",
              "      </script>\n",
              "      <style>\n",
              "    .colab-df-container {\n",
              "      display:flex;\n",
              "      flex-wrap:wrap;\n",
              "      gap: 12px;\n",
              "    }\n",
              "\n",
              "    .colab-df-convert {\n",
              "      background-color: #E8F0FE;\n",
              "      border: none;\n",
              "      border-radius: 50%;\n",
              "      cursor: pointer;\n",
              "      display: none;\n",
              "      fill: #1967D2;\n",
              "      height: 32px;\n",
              "      padding: 0 0 0 0;\n",
              "      width: 32px;\n",
              "    }\n",
              "\n",
              "    .colab-df-convert:hover {\n",
              "      background-color: #E2EBFA;\n",
              "      box-shadow: 0px 1px 2px rgba(60, 64, 67, 0.3), 0px 1px 3px 1px rgba(60, 64, 67, 0.15);\n",
              "      fill: #174EA6;\n",
              "    }\n",
              "\n",
              "    [theme=dark] .colab-df-convert {\n",
              "      background-color: #3B4455;\n",
              "      fill: #D2E3FC;\n",
              "    }\n",
              "\n",
              "    [theme=dark] .colab-df-convert:hover {\n",
              "      background-color: #434B5C;\n",
              "      box-shadow: 0px 1px 3px 1px rgba(0, 0, 0, 0.15);\n",
              "      filter: drop-shadow(0px 1px 2px rgba(0, 0, 0, 0.3));\n",
              "      fill: #FFFFFF;\n",
              "    }\n",
              "  </style>\n",
              "\n",
              "      <script>\n",
              "        const buttonEl =\n",
              "          document.querySelector('#df-60f5733f-6fb8-4162-a9d0-903698c9d972 button.colab-df-convert');\n",
              "        buttonEl.style.display =\n",
              "          google.colab.kernel.accessAllowed ? 'block' : 'none';\n",
              "\n",
              "        async function convertToInteractive(key) {\n",
              "          const element = document.querySelector('#df-60f5733f-6fb8-4162-a9d0-903698c9d972');\n",
              "          const dataTable =\n",
              "            await google.colab.kernel.invokeFunction('convertToInteractive',\n",
              "                                                     [key], {});\n",
              "          if (!dataTable) return;\n",
              "\n",
              "          const docLinkHtml = 'Like what you see? Visit the ' +\n",
              "            '<a target=\"_blank\" href=https://colab.research.google.com/notebooks/data_table.ipynb>data table notebook</a>'\n",
              "            + ' to learn more about interactive tables.';\n",
              "          element.innerHTML = '';\n",
              "          dataTable['output_type'] = 'display_data';\n",
              "          await google.colab.output.renderOutput(dataTable, element);\n",
              "          const docLink = document.createElement('div');\n",
              "          docLink.innerHTML = docLinkHtml;\n",
              "          element.appendChild(docLink);\n",
              "        }\n",
              "      </script>\n",
              "    </div>\n",
              "  </div>\n"
            ]
          },
          "metadata": {},
          "execution_count": 128
        }
      ]
    },
    {
      "cell_type": "code",
      "source": [
        "submission.to_csv('lightautoml_sample_submission.csv', index = False)"
      ],
      "metadata": {
        "id": "9wnXoxp4Emd6"
      },
      "id": "9wnXoxp4Emd6",
      "execution_count": 129,
      "outputs": []
    },
    {
      "cell_type": "code",
      "source": [],
      "metadata": {
        "id": "7R0r6nfg3yrg"
      },
      "id": "7R0r6nfg3yrg",
      "execution_count": null,
      "outputs": []
    }
  ],
  "metadata": {
    "kernelspec": {
      "display_name": "Python 3",
      "language": "python",
      "name": "python3"
    },
    "language_info": {
      "codemirror_mode": {
        "name": "ipython",
        "version": 3
      },
      "file_extension": ".py",
      "mimetype": "text/x-python",
      "name": "python",
      "nbconvert_exporter": "python",
      "pygments_lexer": "ipython3",
      "version": "3.7.10"
    },
    "papermill": {
      "default_parameters": {},
      "duration": 367.060212,
      "end_time": "2021-04-28T13:02:46.236491",
      "environment_variables": {},
      "exception": null,
      "input_path": "__notebook__.ipynb",
      "output_path": "__notebook__.ipynb",
      "parameters": {},
      "start_time": "2021-04-28T12:56:39.176279",
      "version": "2.3.3"
    },
    "colab": {
      "provenance": []
    }
  },
  "nbformat": 4,
  "nbformat_minor": 5
}